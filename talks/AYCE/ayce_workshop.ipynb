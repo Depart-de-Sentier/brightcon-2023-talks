{
 "cells": [
  {
   "cell_type": "markdown",
   "id": "881382cf-993e-4a8a-8f52-f6dfdb84fe77",
   "metadata": {},
   "source": [
    "# AYCE Calculation (Data Input & Output):\n",
    "\n",
    "* Author: Holger Finger & Manuel Klarmann\n",
    "* Kernel: `conference`\n",
    "* License: [CC-BY-SA-4.0](https://creativecommons.org/licenses/by-sa/4.0/)"
   ]
  },
  {
   "cell_type": "markdown",
   "id": "30c6178d-2d1a-49e0-a8cc-59a1a3171eca",
   "metadata": {},
   "source": [
    "In this simple example, we define a json of a \"Banana Jam\" product that we will send to the EOS server for calculation.\n",
    "\n",
    "If you want to run this later on your own, please make sure to install `ipycytoscape` in your python environment to vizualize the resulting LCA graph.\n",
    "\n",
    "For example, if you use pip, execute:\n",
    "```\n",
    "    pip install ipycytoscape\n",
    "```\n",
    "\n",
    "You can then click on nodes in the resulting graph to see the corresponding properties of that node."
   ]
  },
  {
   "cell_type": "code",
   "execution_count": null,
   "id": "df50bea7",
   "metadata": {},
   "outputs": [],
   "source": [
    "import uuid\n",
    "import requests\n",
    "from ipywidgets import HTML, HBox\n",
    "from ipycytoscape import CytoscapeWidget"
   ]
  },
  {
   "cell_type": "code",
   "execution_count": null,
   "id": "63701e89",
   "metadata": {},
   "outputs": [],
   "source": [
    "# Define a product as input using ingredients_declaration:\n",
    "banana_jam_json = {\n",
    "  \"date\": \"2023-09-06\",\n",
    "  \"names\": [\n",
    "    {\n",
    "      \"language\": \"en\",\n",
    "      \"value\": \"Banana Jam\"\n",
    "    }\n",
    "  ],\n",
    "  \"amount\": 100,\n",
    "  \"unit\": \"gram\",\n",
    "  \"ingredients_declaration\":  [\n",
    "    {\n",
    "      \"language\": \"en\",\n",
    "      \"value\": \"Bananas, Lemon Juice Concentrate\"\n",
    "    }\n",
    "  ],\n",
    "  \"nutrient_values\": {\n",
    "    \"energy_kcal\": 100,\n",
    "    \"fat_gram\": 0,\n",
    "    \"saturated_fat_gram\": 0,\n",
    "    \"carbohydrates_gram\": 25,\n",
    "    \"sucrose_gram\": 18,\n",
    "    \"protein_gram\": 0,\n",
    "    \"sodium_chloride_gram\": 0\n",
    "  },\n",
    "  \"location\": \"Switzerland\",\n",
    "}"
   ]
  },
  {
   "cell_type": "markdown",
   "id": "4078be8b-824c-455f-a4b5-7b6b74cc11cc",
   "metadata": {},
   "source": [
    "# Send to the EOS calculation engine\n",
    "This Python code sends product data for \"Banana Jam\" to the EOS calculation engine for environmental analysis. \n",
    "Ensure the required libraries and authentication tokens are set up before running the code."
   ]
  },
  {
   "cell_type": "code",
   "execution_count": null,
   "id": "e90c9076",
   "metadata": {},
   "outputs": [],
   "source": [
    "EOS_BASE_PATH = \"https://eos.eaternity.ch\"\n",
    "EOS_AUTH_TOKEN = \"443f45f4-1bbd-43ee-bc6d-9ce06584a217\"\n",
    "\n",
    "node_uid = uuid.uuid4()\n",
    "response = requests.put(\n",
    "    f\"{EOS_BASE_PATH}/v2/calculation/node-uid/{node_uid}?return_final_graph=true\",\n",
    "    json={\n",
    "        \"node\": {\n",
    "            \"node_type\": 'food_product',\n",
    "            \"props\": {\n",
    "                \"raw_input\": [{\n",
    "                    \"data\": banana_jam_json\n",
    "                }]\n",
    "            }\n",
    "        }\n",
    "    },\n",
    "    auth=requests.auth.HTTPBasicAuth(EOS_AUTH_TOKEN, '')\n",
    ")\n",
    "assert response.status_code == 200, f\"Error posting calculation: {response.text}, {response.status_code}\""
   ]
  },
  {
   "cell_type": "markdown",
   "id": "4f315274-875b-4428-8ecc-ce9e7ad3c466",
   "metadata": {},
   "source": [
    "# Print Result\n",
    "First print the overall calculated kg CO2eq value of the root node.\n",
    "\n",
    "Then also print potential `data_errors` that happened during the calculation."
   ]
  },
  {
   "cell_type": "code",
   "execution_count": null,
   "id": "5438e582-a515-4554-bcd5-338fd51ea134",
   "metadata": {},
   "outputs": [],
   "source": [
    "resp = response.json()\n",
    "root_node = resp[\"node\"]\n",
    "print(f\"kg co2eq: {root_node.get('co2-value')}\")\n",
    "\n",
    "print(\"\\ndata_errors: \")\n",
    "for line in resp.get(\"calculation\").get(\"data_errors\"):\n",
    "    print(\"\\n\"+line)"
   ]
  },
  {
   "cell_type": "markdown",
   "id": "9b6e0dfc-5a02-4c08-aea0-a5895f0b65c8",
   "metadata": {},
   "source": [
    "# Restructuring the LCA Graph for Display\n",
    "In this section, we are reformatting the LCA (Life Cycle Assessment) graph retrieved from the JSON response for later visualization in Cytoscape. \n",
    "\n",
    "The code organizes nodes and edges, assigns names and background colors to nodes, and creates connections between nodes for improved graph representation."
   ]
  },
  {
   "cell_type": "code",
   "execution_count": null,
   "id": "ffa0a521",
   "metadata": {},
   "outputs": [],
   "source": [
    "nodes = resp.get(\"calculation\").get(\"final_graph\")\n",
    "nodes_by_uid = { node[\"uid\"]: node for node in nodes }\n",
    "edges = []\n",
    "for node in nodes:\n",
    "    name = node[\"props\"].get(\"raw_input\", [{}])[0].get(\"data\", {}).get(\"names\", [{}])[0].get(\"value\")\n",
    "    if not name:\n",
    "        name = node[\"props\"].get(\"product_name\", [{}])[0].get(\"term_name\", \"\")\n",
    "    node['data'] = {\n",
    "        'id': node['uid'],\n",
    "        'name': name,\n",
    "        'bgcolor': 'green' if node[\"node_type\"] in (\n",
    "            'recipe', \n",
    "            'supply_list', \n",
    "            'food_product', \n",
    "            'brightway_process', \n",
    "            'emission') else \"red\"\n",
    "    }\n",
    "    for sub_node_uid in node['sub_node_uids']:\n",
    "        edges.append({\n",
    "            'data': {\n",
    "                'source': node.get('uid'),\n",
    "                'target': sub_node_uid\n",
    "            },\n",
    "        })"
   ]
  },
  {
   "cell_type": "markdown",
   "id": "09b690d9-2fc3-41ed-8f4a-90de6a440682",
   "metadata": {},
   "source": [
    "# Configuring and Visualizing the LCA Graph\n",
    "In this section, we configure the visualization of the LCA (Life Cycle Assessment) graph using Cytoscape. \n",
    "\n",
    "The code sets up the graph layout, style, and interaction features. \n",
    "Users can click on nodes to display their properties in a separate panel."
   ]
  },
  {
   "cell_type": "code",
   "execution_count": null,
   "id": "cfde2bb3-bb5d-4ee0-81af-bd11b5d4466b",
   "metadata": {},
   "outputs": [],
   "source": [
    "cyto = CytoscapeWidget(layout={\n",
    "    'border': '1px solid black'\n",
    "})\n",
    "cyto.graph.add_graph_from_json({\n",
    "    \"nodes\": nodes,\n",
    "    \"edges\": edges\n",
    "})\n",
    "def edgeWeight(edge):\n",
    "    return 1\n",
    "cyto.set_layout(\n",
    "    name='dagre',\n",
    "    spacingFactor=1.0,\n",
    "    ranker=\"longest-path\",\n",
    "    boundingBox={\n",
    "        \"x1\": 0,\n",
    "        \"y1\": 0,\n",
    "        \"w\": 2000,\n",
    "        \"h\": 2000,\n",
    "    },\n",
    "    rankDir=\"LR\", \n",
    "    nodeDimensionsIncludeLabels=True)\n",
    "cyto.set_style([\n",
    "    {\n",
    "        'selector': 'node',\n",
    "        'css': {\n",
    "            'background-color': 'data(bgcolor)',\n",
    "            'content': 'data(name)',\n",
    "            'text-valign': 'center',\n",
    "        }\n",
    "    }\n",
    "])\n",
    "\n",
    "# Now we make the graph nodes clickable and show the corresponding node properties in another panel:\n",
    "prop_panel = HTML(\"<i>Please click on a node to see it's properties...</i>\")\n",
    "def log_clicks(node):\n",
    "    prop_panel.value = \"\" # clear first\n",
    "    selected_node = nodes_by_uid[node[\"data\"][\"id\"]]\n",
    "    for prop_name, prop_val in sorted(selected_node[\"props\"].items()):\n",
    "        prop_panel.value += f'<p><b>{prop_name}:</b></p>'\n",
    "        prop_panel.value += f'<div style=\"max-height:120px;overflow-y:auto;\">{prop_val}</div>'\n",
    "cyto.on('node', 'click', log_clicks)"
   ]
  },
  {
   "cell_type": "markdown",
   "id": "74d713b1-0dd4-48fb-8eec-7b72c3e128cc",
   "metadata": {},
   "source": [
    "# Visualizing the Graph\n",
    "\n",
    "In this section, we utilize an HBox layout to present the graph on the left side and the properties of clicked nodes on the right side.\n",
    "\n",
    "- <span style=\"font-weight: bold;color:green\">Green Nodes</span>: Represent 'activities' within the graph.\n",
    "- <span style=\"font-weight: bold;color:red\">Red Nodes</span>: Represent 'flows' within the graph.\n",
    "- <span style=\"font-weight: bold;color:gray\">Gray Nodes</span>: Indicate data not included in the response due to proprietary information from ecoinvent."
   ]
  },
  {
   "cell_type": "code",
   "execution_count": null,
   "id": "814dfe5f-ce30-4b44-8a93-bc5b2d127ef8",
   "metadata": {},
   "outputs": [],
   "source": [
    "sidebyside = HBox([cyto, prop_panel])\n",
    "display(sidebyside)\n",
    "cyto.layout.width='50%'\n",
    "cyto.layout.height='800px'\n",
    "cyto.layout.max_height='100%'\n",
    "cyto.layout.max_width='50%'\n",
    "prop_panel.layout.width='50%'"
   ]
  }
 ],
 "metadata": {
  "kernelspec": {
   "display_name": "Python [conda env:conference]",
   "language": "python",
   "name": "conda-env-conference-py"
  },
  "language_info": {
   "codemirror_mode": {
    "name": "ipython",
    "version": 3
   },
   "file_extension": ".py",
   "mimetype": "text/x-python",
   "name": "python",
   "nbconvert_exporter": "python",
   "pygments_lexer": "ipython3",
   "version": "3.11.5"
  },
  "widgets": {
   "application/vnd.jupyter.widget-state+json": {
    "state": {
     "0085a907bba2437094c40dccabc3115d": {
      "model_module": "jupyter-cytoscape",
      "model_module_version": "^1.3.3",
      "model_name": "EdgeModel",
      "state": {
       "_model_module_version": "^1.3.3",
       "_view_module_version": "^1.3.3",
       "data": {
        "id": "9f1dec89-894a-46c1-bb0a-4619b4467180",
        "source": "64f7b725-6180-41db-92b2-aab0d61a82bf",
        "target": "d205b1f6-aa03-49aa-8783-0f038d7abb84"
       },
       "selectable": false
      }
     },
     "00eaf4677305462cbcc033d63d011594": {
      "model_module": "jupyter-cytoscape",
      "model_module_version": "^1.3.3",
      "model_name": "NodeModel",
      "state": {
       "_model_module_version": "^1.3.3",
       "_view_module_version": "^1.3.3",
       "data": {
        "bgcolor": "green",
        "id": "8d3e57de-20ff-4957-aef9-5e8a236227f6",
        "name": ""
       },
       "grabbable": true,
       "grabbed": false,
       "position": {
        "x": 1539.1812865497077,
        "y": 1222.2222222222224
       },
       "selectable": false
      }
     },
     "05460d0e43f146eea6185776dfb233ca": {
      "model_module": "jupyter-cytoscape",
      "model_module_version": "^1.3.3",
      "model_name": "EdgeModel",
      "state": {
       "_model_module_version": "^1.3.3",
       "_view_module_version": "^1.3.3",
       "data": {
        "id": "a5384f23-28ed-4df8-97b8-353d3248316e",
        "source": "444bd5df-6b3c-4ae9-9f91-81d474b1d6f9",
        "target": "2b78f1aa-a1cd-4d5a-ad16-43851fd0aa6a"
       },
       "selectable": false
      }
     },
     "06b874be62484b0bbe40358281e93152": {
      "model_module": "jupyter-cytoscape",
      "model_module_version": "^1.3.3",
      "model_name": "NodeModel",
      "state": {
       "_model_module_version": "^1.3.3",
       "_view_module_version": "^1.3.3",
       "data": {
        "bgcolor": "red",
        "id": "f23e1261-902c-40d4-b10f-099f848e0b14",
        "name": "Truck transport"
       },
       "grabbable": true,
       "grabbed": false,
       "position": {
        "x": 1769.5906432748538,
        "y": 1460.3174603174602
       },
       "selectable": false
      }
     },
     "09f6b7ccabfb44b79a850a638d905aba": {
      "model_module": "jupyter-cytoscape",
      "model_module_version": "^1.3.3",
      "model_name": "EdgeModel",
      "state": {
       "_model_module_version": "^1.3.3",
       "_view_module_version": "^1.3.3",
       "data": {
        "id": "4f58af48-826f-4941-ab04-3b83d26d6061",
        "source": "f23e1261-902c-40d4-b10f-099f848e0b14",
        "target": "98af4f07-f54a-44ba-afe8-3414c6a6eb66"
       },
       "selectable": false
      }
     },
     "0a3cabbbd06f40828f7e0cda40638946": {
      "model_module": "jupyter-cytoscape",
      "model_module_version": "^1.3.3",
      "model_name": "NodeModel",
      "state": {
       "_model_module_version": "^1.3.3",
       "_view_module_version": "^1.3.3",
       "data": {
        "bgcolor": "red",
        "id": "2b78f1aa-a1cd-4d5a-ad16-43851fd0aa6a",
        "name": "Bananas"
       },
       "grabbable": true,
       "grabbed": false,
       "position": {
        "x": 600.5847953216374,
        "y": 825.3968253968253
       },
       "selectable": false
      }
     },
     "0c78ac13516040f78c8c4ee0e32a876e": {
      "model_module": "jupyter-cytoscape",
      "model_module_version": "^1.3.3",
      "model_name": "EdgeModel",
      "state": {
       "_model_module_version": "^1.3.3",
       "_view_module_version": "^1.3.3",
       "data": {
        "id": "8f10140d-6449-4c11-9c6d-ab0206f7ec64",
        "source": "866667c9-f18f-4741-8e9b-185a43e7b08d",
        "target": "a2e7d106-1f93-440c-a63c-9b5d11e832b8"
       },
       "selectable": false
      }
     },
     "0d1a0ed788334b828e3323536702a045": {
      "model_module": "jupyter-cytoscape",
      "model_module_version": "^1.3.3",
      "model_name": "NodeModel",
      "state": {
       "_model_module_version": "^1.3.3",
       "_view_module_version": "^1.3.3",
       "data": {
        "id": "10b9484e-9271-484a-acdc-fca31859f57f"
       },
       "grabbable": true,
       "grabbed": false,
       "position": {
        "x": 2000,
        "y": 333.3333333333333
       },
       "selectable": false
      }
     },
     "0dc75db02f70425689aa7bfe8361b421": {
      "model_module": "jupyter-cytoscape",
      "model_module_version": "^1.3.3",
      "model_name": "EdgeModel",
      "state": {
       "_model_module_version": "^1.3.3",
       "_view_module_version": "^1.3.3",
       "data": {
        "id": "558bae55-d127-4aef-8d7f-0fd8c46df4ad",
        "source": "470a4803-6577-49ca-b908-17cac3a0befc",
        "target": "e1683856-98fe-4b05-aec6-2246dd42d331"
       },
       "selectable": false
      }
     },
     "0dcf7ef958d74927b208224454383bc7": {
      "model_module": "jupyter-cytoscape",
      "model_module_version": "^1.3.3",
      "model_name": "EdgeModel",
      "state": {
       "_model_module_version": "^1.3.3",
       "_view_module_version": "^1.3.3",
       "data": {
        "id": "52f767db-6d93-4cf3-b685-e68fffc216d6",
        "source": "2297da1a-a1d1-4131-926b-d74ea5fe3f90",
        "target": "315b39f7-7efd-4a2f-8b9e-6990237d34d4"
       },
       "selectable": false
      }
     },
     "0e74fe0c884949a8b1d20523d099b569": {
      "model_module": "jupyter-cytoscape",
      "model_module_version": "^1.3.3",
      "model_name": "EdgeModel",
      "state": {
       "_model_module_version": "^1.3.3",
       "_view_module_version": "^1.3.3",
       "data": {
        "id": "a5124f1f-da21-4a8b-8907-849893c76f81",
        "source": "9c4292da-2e00-4fae-bd72-77ed44064a96",
        "target": "514cc85c-2b36-4e81-8ae6-0a2a68804c86"
       },
       "selectable": false
      }
     },
     "0ea65d62560f4339bddbb09976947229": {
      "model_module": "jupyter-cytoscape",
      "model_module_version": "^1.3.3",
      "model_name": "NodeModel",
      "state": {
       "_model_module_version": "^1.3.3",
       "_view_module_version": "^1.3.3",
       "data": {
        "bgcolor": "red",
        "id": "0db9cd2c-f6b2-4a3f-84eb-ee98af1f134b",
        "name": "Truck transport"
       },
       "grabbable": true,
       "grabbed": false,
       "position": {
        "x": 1769.5906432748538,
        "y": 1746.031746031746
       },
       "selectable": false
      }
     },
     "0eeb09a09b5c48c887e2f97ec6f09d5c": {
      "model_module": "jupyter-cytoscape",
      "model_module_version": "^1.3.3",
      "model_name": "EdgeModel",
      "state": {
       "_model_module_version": "^1.3.3",
       "_view_module_version": "^1.3.3",
       "data": {
        "id": "953a7c4c-fdb2-4f70-a7f1-aa1ab088e2dd",
        "source": "cecda9e1-2e4c-4554-8b35-abe64dc5cabc",
        "target": "578dccf9-5238-4121-98bd-de24214cc787"
       },
       "selectable": false
      }
     },
     "0f9046c0055c4c6cb2d7cddd51fcccaa": {
      "model_module": "jupyter-cytoscape",
      "model_module_version": "^1.3.3",
      "model_name": "NodeModel",
      "state": {
       "_model_module_version": "^1.3.3",
       "_view_module_version": "^1.3.3",
       "data": {
        "bgcolor": "red",
        "id": "8d33594c-6635-41fe-84c6-d89a9d2309f6",
        "name": "Truck transport"
       },
       "grabbable": true,
       "grabbed": false,
       "position": {
        "x": 1351.4619883040934,
        "y": 873.015873015873
       },
       "selectable": false
      }
     },
     "11d9d2153e2e4f97bd40578cc41b87dc": {
      "model_module": "jupyter-cytoscape",
      "model_module_version": "^1.3.3",
      "model_name": "EdgeModel",
      "state": {
       "_model_module_version": "^1.3.3",
       "_view_module_version": "^1.3.3",
       "data": {
        "id": "e8b38ca0-1618-41c2-9461-c098bbc164c0",
        "source": "31cf6f20-1095-4f21-b99c-d611c6f1a87d",
        "target": "83d850be-d73d-4aa9-91ec-b4aa679b68ed"
       },
       "selectable": false
      }
     },
     "125059ba54824ffeb99231e301550787": {
      "model_module": "jupyter-cytoscape",
      "model_module_version": "^1.3.3",
      "model_name": "EdgeModel",
      "state": {
       "_model_module_version": "^1.3.3",
       "_view_module_version": "^1.3.3",
       "data": {
        "id": "8377f58c-da67-442b-9c7b-d34e17ad8a88",
        "source": "098e48f4-5ba3-4e08-b2ef-b38356f4f7c8",
        "target": "02ef0194-3aad-47d1-8d49-5b6e42a21e77"
       },
       "selectable": false
      }
     },
     "1256da6f33384c39a7b3702c37796539": {
      "model_module": "jupyter-cytoscape",
      "model_module_version": "^1.3.3",
      "model_name": "NodeModel",
      "state": {
       "_model_module_version": "^1.3.3",
       "_view_module_version": "^1.3.3",
       "data": {
        "bgcolor": "green",
        "id": "1d6c31ee-736f-4e95-8207-fb68d598a534",
        "name": ""
       },
       "grabbable": true,
       "grabbed": false,
       "position": {
        "x": 1163.7426900584794,
        "y": 1857.142857142857
       },
       "selectable": false
      }
     },
     "12e85834e81d48bba7f66568c53de888": {
      "model_module": "jupyter-cytoscape",
      "model_module_version": "^1.3.3",
      "model_name": "EdgeModel",
      "state": {
       "_model_module_version": "^1.3.3",
       "_view_module_version": "^1.3.3",
       "data": {
        "id": "87158ad2-1d68-47f6-ad2b-7d0391c87fe3",
        "source": "dc034eec-2bc6-4f2a-9651-062a6056dbb8",
        "target": "a3dc0af4-1bab-468e-a595-d6a4c19b500d"
       },
       "selectable": false
      }
     },
     "12ebfbf78e334cc387d8a94e13fd2d4b": {
      "model_module": "jupyter-cytoscape",
      "model_module_version": "^1.3.3",
      "model_name": "NodeModel",
      "state": {
       "_model_module_version": "^1.3.3",
       "_view_module_version": "^1.3.3",
       "data": {
        "bgcolor": "red",
        "id": "ad45bd50-79ac-4ba1-8736-d87838cbd0a9",
        "name": "Truck transport"
       },
       "grabbable": true,
       "grabbed": false,
       "position": {
        "x": 1351.4619883040934,
        "y": 1142.857142857143
       },
       "selectable": false
      }
     },
     "15401de00fb74cd0ba295f132f808bc6": {
      "model_module": "jupyter-cytoscape",
      "model_module_version": "^1.3.3",
      "model_name": "NodeModel",
      "state": {
       "_model_module_version": "^1.3.3",
       "_view_module_version": "^1.3.3",
       "data": {
        "bgcolor": "green",
        "id": "01ad246d-d236-45d1-ab05-6c7382b9a238",
        "name": ""
       },
       "grabbable": true,
       "grabbed": false,
       "position": {
        "x": 1539.1812865497077,
        "y": 1142.857142857143
       },
       "selectable": false
      }
     },
     "1575ff04c0454e30bc7c20751f90161b": {
      "model_module": "jupyter-cytoscape",
      "model_module_version": "^1.3.3",
      "model_name": "NodeModel",
      "state": {
       "_model_module_version": "^1.3.3",
       "_view_module_version": "^1.3.3",
       "data": {
        "bgcolor": "red",
        "id": "cecda9e1-2e4c-4554-8b35-abe64dc5cabc",
        "name": "Bananas"
       },
       "grabbable": true,
       "grabbed": false,
       "position": {
        "x": 1769.5906432748538,
        "y": 126.98412698412697
       },
       "selectable": false
      }
     },
     "1621932f8a324a8694b76e72dc306180": {
      "model_module": "jupyter-cytoscape",
      "model_module_version": "^1.3.3",
      "model_name": "EdgeModel",
      "state": {
       "_model_module_version": "^1.3.3",
       "_view_module_version": "^1.3.3",
       "data": {
        "id": "b4ac50e0-fcb9-4a1e-b94c-50e57b2629e4",
        "source": "e1683856-98fe-4b05-aec6-2246dd42d331",
        "target": "d729f486-2794-4443-979b-fc99ac9271ab"
       },
       "selectable": false
      }
     },
     "1651737d3abc42f186959cf8b53854c5": {
      "model_module": "jupyter-cytoscape",
      "model_module_version": "^1.3.3",
      "model_name": "NodeModel",
      "state": {
       "_model_module_version": "^1.3.3",
       "_view_module_version": "^1.3.3",
       "data": {
        "bgcolor": "red",
        "id": "d694d7ee-4851-4867-b8a5-b4319255c1b4",
        "name": "Bananas"
       },
       "grabbable": true,
       "grabbed": false,
       "position": {
        "x": 1351.4619883040934,
        "y": 190.47619047619045
       },
       "selectable": false
      }
     },
     "173594cf9cc441ec9da56d0de9e1e901": {
      "model_module": "jupyter-cytoscape",
      "model_module_version": "^1.3.3",
      "model_name": "NodeModel",
      "state": {
       "_model_module_version": "^1.3.3",
       "_view_module_version": "^1.3.3",
       "data": {
        "bgcolor": "green",
        "id": "dc034eec-2bc6-4f2a-9651-062a6056dbb8",
        "name": ""
       },
       "grabbable": true,
       "grabbed": false,
       "position": {
        "x": 1539.1812865497077,
        "y": 1333.3333333333333
       },
       "selectable": false
      }
     },
     "1749d8620a6c4fb485f9ac28219d5a56": {
      "model_module": "jupyter-cytoscape",
      "model_module_version": "^1.3.3",
      "model_name": "EdgeModel",
      "state": {
       "_model_module_version": "^1.3.3",
       "_view_module_version": "^1.3.3",
       "data": {
        "id": "2cc50f42-313d-43d5-8e17-52b8ba6f0ea7",
        "source": "866667c9-f18f-4741-8e9b-185a43e7b08d",
        "target": "1cea6308-5b83-4a3a-a922-9f306c56e76c"
       },
       "selectable": false
      }
     },
     "1760dda6dc404a0da590a381d29f7a63": {
      "model_module": "jupyter-cytoscape",
      "model_module_version": "^1.3.3",
      "model_name": "NodeModel",
      "state": {
       "_model_module_version": "^1.3.3",
       "_view_module_version": "^1.3.3",
       "data": {
        "bgcolor": "red",
        "id": "113a7474-301a-4d5e-a26f-79b065d0617f",
        "name": "Truck transport"
       },
       "grabbable": true,
       "grabbed": false,
       "position": {
        "x": 1351.4619883040934,
        "y": 1365.079365079365
       },
       "selectable": false
      }
     },
     "1873be34db80416da830ca2f94b53a12": {
      "model_module": "jupyter-cytoscape",
      "model_module_version": "^1.3.3",
      "model_name": "EdgeModel",
      "state": {
       "_model_module_version": "^1.3.3",
       "_view_module_version": "^1.3.3",
       "data": {
        "id": "ee5cd2ae-a1ba-443e-a72e-f04e160dbad2",
        "source": "554e8f91-05ee-43f6-81a3-ed168ef91ffc",
        "target": "5d2759e2-27ae-4aad-93d3-942ceaf985ea"
       },
       "selectable": false
      }
     },
     "18b8323699804084b0c3be28247a8ed1": {
      "model_module": "jupyter-cytoscape",
      "model_module_version": "^1.3.3",
      "model_name": "NodeModel",
      "state": {
       "_model_module_version": "^1.3.3",
       "_view_module_version": "^1.3.3",
       "data": {
        "bgcolor": "red",
        "id": "b92e82a2-46ae-406a-bdd4-58560fe94049",
        "name": "Bananas"
       },
       "grabbable": true,
       "grabbed": false,
       "position": {
        "x": 1769.5906432748538,
        "y": 31.746031746031743
       },
       "selectable": false
      }
     },
     "1a52dab60d6b4df0ac1e61786e57ce97": {
      "model_module": "jupyter-cytoscape",
      "model_module_version": "^1.3.3",
      "model_name": "NodeModel",
      "state": {
       "_model_module_version": "^1.3.3",
       "_view_module_version": "^1.3.3",
       "data": {
        "bgcolor": "red",
        "id": "ec427e19-1769-4e51-a975-0b1db70f369e",
        "name": "Sea transport"
       },
       "grabbable": true,
       "grabbed": false,
       "position": {
        "x": 1769.5906432748538,
        "y": 349.20634920634916
       },
       "selectable": false
      }
     },
     "1a9df3c06cc147e6804865b4c9c344ec": {
      "model_module": "jupyter-cytoscape",
      "model_module_version": "^1.3.3",
      "model_name": "EdgeModel",
      "state": {
       "_model_module_version": "^1.3.3",
       "_view_module_version": "^1.3.3",
       "data": {
        "id": "d22c1047-7025-45b8-88e1-979611901ef1",
        "source": "d729f486-2794-4443-979b-fc99ac9271ab",
        "target": "c97bba47-8820-4b82-8a3e-64d87cf2c29d"
       },
       "selectable": false
      }
     },
     "1ba80a4e3feb43558a88b59785cdb3ba": {
      "model_module": "jupyter-cytoscape",
      "model_module_version": "^1.3.3",
      "model_name": "EdgeModel",
      "state": {
       "_model_module_version": "^1.3.3",
       "_view_module_version": "^1.3.3",
       "data": {
        "id": "38a0dfb5-2e6f-4b54-b6f2-36d441e4c8b0",
        "source": "af68d978-9677-4a26-812a-2327bcde7205",
        "target": "98af4f07-f54a-44ba-afe8-3414c6a6eb66"
       },
       "selectable": false
      }
     },
     "1bc9384a5ff24a83863dfbc4b2d1179f": {
      "model_module": "jupyter-cytoscape",
      "model_module_version": "^1.3.3",
      "model_name": "EdgeModel",
      "state": {
       "_model_module_version": "^1.3.3",
       "_view_module_version": "^1.3.3",
       "data": {
        "id": "d78af896-e9fb-4ef5-bcba-2639f18c01ae",
        "source": "e90f5751-096a-4273-a51d-cc194ff85c45",
        "target": "dc034eec-2bc6-4f2a-9651-062a6056dbb8"
       },
       "selectable": false
      }
     },
     "1bf548e0b41846c28e7d6b3d8d3b9df4": {
      "model_module": "jupyter-cytoscape",
      "model_module_version": "^1.3.3",
      "model_name": "EdgeModel",
      "state": {
       "_model_module_version": "^1.3.3",
       "_view_module_version": "^1.3.3",
       "data": {
        "id": "9634701c-80b3-42bf-9126-26224563ad3e",
        "source": "cfba56c0-90fa-4dcd-b69a-950d39ce5984",
        "target": "02ef0194-3aad-47d1-8d49-5b6e42a21e77"
       },
       "selectable": false
      }
     },
     "1d05341bfa034503868057005a4fa206": {
      "model_module": "jupyter-cytoscape",
      "model_module_version": "^1.3.3",
      "model_name": "EdgeModel",
      "state": {
       "_model_module_version": "^1.3.3",
       "_view_module_version": "^1.3.3",
       "data": {
        "id": "8497f5c1-69d0-45ab-ad08-f5b0321a0f1f",
        "source": "09ae7342-5230-4c4a-96c6-0387fdefa295",
        "target": "5df19816-1a8e-4837-a252-2910a5116650"
       },
       "selectable": false
      }
     },
     "1dac36b7e4304c83b121b7f86a5bc33d": {
      "model_module": "jupyter-cytoscape",
      "model_module_version": "^1.3.3",
      "model_name": "NodeModel",
      "state": {
       "_model_module_version": "^1.3.3",
       "_view_module_version": "^1.3.3",
       "data": {
        "bgcolor": "red",
        "id": "2aec359d-9c45-47bd-a989-3175bbab03b0",
        "name": "Fuel consumption of Sea transport"
       },
       "grabbable": true,
       "grabbed": false,
       "position": {
        "x": 1769.5906432748538,
        "y": 952.3809523809523
       },
       "selectable": false
      }
     },
     "1ecc2c85e72c4c31a2dd8ee648cc7dab": {
      "model_module": "jupyter-cytoscape",
      "model_module_version": "^1.3.3",
      "model_name": "NodeModel",
      "state": {
       "_model_module_version": "^1.3.3",
       "_view_module_version": "^1.3.3",
       "data": {
        "bgcolor": "green",
        "id": "edb6ba2e-6df0-4e33-82be-810941dbc220",
        "name": ""
       },
       "grabbable": true,
       "grabbed": false,
       "position": {
        "x": 1539.1812865497077,
        "y": 126.98412698412697
       },
       "selectable": false
      }
     },
     "1f451a08526b40a0b3f84e1af1747d1f": {
      "model_module": "@jupyter-widgets/base",
      "model_module_version": "2.0.0",
      "model_name": "LayoutModel",
      "state": {
       "border_bottom": "1px solid black",
       "border_left": "1px solid black",
       "border_right": "1px solid black",
       "border_top": "1px solid black",
       "height": "800px",
       "max_height": "100%",
       "max_width": "50%",
       "width": "50%"
      }
     },
     "1f70c730bfa34d878c2099eb4cf63583": {
      "model_module": "jupyter-cytoscape",
      "model_module_version": "^1.3.3",
      "model_name": "NodeModel",
      "state": {
       "_model_module_version": "^1.3.3",
       "_view_module_version": "^1.3.3",
       "data": {
        "bgcolor": "green",
        "id": "3314a30e-3f98-448f-b7d4-2a3da0301732",
        "name": ""
       },
       "grabbable": true,
       "grabbed": false,
       "position": {
        "x": 1539.1812865497077,
        "y": 825.3968253968253
       },
       "selectable": false
      }
     },
     "2045d4666fbb42a2baeca75ff5795eb5": {
      "model_module": "jupyter-cytoscape",
      "model_module_version": "^1.3.3",
      "model_name": "EdgeModel",
      "state": {
       "_model_module_version": "^1.3.3",
       "_view_module_version": "^1.3.3",
       "data": {
        "id": "c6fe967a-395c-4c2f-858e-586d44551292",
        "source": "5ac0c1c0-0661-4471-a3db-d39ba94ddbdd",
        "target": "d820c402-0064-4edb-af1b-dd0ad3e46812"
       },
       "selectable": false
      }
     },
     "20808b5a202848b7a4f924f672ccf35f": {
      "model_module": "jupyter-cytoscape",
      "model_module_version": "^1.3.3",
      "model_name": "NodeModel",
      "state": {
       "_model_module_version": "^1.3.3",
       "_view_module_version": "^1.3.3",
       "data": {
        "bgcolor": "red",
        "id": "6e7a91af-23bd-4569-b2aa-0b15d245ca0e",
        "name": "Truck transport"
       },
       "grabbable": true,
       "grabbed": false,
       "position": {
        "x": 1351.4619883040934,
        "y": 984.1269841269841
       },
       "selectable": false
      }
     },
     "2112cd84da5c42e58a93ead71746ba7d": {
      "model_module": "jupyter-cytoscape",
      "model_module_version": "^1.3.3",
      "model_name": "NodeModel",
      "state": {
       "_model_module_version": "^1.3.3",
       "_view_module_version": "^1.3.3",
       "data": {
        "bgcolor": "red",
        "id": "96b97ae1-a5ca-4963-a5dc-9e5eb924f077",
        "name": "Lemon Juice Concentrate"
       },
       "grabbable": true,
       "grabbed": false,
       "position": {
        "x": 1769.5906432748538,
        "y": 1809.5238095238096
       },
       "selectable": false
      }
     },
     "21188f9cb5df4a64927ca09562acfe4e": {
      "model_module": "jupyter-cytoscape",
      "model_module_version": "^1.3.3",
      "model_name": "NodeModel",
      "state": {
       "_model_module_version": "^1.3.3",
       "_view_module_version": "^1.3.3",
       "data": {
        "bgcolor": "red",
        "id": "73d93dd5-2d74-4923-a855-21fb74283d6d",
        "name": "Bananas"
       },
       "grabbable": true,
       "grabbed": false,
       "position": {
        "x": 1769.5906432748538,
        "y": 158.73015873015873
       },
       "selectable": false
      }
     },
     "2141c41e08cd499196998714095bb855": {
      "model_module": "jupyter-cytoscape",
      "model_module_version": "^1.3.3",
      "model_name": "EdgeModel",
      "state": {
       "_model_module_version": "^1.3.3",
       "_view_module_version": "^1.3.3",
       "data": {
        "id": "59fa9676-47c9-4aa0-9e9e-897a41dd689c",
        "source": "83d850be-d73d-4aa9-91ec-b4aa679b68ed",
        "target": "98af4f07-f54a-44ba-afe8-3414c6a6eb66"
       },
       "selectable": false
      }
     },
     "21b45f81689349d4acb13629dc1fa643": {
      "model_module": "jupyter-cytoscape",
      "model_module_version": "^1.3.3",
      "model_name": "EdgeModel",
      "state": {
       "_model_module_version": "^1.3.3",
       "_view_module_version": "^1.3.3",
       "data": {
        "id": "70940a61-b81f-4148-be52-b0b96ab245ce",
        "source": "d2b8a451-bdc8-40b1-b2b4-89a44db0737f",
        "target": "8d33594c-6635-41fe-84c6-d89a9d2309f6"
       },
       "selectable": false
      }
     },
     "220b76553fae4035a9d30b71a371e856": {
      "model_module": "jupyter-cytoscape",
      "model_module_version": "^1.3.3",
      "model_name": "EdgeModel",
      "state": {
       "_model_module_version": "^1.3.3",
       "_view_module_version": "^1.3.3",
       "data": {
        "id": "1fc760da-2740-4f5f-b199-0b6f9d1a78ba",
        "source": "8500560f-c494-4af1-a6d0-ffa3604ec7ec",
        "target": "e9a20b42-297f-424f-b313-63ead0b4f796"
       },
       "selectable": false
      }
     },
     "22a06f11370b4f9988bd2c537a3f776c": {
      "model_module": "jupyter-cytoscape",
      "model_module_version": "^1.3.3",
      "model_name": "EdgeModel",
      "state": {
       "_model_module_version": "^1.3.3",
       "_view_module_version": "^1.3.3",
       "data": {
        "id": "3eb66189-7c48-495c-968f-84276388ef61",
        "source": "3a2ff2eb-a5b5-4ff7-94f1-72e18f19145c",
        "target": "8d3e57de-20ff-4957-aef9-5e8a236227f6"
       },
       "selectable": false
      }
     },
     "22df21fe044148d3b91679e11b4935ac": {
      "model_module": "jupyter-cytoscape",
      "model_module_version": "^1.3.3",
      "model_name": "EdgeModel",
      "state": {
       "_model_module_version": "^1.3.3",
       "_view_module_version": "^1.3.3",
       "data": {
        "id": "6f1ef385-bb41-4975-8f87-d91a8d0d83b3",
        "source": "089f2160-4ff8-4168-ac1e-583ac8cdcc97",
        "target": "38436942-4600-46a5-838f-391cd0c695e1"
       },
       "selectable": false
      }
     },
     "2322367b94d94bbfb5fd90395e39c6b1": {
      "model_module": "jupyter-cytoscape",
      "model_module_version": "^1.3.3",
      "model_name": "EdgeModel",
      "state": {
       "_model_module_version": "^1.3.3",
       "_view_module_version": "^1.3.3",
       "data": {
        "id": "5163a03f-1db2-489c-8f64-7763ecde4d3d",
        "source": "e1683856-98fe-4b05-aec6-2246dd42d331",
        "target": "22bae8a9-b58b-4ace-a660-4e94ede1cbcb"
       },
       "selectable": false
      }
     },
     "234f83f14fa2496e8bf4049010454bfe": {
      "model_module": "jupyter-cytoscape",
      "model_module_version": "^1.3.3",
      "model_name": "EdgeModel",
      "state": {
       "_model_module_version": "^1.3.3",
       "_view_module_version": "^1.3.3",
       "data": {
        "id": "2f8e587b-a554-435e-82db-d699daebc464",
        "source": "0db9cd2c-f6b2-4a3f-84eb-ee98af1f134b",
        "target": "98af4f07-f54a-44ba-afe8-3414c6a6eb66"
       },
       "selectable": false
      }
     },
     "2436a94fe0624601b289bb2d90ed55a1": {
      "model_module": "jupyter-cytoscape",
      "model_module_version": "^1.3.3",
      "model_name": "NodeModel",
      "state": {
       "_model_module_version": "^1.3.3",
       "_view_module_version": "^1.3.3",
       "data": {
        "bgcolor": "red",
        "id": "a88e6b1e-5a92-4e16-ab75-9bcfbbf7f8c6",
        "name": "Fuel consumption of Sea transport"
       },
       "grabbable": true,
       "grabbed": false,
       "position": {
        "x": 1769.5906432748538,
        "y": 666.6666666666666
       },
       "selectable": false
      }
     },
     "24efda8084494e9c99e037b887655992": {
      "model_module": "jupyter-cytoscape",
      "model_module_version": "^1.3.3",
      "model_name": "NodeModel",
      "state": {
       "_model_module_version": "^1.3.3",
       "_view_module_version": "^1.3.3",
       "data": {
        "bgcolor": "green",
        "id": "c09257e2-747e-417c-86eb-c3fd691d0326",
        "name": ""
       },
       "grabbable": true,
       "grabbed": false,
       "position": {
        "x": 1539.1812865497077,
        "y": 1269.8412698412699
       },
       "selectable": false
      }
     },
     "27105667783c4b5890aa9e3bf225d7b0": {
      "model_module": "jupyter-cytoscape",
      "model_module_version": "^1.3.3",
      "model_name": "EdgeModel",
      "state": {
       "_model_module_version": "^1.3.3",
       "_view_module_version": "^1.3.3",
       "data": {
        "id": "3c366138-1a53-4de5-b452-0da60f5aade5",
        "source": "65c98718-3d13-4152-bb03-2d000c1e8f1d",
        "target": "1e24689c-9f49-4a63-9ab5-166d0bb4c9f0"
       },
       "selectable": false
      }
     },
     "2713969ac2924816bfb230b85db6d512": {
      "model_module": "jupyter-cytoscape",
      "model_module_version": "^1.3.3",
      "model_name": "NodeModel",
      "state": {
       "_model_module_version": "^1.3.3",
       "_view_module_version": "^1.3.3",
       "data": {
        "bgcolor": "red",
        "id": "2026f91d-813a-4991-8029-3d1ec189cc8f",
        "name": "Fuel consumption of Truck transport"
       },
       "grabbable": true,
       "grabbed": false,
       "position": {
        "x": 1769.5906432748538,
        "y": 539.6825396825396
       },
       "selectable": false
      }
     },
     "276c6a50d4e847d5aed14019d0ff2743": {
      "model_module": "jupyter-cytoscape",
      "model_module_version": "^1.3.3",
      "model_name": "NodeModel",
      "state": {
       "_model_module_version": "^1.3.3",
       "_view_module_version": "^1.3.3",
       "data": {
        "bgcolor": "green",
        "id": "e66dc6c4-12e9-4d62-913e-580c58a120cb",
        "name": ""
       },
       "grabbable": true,
       "grabbed": false,
       "position": {
        "x": 1539.1812865497077,
        "y": 873.015873015873
       },
       "selectable": false
      }
     },
     "27ba8184cb0a427d9f79a460d75eb9ea": {
      "model_module": "jupyter-cytoscape",
      "model_module_version": "^1.3.3",
      "model_name": "NodeModel",
      "state": {
       "_model_module_version": "^1.3.3",
       "_view_module_version": "^1.3.3",
       "data": {
        "bgcolor": "red",
        "id": "3a2ff2eb-a5b5-4ff7-94f1-72e18f19145c",
        "name": "Truck transport"
       },
       "grabbable": true,
       "grabbed": false,
       "position": {
        "x": 1351.4619883040934,
        "y": 1222.2222222222224
       },
       "selectable": false
      }
     },
     "28607f62bf2945b1a84f2af963e75720": {
      "model_module": "jupyter-cytoscape",
      "model_module_version": "^1.3.3",
      "model_name": "NodeModel",
      "state": {
       "_model_module_version": "^1.3.3",
       "_view_module_version": "^1.3.3",
       "data": {
        "bgcolor": "red",
        "id": "da0af127-0acc-4c18-a58c-ec4792d3f0fc",
        "name": "Lemon Juice Concentrate"
       },
       "grabbable": true,
       "grabbed": false,
       "position": {
        "x": 600.5847953216374,
        "y": 1349.2063492063494
       },
       "selectable": false
      }
     },
     "28ad10e363d74098a2b8c9a838c7f15d": {
      "model_module": "jupyter-cytoscape",
      "model_module_version": "^1.3.3",
      "model_name": "EdgeModel",
      "state": {
       "_model_module_version": "^1.3.3",
       "_view_module_version": "^1.3.3",
       "data": {
        "id": "72d6b917-9891-4373-892c-2b682eaaf160",
        "source": "315b39f7-7efd-4a2f-8b9e-6990237d34d4",
        "target": "98af4f07-f54a-44ba-afe8-3414c6a6eb66"
       },
       "selectable": false
      }
     },
     "28b3208ee9084fb1a574039d08c77141": {
      "model_module": "jupyter-cytoscape",
      "model_module_version": "^1.3.3",
      "model_name": "EdgeModel",
      "state": {
       "_model_module_version": "^1.3.3",
       "_view_module_version": "^1.3.3",
       "data": {
        "id": "ed2e70f4-0b8b-441a-8bd3-7e6005c2be88",
        "source": "b6213c65-1abb-492b-b3c8-8c0f7570d485",
        "target": "fbcb5709-5f62-467e-8d18-e64b27f81c06"
       },
       "selectable": false
      }
     },
     "28bf7f4af6c645949c0a1ac7af049457": {
      "model_module": "jupyter-cytoscape",
      "model_module_version": "^1.3.3",
      "model_name": "EdgeModel",
      "state": {
       "_model_module_version": "^1.3.3",
       "_view_module_version": "^1.3.3",
       "data": {
        "id": "12eddf19-6b8c-4d65-b562-869eb23149b4",
        "source": "7b6f503a-368f-41f0-bb08-5d8cfcfc9b9b",
        "target": "10b9484e-9271-484a-acdc-fca31859f57f"
       },
       "selectable": false
      }
     },
     "2930a00592a94928af8eeaf064911dd1": {
      "model_module": "jupyter-cytoscape",
      "model_module_version": "^1.3.3",
      "model_name": "NodeModel",
      "state": {
       "_model_module_version": "^1.3.3",
       "_view_module_version": "^1.3.3",
       "data": {
        "id": "02ef0194-3aad-47d1-8d49-5b6e42a21e77"
       },
       "grabbable": true,
       "grabbed": false,
       "position": {
        "x": 2000,
        "y": 1888.888888888889
       },
       "selectable": false
      }
     },
     "2a740f2824034f27860cddfd6954ef6d": {
      "model_module": "jupyter-cytoscape",
      "model_module_version": "^1.3.3",
      "model_name": "EdgeModel",
      "state": {
       "_model_module_version": "^1.3.3",
       "_view_module_version": "^1.3.3",
       "data": {
        "id": "23d3e461-a04c-4cf3-b23a-df341b7e39e3",
        "source": "efb9a6af-4ec8-4f20-b4d4-2c6730110b38",
        "target": "363b84db-4898-4340-a393-f368bc7fc2e8"
       },
       "selectable": false
      }
     },
     "2acc95b97fc94118915b929ac563d32e": {
      "model_module": "jupyter-cytoscape",
      "model_module_version": "^1.3.3",
      "model_name": "NodeModel",
      "state": {
       "_model_module_version": "^1.3.3",
       "_view_module_version": "^1.3.3",
       "data": {
        "bgcolor": "red",
        "id": "d2dda7c7-1b88-48ad-aaf8-054e7a2b8362",
        "name": "Lemon Juice Concentrate"
       },
       "grabbable": true,
       "grabbed": false,
       "position": {
        "x": 600.5847953216374,
        "y": 1158.7301587301588
       },
       "selectable": false
      }
     },
     "2b6360b615c346c099f6ef984c7ebec6": {
      "model_module": "jupyter-cytoscape",
      "model_module_version": "^1.3.3",
      "model_name": "EdgeModel",
      "state": {
       "_model_module_version": "^1.3.3",
       "_view_module_version": "^1.3.3",
       "data": {
        "id": "658dfe8e-9eee-478c-8473-21ea23c5cd73",
        "source": "73d93dd5-2d74-4923-a855-21fb74283d6d",
        "target": "578dccf9-5238-4121-98bd-de24214cc787"
       },
       "selectable": false
      }
     },
     "2bf37826eeef40c7a7d03fbfbd66ac9c": {
      "model_module": "jupyter-cytoscape",
      "model_module_version": "^1.3.3",
      "model_name": "NodeModel",
      "state": {
       "_model_module_version": "^1.3.3",
       "_view_module_version": "^1.3.3",
       "data": {
        "bgcolor": "green",
        "id": "4a6418f4-1de3-47c7-8a16-9940c532634e",
        "name": ""
       },
       "grabbable": true,
       "grabbed": false,
       "position": {
        "x": 1539.1812865497077,
        "y": 1063.4920634920634
       },
       "selectable": false
      }
     },
     "2c6d1bc508c04e529cfc0603a4a8d8bd": {
      "model_module": "jupyter-cytoscape",
      "model_module_version": "^1.3.3",
      "model_name": "EdgeModel",
      "state": {
       "_model_module_version": "^1.3.3",
       "_view_module_version": "^1.3.3",
       "data": {
        "id": "80fdb74f-ec1c-4888-8b15-8227cb832d06",
        "source": "4a6418f4-1de3-47c7-8a16-9940c532634e",
        "target": "af68d978-9677-4a26-812a-2327bcde7205"
       },
       "selectable": false
      }
     },
     "2e17e47049ea41ff8fdc249fab0ca94b": {
      "model_module": "jupyter-cytoscape",
      "model_module_version": "^1.3.3",
      "model_name": "EdgeModel",
      "state": {
       "_model_module_version": "^1.3.3",
       "_view_module_version": "^1.3.3",
       "data": {
        "id": "f53b321f-02c4-4641-866e-ef3c4c28a70f",
        "source": "554e8f91-05ee-43f6-81a3-ed168ef91ffc",
        "target": "2448880a-68fe-4841-9949-616c7c96cf6d"
       },
       "selectable": false
      }
     },
     "2e63f687e5bc42a399bbba7ea0888d2b": {
      "model_module": "jupyter-cytoscape",
      "model_module_version": "^1.3.3",
      "model_name": "EdgeModel",
      "state": {
       "_model_module_version": "^1.3.3",
       "_view_module_version": "^1.3.3",
       "data": {
        "id": "11dd3a77-f39b-4bae-979b-5fa040b93d68",
        "source": "0241bf8c-8dcc-47e0-98ae-86ffa4e78eaf",
        "target": "98af4f07-f54a-44ba-afe8-3414c6a6eb66"
       },
       "selectable": false
      }
     },
     "2fe2dc405e6f445eb94651fb065bd6d2": {
      "model_module": "jupyter-cytoscape",
      "model_module_version": "^1.3.3",
      "model_name": "NodeModel",
      "state": {
       "_model_module_version": "^1.3.3",
       "_view_module_version": "^1.3.3",
       "data": {
        "bgcolor": "red",
        "id": "a372f27e-1c2d-40b2-a865-a2b4307e886e",
        "name": "Lemon Juice Concentrate"
       },
       "grabbable": true,
       "grabbed": false,
       "position": {
        "x": 1351.4619883040934,
        "y": 1777.7777777777776
       },
       "selectable": false
      }
     },
     "2fe621218a434799ba88ae1d69aa4b59": {
      "model_module": "jupyter-cytoscape",
      "model_module_version": "^1.3.3",
      "model_name": "EdgeModel",
      "state": {
       "_model_module_version": "^1.3.3",
       "_view_module_version": "^1.3.3",
       "data": {
        "id": "992a022c-c7ea-4bce-955a-c84aac460d26",
        "source": "31cf6f20-1095-4f21-b99c-d611c6f1a87d",
        "target": "31ac49b0-9323-4888-aa77-55040bddd91b"
       },
       "selectable": false
      }
     },
     "3088eb9b53874b8aac2f18bfa6f9ff59": {
      "model_module": "jupyter-cytoscape",
      "model_module_version": "^1.3.3",
      "model_name": "NodeModel",
      "state": {
       "_model_module_version": "^1.3.3",
       "_view_module_version": "^1.3.3",
       "data": {
        "bgcolor": "green",
        "id": "61eaf3d9-6357-49f3-939e-e4535eb4c6ad",
        "name": ""
       },
       "grabbable": true,
       "grabbed": false,
       "position": {
        "x": 1539.1812865497077,
        "y": 619.047619047619
       },
       "selectable": false
      }
     },
     "31587caa04814118b4abd1524a0bb861": {
      "model_module": "jupyter-cytoscape",
      "model_module_version": "^1.3.3",
      "model_name": "NodeModel",
      "state": {
       "_model_module_version": "^1.3.3",
       "_view_module_version": "^1.3.3",
       "data": {
        "bgcolor": "red",
        "id": "f5fb5e1e-cc60-4980-8563-89327680f853",
        "name": "Lemon Juice Concentrate"
       },
       "grabbable": true,
       "grabbed": false,
       "position": {
        "x": 1769.5906432748538,
        "y": 1841.2698412698412
       },
       "selectable": false
      }
     },
     "315c812f45f34f3fae5d6732d4f12d63": {
      "model_module": "jupyter-cytoscape",
      "model_module_version": "^1.3.3",
      "model_name": "EdgeModel",
      "state": {
       "_model_module_version": "^1.3.3",
       "_view_module_version": "^1.3.3",
       "data": {
        "id": "1ede6d96-d44d-4758-af93-f7952ed631dd",
        "source": "d45a0623-2534-47ef-b1b7-b4541a310742",
        "target": "02ef0194-3aad-47d1-8d49-5b6e42a21e77"
       },
       "selectable": false
      }
     },
     "326408eeff1340308fe651bf930bebeb": {
      "model_module": "jupyter-cytoscape",
      "model_module_version": "^1.3.3",
      "model_name": "NodeModel",
      "state": {
       "_model_module_version": "^1.3.3",
       "_view_module_version": "^1.3.3",
       "data": {
        "bgcolor": "green",
        "id": "b4b18064-2dde-42a9-8b64-76dff748f89d",
        "name": ""
       },
       "grabbable": true,
       "grabbed": false,
       "position": {
        "x": 1539.1812865497077,
        "y": 1904.7619047619046
       },
       "selectable": false
      }
     },
     "32e671fddcfc461f8e52c93ad83235ff": {
      "model_module": "jupyter-cytoscape",
      "model_module_version": "^1.3.3",
      "model_name": "EdgeModel",
      "state": {
       "_model_module_version": "^1.3.3",
       "_view_module_version": "^1.3.3",
       "data": {
        "id": "9c1b1060-db49-479e-aec1-20c17ee55732",
        "source": "edb6ba2e-6df0-4e33-82be-810941dbc220",
        "target": "cecda9e1-2e4c-4554-8b35-abe64dc5cabc"
       },
       "selectable": false
      }
     },
     "332d393f7bde4c38963da3b92141d0dc": {
      "model_module": "jupyter-cytoscape",
      "model_module_version": "^1.3.3",
      "model_name": "EdgeModel",
      "state": {
       "_model_module_version": "^1.3.3",
       "_view_module_version": "^1.3.3",
       "data": {
        "id": "7844a965-6830-418f-96a0-bbc70c35537d",
        "source": "d09a6268-5bcd-41a2-94cc-7f4f63c9491d",
        "target": "b4b18064-2dde-42a9-8b64-76dff748f89d"
       },
       "selectable": false
      }
     },
     "342ec4b8d89343fc9e633e9f62349806": {
      "model_module": "jupyter-cytoscape",
      "model_module_version": "^1.3.3",
      "model_name": "EdgeModel",
      "state": {
       "_model_module_version": "^1.3.3",
       "_view_module_version": "^1.3.3",
       "data": {
        "id": "9a6db75d-d469-41fe-80f6-8e83f8a6975c",
        "source": "c2131f63-1b4a-4dff-acc6-fd7651a3cb1e",
        "target": "e759148e-2510-4666-b9c4-2f566236eb64"
       },
       "selectable": false
      }
     },
     "35235339329947c5bcebe6a2d5258c9e": {
      "model_module": "jupyter-cytoscape",
      "model_module_version": "^1.3.3",
      "model_name": "NodeModel",
      "state": {
       "_model_module_version": "^1.3.3",
       "_view_module_version": "^1.3.3",
       "data": {
        "bgcolor": "red",
        "id": "a3dc0af4-1bab-468e-a595-d6a4c19b500d",
        "name": "Truck transport"
       },
       "grabbable": true,
       "grabbed": false,
       "position": {
        "x": 1769.5906432748538,
        "y": 1619.047619047619
       },
       "selectable": false
      }
     },
     "35435b8d7a3f45a29cde221117bbd013": {
      "model_module": "jupyter-cytoscape",
      "model_module_version": "^1.3.3",
      "model_name": "EdgeModel",
      "state": {
       "_model_module_version": "^1.3.3",
       "_view_module_version": "^1.3.3",
       "data": {
        "id": "c76f0cf7-f348-4c55-a0d3-3f1da42e8a26",
        "source": "04d88276-bd11-44cc-9e18-c0a643470a39",
        "target": "96b97ae1-a5ca-4963-a5dc-9e5eb924f077"
       },
       "selectable": false
      }
     },
     "35f142fc0d02441f875e18f929df8e7e": {
      "model_module": "jupyter-cytoscape",
      "model_module_version": "^1.3.3",
      "model_name": "NodeModel",
      "state": {
       "_model_module_version": "^1.3.3",
       "_view_module_version": "^1.3.3",
       "data": {
        "bgcolor": "green",
        "id": "9c4292da-2e00-4fae-bd72-77ed44064a96",
        "name": ""
       },
       "grabbable": true,
       "grabbed": false,
       "position": {
        "x": 788.3040935672515,
        "y": 777.7777777777778
       },
       "selectable": false
      }
     },
     "3717f2ed022f400f9a972113d5ee276c": {
      "model_module": "jupyter-cytoscape",
      "model_module_version": "^1.3.3",
      "model_name": "NodeModel",
      "state": {
       "_model_module_version": "^1.3.3",
       "_view_module_version": "^1.3.3",
       "data": {
        "bgcolor": "red",
        "id": "38958361-9111-4007-927b-4365e9c29701",
        "name": "Fuel consumption of Sea transport"
       },
       "grabbable": true,
       "grabbed": false,
       "position": {
        "x": 1769.5906432748538,
        "y": 857.1428571428571
       },
       "selectable": false
      }
     },
     "377c51455a9d42dbbb487359aa9b4f2a": {
      "model_module": "jupyter-cytoscape",
      "model_module_version": "^1.3.3",
      "model_name": "NodeModel",
      "state": {
       "_model_module_version": "^1.3.3",
       "_view_module_version": "^1.3.3",
       "data": {
        "bgcolor": "green",
        "id": "1e24689c-9f49-4a63-9ab5-166d0bb4c9f0",
        "name": ""
       },
       "grabbable": true,
       "grabbed": false,
       "position": {
        "x": 1539.1812865497077,
        "y": 1841.2698412698412
       },
       "selectable": false
      }
     },
     "37bb0b5c3dfb417b9db726953832d0a6": {
      "model_module": "jupyter-cytoscape",
      "model_module_version": "^1.3.3",
      "model_name": "EdgeModel",
      "state": {
       "_model_module_version": "^1.3.3",
       "_view_module_version": "^1.3.3",
       "data": {
        "id": "1463e7f2-104c-4b99-b26d-4f07c8e7006c",
        "source": "543359b0-d5f3-4b2b-9228-13e3560c1404",
        "target": "578dccf9-5238-4121-98bd-de24214cc787"
       },
       "selectable": false
      }
     },
     "38e161b93d7945648496adcf0e52bc7c": {
      "model_module": "jupyter-cytoscape",
      "model_module_version": "^1.3.3",
      "model_name": "NodeModel",
      "state": {
       "_model_module_version": "^1.3.3",
       "_view_module_version": "^1.3.3",
       "data": {
        "bgcolor": "green",
        "id": "18ae7db0-8d10-4b64-ad08-a11a2914c35e",
        "name": "Banana Jam"
       },
       "grabbable": true,
       "grabbed": false,
       "position": {
        "x": 0,
        "y": 968.2539682539683
       },
       "selectable": false
      }
     },
     "391612d75c3347059c450d29dec0555a": {
      "model_module": "jupyter-cytoscape",
      "model_module_version": "^1.3.3",
      "model_name": "EdgeModel",
      "state": {
       "_model_module_version": "^1.3.3",
       "_view_module_version": "^1.3.3",
       "data": {
        "id": "f09eced8-82ca-4ef6-a0f0-59f46b73671b",
        "source": "1cea6308-5b83-4a3a-a922-9f306c56e76c",
        "target": "17367f53-a2c3-425f-ae2c-bec6b1c5659d"
       },
       "selectable": false
      }
     },
     "3a1d8681a0d7410b95ebda021a17552f": {
      "model_module": "jupyter-cytoscape",
      "model_module_version": "^1.3.3",
      "model_name": "EdgeModel",
      "state": {
       "_model_module_version": "^1.3.3",
       "_view_module_version": "^1.3.3",
       "data": {
        "id": "31c8c97c-29e2-489c-ace2-5110fc5c5a4b",
        "source": "113a7474-301a-4d5e-a26f-79b065d0617f",
        "target": "9d92bb4a-872f-4459-8a6a-212a425e8393"
       },
       "selectable": false
      }
     },
     "3b78c48bfd9245ff989254995a1a56fc": {
      "model_module": "jupyter-cytoscape",
      "model_module_version": "^1.3.3",
      "model_name": "EdgeModel",
      "state": {
       "_model_module_version": "^1.3.3",
       "_view_module_version": "^1.3.3",
       "data": {
        "id": "95464a1e-04d1-4607-a741-2dab9f9490cf",
        "source": "53e8b769-260e-4dde-9cad-9c6b9a489ef5",
        "target": "116ff154-684d-4dfa-8dfd-9f7e4bc8ec6b"
       },
       "selectable": false
      }
     },
     "3bda6d30d6b1493aa8dae0b96ca801c5": {
      "model_module": "jupyter-cytoscape",
      "model_module_version": "^1.3.3",
      "model_name": "EdgeModel",
      "state": {
       "_model_module_version": "^1.3.3",
       "_view_module_version": "^1.3.3",
       "data": {
        "id": "cf44537b-0443-4a8e-a2d8-13e729cb2feb",
        "source": "dc034eec-2bc6-4f2a-9651-062a6056dbb8",
        "target": "6e9f3ff4-75c2-4120-81c5-da73f8adabab"
       },
       "selectable": false
      }
     },
     "3be13e907f58466a8c792a86146b235a": {
      "model_module": "jupyter-cytoscape",
      "model_module_version": "^1.3.3",
      "model_name": "NodeModel",
      "state": {
       "_model_module_version": "^1.3.3",
       "_view_module_version": "^1.3.3",
       "data": {
        "bgcolor": "green",
        "id": "554e8f91-05ee-43f6-81a3-ed168ef91ffc",
        "name": ""
       },
       "grabbable": true,
       "grabbed": false,
       "position": {
        "x": 1539.1812865497077,
        "y": 365.07936507936506
       },
       "selectable": false
      }
     },
     "3dae15a9beba4b889053a2731de82f9c": {
      "model_module": "jupyter-cytoscape",
      "model_module_version": "^1.3.3",
      "model_name": "NodeModel",
      "state": {
       "_model_module_version": "^1.3.3",
       "_view_module_version": "^1.3.3",
       "data": {
        "bgcolor": "red",
        "id": "e7248aba-18d9-4bd8-8526-e238650ec613",
        "name": "Fuel consumption of Truck transport"
       },
       "grabbable": true,
       "grabbed": false,
       "position": {
        "x": 1769.5906432748538,
        "y": 1142.857142857143
       },
       "selectable": false
      }
     },
     "3e0ff8acd128453c8d228ac905d94288": {
      "model_module": "jupyter-cytoscape",
      "model_module_version": "^1.3.3",
      "model_name": "NodeModel",
      "state": {
       "_model_module_version": "^1.3.3",
       "_view_module_version": "^1.3.3",
       "data": {
        "bgcolor": "red",
        "id": "520154bd-bb42-464c-8da1-090f59e34de2",
        "name": "Truck transport"
       },
       "grabbable": true,
       "grabbed": false,
       "position": {
        "x": 1351.4619883040934,
        "y": 1269.8412698412699
       },
       "selectable": false
      }
     },
     "3e9b0b3b0d0c48ed89509f3d81d43acf": {
      "model_module": "jupyter-cytoscape",
      "model_module_version": "^1.3.3",
      "model_name": "NodeModel",
      "state": {
       "_model_module_version": "^1.3.3",
       "_view_module_version": "^1.3.3",
       "data": {
        "bgcolor": "green",
        "id": "58f98d63-effb-4b23-ac24-5f41a96dd06a",
        "name": ""
       },
       "grabbable": true,
       "grabbed": false,
       "position": {
        "x": 1539.1812865497077,
        "y": 0
       },
       "selectable": false
      }
     },
     "3ebf05d378be44828ae13e60d65cc86f": {
      "model_module": "jupyter-cytoscape",
      "model_module_version": "^1.3.3",
      "model_name": "EdgeModel",
      "state": {
       "_model_module_version": "^1.3.3",
       "_view_module_version": "^1.3.3",
       "data": {
        "id": "0ada2d99-4ba3-477d-9d87-bfd78c608f0e",
        "source": "2d39ad6c-c6d5-495d-bfc2-97470188b2fb",
        "target": "98af4f07-f54a-44ba-afe8-3414c6a6eb66"
       },
       "selectable": false
      }
     },
     "40a25d331b154fe3a873c8fa93599095": {
      "model_module": "jupyter-cytoscape",
      "model_module_version": "^1.3.3",
      "model_name": "NodeModel",
      "state": {
       "_model_module_version": "^1.3.3",
       "_view_module_version": "^1.3.3",
       "data": {
        "bgcolor": "red",
        "id": "36b6898c-1aa5-4562-8d1e-f91b52dec416",
        "name": "Bananas"
       },
       "grabbable": true,
       "grabbed": false,
       "position": {
        "x": 225.14619883040933,
        "y": 809.5238095238095
       },
       "selectable": false
      }
     },
     "4135530a66cd4b9986b616173554c316": {
      "model_module": "jupyter-cytoscape",
      "model_module_version": "^1.3.3",
      "model_name": "NodeModel",
      "state": {
       "_model_module_version": "^1.3.3",
       "_view_module_version": "^1.3.3",
       "data": {
        "bgcolor": "red",
        "id": "68e3f5d9-3750-41d2-8e58-ec5b1aeca988",
        "name": "Truck transport"
       },
       "grabbable": true,
       "grabbed": false,
       "position": {
        "x": 1351.4619883040934,
        "y": 825.3968253968253
       },
       "selectable": false
      }
     },
     "41c804800cf64e0dabc68a50ef05fc04": {
      "model_module": "jupyter-cytoscape",
      "model_module_version": "^1.3.3",
      "model_name": "EdgeModel",
      "state": {
       "_model_module_version": "^1.3.3",
       "_view_module_version": "^1.3.3",
       "data": {
        "id": "0a583bc0-e561-4233-91c3-ce51df2843a9",
        "source": "2a518537-a3fd-4836-93ea-ba9b2f654975",
        "target": "0db9cd2c-f6b2-4a3f-84eb-ee98af1f134b"
       },
       "selectable": false
      }
     },
     "4252b6ab4a294e68995f3c9bd0d4c5a7": {
      "model_module": "jupyter-cytoscape",
      "model_module_version": "^1.3.3",
      "model_name": "GraphModel",
      "state": {
       "_adj": {},
       "_model_module_version": "^1.3.3",
       "_view_module": "jupyter-cytoscape",
       "_view_module_version": "^1.3.3"
      }
     },
     "4293531136f34ab88d7733fcee7d31a4": {
      "model_module": "jupyter-cytoscape",
      "model_module_version": "^1.3.3",
      "model_name": "NodeModel",
      "state": {
       "_model_module_version": "^1.3.3",
       "_view_module_version": "^1.3.3",
       "data": {
        "bgcolor": "red",
        "id": "9dde72f9-8d53-43e6-bbf8-f5d56f58e5dd",
        "name": "Truck transport"
       },
       "grabbable": true,
       "grabbed": false,
       "position": {
        "x": 1351.4619883040934,
        "y": 1190.4761904761904
       },
       "selectable": false
      }
     },
     "42a77c8ab4e5442eb82ab205d23317e5": {
      "model_module": "jupyter-cytoscape",
      "model_module_version": "^1.3.3",
      "model_name": "NodeModel",
      "state": {
       "_model_module_version": "^1.3.3",
       "_view_module_version": "^1.3.3",
       "data": {
        "bgcolor": "red",
        "id": "2a6c46bf-cce5-4a5a-bd88-e9127cabd906",
        "name": "Truck transport"
       },
       "grabbable": true,
       "grabbed": false,
       "position": {
        "x": 1769.5906432748538,
        "y": 1682.5396825396826
       },
       "selectable": false
      }
     },
     "4381019afa684962ad1d6358242518d5": {
      "model_module": "jupyter-cytoscape",
      "model_module_version": "^1.3.3",
      "model_name": "NodeModel",
      "state": {
       "_model_module_version": "^1.3.3",
       "_view_module_version": "^1.3.3",
       "data": {
        "bgcolor": "green",
        "id": "04d88276-bd11-44cc-9e18-c0a643470a39",
        "name": ""
       },
       "grabbable": true,
       "grabbed": false,
       "position": {
        "x": 1163.7426900584794,
        "y": 1793.6507936507937
       },
       "selectable": false
      }
     },
     "43eac111b81d43d39bb7981a2c5ab246": {
      "model_module": "jupyter-cytoscape",
      "model_module_version": "^1.3.3",
      "model_name": "EdgeModel",
      "state": {
       "_model_module_version": "^1.3.3",
       "_view_module_version": "^1.3.3",
       "data": {
        "id": "f582ea49-929c-4fda-a1ed-27afefe96d81",
        "source": "8c41793d-e24e-487a-981f-4e243243fcd1",
        "target": "fa708600-8a2c-449f-a4ca-f67fd1209805"
       },
       "selectable": false
      }
     },
     "44b39b30fb724f6f90985de0926713df": {
      "model_module": "jupyter-cytoscape",
      "model_module_version": "^1.3.3",
      "model_name": "NodeModel",
      "state": {
       "_model_module_version": "^1.3.3",
       "_view_module_version": "^1.3.3",
       "data": {
        "bgcolor": "red",
        "id": "116ff154-684d-4dfa-8dfd-9f7e4bc8ec6b",
        "name": "Bananas"
       },
       "grabbable": true,
       "grabbed": false,
       "position": {
        "x": 976.0233918128655,
        "y": 142.85714285714286
       },
       "selectable": false
      }
     },
     "463eb11c36c140c0b78c1786236bd69c": {
      "model_module": "jupyter-cytoscape",
      "model_module_version": "^1.3.3",
      "model_name": "NodeModel",
      "state": {
       "_model_module_version": "^1.3.3",
       "_view_module_version": "^1.3.3",
       "data": {
        "bgcolor": "green",
        "id": "9d92bb4a-872f-4459-8a6a-212a425e8393",
        "name": ""
       },
       "grabbable": true,
       "grabbed": false,
       "position": {
        "x": 1539.1812865497077,
        "y": 1365.079365079365
       },
       "selectable": false
      }
     },
     "465d0b9085ed48958abf24fd4932227f": {
      "model_module": "jupyter-cytoscape",
      "model_module_version": "^1.3.3",
      "model_name": "EdgeModel",
      "state": {
       "_model_module_version": "^1.3.3",
       "_view_module_version": "^1.3.3",
       "data": {
        "id": "4b0cf67b-9537-4fa2-9319-016f3ab79521",
        "source": "45662d6d-9fe2-4494-bdc8-2f3db91ebc27",
        "target": "d694d7ee-4851-4867-b8a5-b4319255c1b4"
       },
       "selectable": false
      }
     },
     "467f5e6c5aeb40ee9821c3b828a3296a": {
      "model_module": "jupyter-cytoscape",
      "model_module_version": "^1.3.3",
      "model_name": "NodeModel",
      "state": {
       "_model_module_version": "^1.3.3",
       "_view_module_version": "^1.3.3",
       "data": {
        "bgcolor": "red",
        "id": "87d4c5b6-d481-4207-8581-dcb461bc2d93",
        "name": "Lemon Juice Concentrate"
       },
       "grabbable": true,
       "grabbed": false,
       "position": {
        "x": 1351.4619883040934,
        "y": 1968.2539682539682
       },
       "selectable": false
      }
     },
     "46ba46e2eee8455ea8a97f1f991b1741": {
      "model_module": "jupyter-cytoscape",
      "model_module_version": "^1.3.3",
      "model_name": "NodeModel",
      "state": {
       "_model_module_version": "^1.3.3",
       "_view_module_version": "^1.3.3",
       "data": {
        "bgcolor": "red",
        "id": "ddec5765-2557-4d5b-8ef1-75cde94a7ebb",
        "name": "Fuel consumption of Truck transport"
       },
       "grabbable": true,
       "grabbed": false,
       "position": {
        "x": 1769.5906432748538,
        "y": 444.4444444444444
       },
       "selectable": false
      }
     },
     "471c9b18ac5344d187f132f624795bbd": {
      "model_module": "jupyter-cytoscape",
      "model_module_version": "^1.3.3",
      "model_name": "NodeModel",
      "state": {
       "_model_module_version": "^1.3.3",
       "_view_module_version": "^1.3.3",
       "data": {
        "bgcolor": "red",
        "id": "5d2759e2-27ae-4aad-93d3-942ceaf985ea",
        "name": "Sea transport"
       },
       "grabbable": true,
       "grabbed": false,
       "position": {
        "x": 1769.5906432748538,
        "y": 253.96825396825395
       },
       "selectable": false
      }
     },
     "473d6983a6ee40f1ac23be1d68b84ff9": {
      "model_module": "jupyter-cytoscape",
      "model_module_version": "^1.3.3",
      "model_name": "EdgeModel",
      "state": {
       "_model_module_version": "^1.3.3",
       "_view_module_version": "^1.3.3",
       "data": {
        "id": "ba09cea4-a0f3-4890-a6d4-55f255ea8a06",
        "source": "fbcb5709-5f62-467e-8d18-e64b27f81c06",
        "target": "d2dda7c7-1b88-48ad-aaf8-054e7a2b8362"
       },
       "selectable": false
      }
     },
     "4755a67589fd4fc8a76f9faf8f725bc3": {
      "model_module": "jupyter-cytoscape",
      "model_module_version": "^1.3.3",
      "model_name": "NodeModel",
      "state": {
       "_model_module_version": "^1.3.3",
       "_view_module_version": "^1.3.3",
       "data": {
        "bgcolor": "red",
        "id": "d45a0623-2534-47ef-b1b7-b4541a310742",
        "name": "Lemon Juice Concentrate"
       },
       "grabbable": true,
       "grabbed": false,
       "position": {
        "x": 1769.5906432748538,
        "y": 1968.2539682539682
       },
       "selectable": false
      }
     },
     "47b3b0df335242638cbf9557da5c1642": {
      "model_module": "jupyter-cytoscape",
      "model_module_version": "^1.3.3",
      "model_name": "NodeModel",
      "state": {
       "_model_module_version": "^1.3.3",
       "_view_module_version": "^1.3.3",
       "data": {
        "bgcolor": "green",
        "id": "53e8b769-260e-4dde-9cad-9c6b9a489ef5",
        "name": ""
       },
       "grabbable": true,
       "grabbed": false,
       "position": {
        "x": 788.3040935672515,
        "y": 825.3968253968253
       },
       "selectable": false
      }
     },
     "47f45a68d8cf41e1bb01c24919b13273": {
      "model_module": "jupyter-cytoscape",
      "model_module_version": "^1.3.3",
      "model_name": "EdgeModel",
      "state": {
       "_model_module_version": "^1.3.3",
       "_view_module_version": "^1.3.3",
       "data": {
        "id": "ae7dcf0a-c790-4259-9c29-23620ca575ae",
        "source": "fbcb5709-5f62-467e-8d18-e64b27f81c06",
        "target": "817eac1f-4299-40e4-8d70-fda54bab05a2"
       },
       "selectable": false
      }
     },
     "482a4372f52d42c49d2b42d614ad0baf": {
      "model_module": "jupyter-cytoscape",
      "model_module_version": "^1.3.3",
      "model_name": "EdgeModel",
      "state": {
       "_model_module_version": "^1.3.3",
       "_view_module_version": "^1.3.3",
       "data": {
        "id": "91f52800-b52b-41bf-ae71-81fc4de2547a",
        "source": "c9273b8a-1b57-4f96-85c9-bb0e49426469",
        "target": "add243ef-4fe1-4574-827a-0de4280013e2"
       },
       "selectable": false
      }
     },
     "48768abe6d224f7282aeec5045672c27": {
      "model_module": "jupyter-cytoscape",
      "model_module_version": "^1.3.3",
      "model_name": "EdgeModel",
      "state": {
       "_model_module_version": "^1.3.3",
       "_view_module_version": "^1.3.3",
       "data": {
        "id": "b6ab6888-8c77-4fcf-bdea-3944fb26dc7e",
        "source": "116ff154-684d-4dfa-8dfd-9f7e4bc8ec6b",
        "target": "1a593fea-c528-4cd1-af69-6e7cff4edeff"
       },
       "selectable": false
      }
     },
     "4970b0abef8942568b115791d18f4e6a": {
      "model_module": "jupyter-cytoscape",
      "model_module_version": "^1.3.3",
      "model_name": "NodeModel",
      "state": {
       "_model_module_version": "^1.3.3",
       "_view_module_version": "^1.3.3",
       "data": {
        "bgcolor": "red",
        "id": "035fc364-d89e-4c5f-bb43-cbb8bc7398cb",
        "name": "Fuel consumption of Truck transport"
       },
       "grabbable": true,
       "grabbed": false,
       "position": {
        "x": 1769.5906432748538,
        "y": 634.9206349206349
       },
       "selectable": false
      }
     },
     "49a130c8ccf444b084bda582f7bdd624": {
      "model_module": "jupyter-cytoscape",
      "model_module_version": "^1.3.3",
      "model_name": "EdgeModel",
      "state": {
       "_model_module_version": "^1.3.3",
       "_view_module_version": "^1.3.3",
       "data": {
        "id": "25bfbd4c-b8fc-47c9-aa05-b5da1477061c",
        "source": "1f3eb385-61c5-4024-8b4b-bef4dc68c4d3",
        "target": "2a6c46bf-cce5-4a5a-bd88-e9127cabd906"
       },
       "selectable": false
      }
     },
     "4a35f2293c424ee886a7743ef9e51e70": {
      "model_module": "jupyter-cytoscape",
      "model_module_version": "^1.3.3",
      "model_name": "NodeModel",
      "state": {
       "_model_module_version": "^1.3.3",
       "_view_module_version": "^1.3.3",
       "data": {
        "bgcolor": "red",
        "id": "e09580d6-b7bd-4870-8686-b869b5e4b9e2",
        "name": "Truck transport"
       },
       "grabbable": true,
       "grabbed": false,
       "position": {
        "x": 1769.5906432748538,
        "y": 1555.5555555555557
       },
       "selectable": false
      }
     },
     "4adb0251619e4ea18d4b30fb1b77febf": {
      "model_module": "jupyter-cytoscape",
      "model_module_version": "^1.3.3",
      "model_name": "EdgeModel",
      "state": {
       "_model_module_version": "^1.3.3",
       "_view_module_version": "^1.3.3",
       "data": {
        "id": "037d0a74-ceb2-4c99-b828-24ed5b786a5b",
        "source": "7fdaed29-5af2-44b0-b661-10fe7fa5fabd",
        "target": "578dccf9-5238-4121-98bd-de24214cc787"
       },
       "selectable": false
      }
     },
     "4b16832e0ced469f813d8e22feb151cf": {
      "model_module": "jupyter-cytoscape",
      "model_module_version": "^1.3.3",
      "model_name": "EdgeModel",
      "state": {
       "_model_module_version": "^1.3.3",
       "_view_module_version": "^1.3.3",
       "data": {
        "id": "367d4368-61de-4dbf-b513-97d6bb378270",
        "source": "add243ef-4fe1-4574-827a-0de4280013e2",
        "target": "b92e82a2-46ae-406a-bdd4-58560fe94049"
       },
       "selectable": false
      }
     },
     "4e6e59cb5d104e0e9b2fc99bfa4671ad": {
      "model_module": "jupyter-cytoscape",
      "model_module_version": "^1.3.3",
      "model_name": "NodeModel",
      "state": {
       "_model_module_version": "^1.3.3",
       "_view_module_version": "^1.3.3",
       "data": {
        "bgcolor": "red",
        "id": "96381f01-a421-4397-b496-eecf7e9257c6",
        "name": "Fuel consumption of Truck transport"
       },
       "grabbable": true,
       "grabbed": false,
       "position": {
        "x": 1769.5906432748538,
        "y": 1079.3650793650793
       },
       "selectable": false
      }
     },
     "4e80d83be58f4054b452d2deb24388d6": {
      "model_module": "jupyter-cytoscape",
      "model_module_version": "^1.3.3",
      "model_name": "NodeModel",
      "state": {
       "_model_module_version": "^1.3.3",
       "_view_module_version": "^1.3.3",
       "data": {
        "bgcolor": "red",
        "id": "6e79b05b-6a13-4ba4-8bf4-38f597ee77ec",
        "name": "Lemon Juice Concentrate"
       },
       "grabbable": true,
       "grabbed": false,
       "position": {
        "x": 1769.5906432748538,
        "y": 2000
       },
       "selectable": false
      }
     },
     "4eac1e32cf344afb81a6b301f293b4a7": {
      "model_module": "jupyter-cytoscape",
      "model_module_version": "^1.3.3",
      "model_name": "NodeModel",
      "state": {
       "_model_module_version": "^1.3.3",
       "_view_module_version": "^1.3.3",
       "data": {
        "bgcolor": "red",
        "id": "c17e0ea8-8efd-49da-80b9-2e9b18644e47",
        "name": "Bananas"
       },
       "grabbable": true,
       "grabbed": false,
       "position": {
        "x": 1769.5906432748538,
        "y": 222.2222222222222
       },
       "selectable": false
      }
     },
     "4ef3d5ea05a4482abfa6092de5c5eded": {
      "model_module": "jupyter-cytoscape",
      "model_module_version": "^1.3.3",
      "model_name": "NodeModel",
      "state": {
       "_model_module_version": "^1.3.3",
       "_view_module_version": "^1.3.3",
       "data": {
        "bgcolor": "green",
        "id": "6bdae3f4-ea9f-4b46-98ef-f6043672b880",
        "name": ""
       },
       "grabbable": true,
       "grabbed": false,
       "position": {
        "x": 1539.1812865497077,
        "y": 682.5396825396825
       },
       "selectable": false
      }
     },
     "4f32d35d4c414a9a893f04b6df1a671e": {
      "model_module": "jupyter-cytoscape",
      "model_module_version": "^1.3.3",
      "model_name": "NodeModel",
      "state": {
       "_model_module_version": "^1.3.3",
       "_view_module_version": "^1.3.3",
       "data": {
        "bgcolor": "red",
        "id": "a2e7d106-1f93-440c-a63c-9b5d11e832b8",
        "name": "Bananas"
       },
       "grabbable": true,
       "grabbed": false,
       "position": {
        "x": 1769.5906432748538,
        "y": 95.23809523809523
       },
       "selectable": false
      }
     },
     "4ff404cf5b0148b6a52f36eb7942c907": {
      "model_module": "jupyter-cytoscape",
      "model_module_version": "^1.3.3",
      "model_name": "EdgeModel",
      "state": {
       "_model_module_version": "^1.3.3",
       "_view_module_version": "^1.3.3",
       "data": {
        "id": "7e3365a9-08d8-4a34-b206-0c69b661098b",
        "source": "79fde9b6-7e9c-4d8c-be69-545ed5f899a0",
        "target": "edb6ba2e-6df0-4e33-82be-810941dbc220"
       },
       "selectable": false
      }
     },
     "4ffd6a9fbdd54478b9162432e57cd7f9": {
      "model_module": "jupyter-cytoscape",
      "model_module_version": "^1.3.3",
      "model_name": "EdgeModel",
      "state": {
       "_model_module_version": "^1.3.3",
       "_view_module_version": "^1.3.3",
       "data": {
        "id": "fc790674-0e3e-4a2c-9f22-a059a6a5c569",
        "source": "400ea7af-14d2-4c2a-82f1-2ca7a44fe212",
        "target": "38436942-4600-46a5-838f-391cd0c695e1"
       },
       "selectable": false
      }
     },
     "50a7a729dab448c3b6aa12784ccefecd": {
      "model_module": "jupyter-cytoscape",
      "model_module_version": "^1.3.3",
      "model_name": "NodeModel",
      "state": {
       "_model_module_version": "^1.3.3",
       "_view_module_version": "^1.3.3",
       "data": {
        "bgcolor": "red",
        "id": "543359b0-d5f3-4b2b-9228-13e3560c1404",
        "name": "Bananas"
       },
       "grabbable": true,
       "grabbed": false,
       "position": {
        "x": 1769.5906432748538,
        "y": 0
       },
       "selectable": false
      }
     },
     "51885e83d27e42ccb0b3609854ed6f47": {
      "model_module": "jupyter-cytoscape",
      "model_module_version": "^1.3.3",
      "model_name": "NodeModel",
      "state": {
       "_model_module_version": "^1.3.3",
       "_view_module_version": "^1.3.3",
       "data": {
        "id": "38436942-4600-46a5-838f-391cd0c695e1"
       },
       "grabbable": true,
       "grabbed": false,
       "position": {
        "x": 2000,
        "y": 809.5238095238095
       },
       "selectable": false
      }
     },
     "5191337858824a2480ca9254cdb86113": {
      "model_module": "jupyter-cytoscape",
      "model_module_version": "^1.3.3",
      "model_name": "EdgeModel",
      "state": {
       "_model_module_version": "^1.3.3",
       "_view_module_version": "^1.3.3",
       "data": {
        "id": "6855ae42-eb77-420d-a678-ae405cfd45b2",
        "source": "5696168d-4a81-4a26-be7e-ac44a10f827f",
        "target": "d4cfebc2-3e4e-485b-bdec-442240107965"
       },
       "selectable": false
      }
     },
     "521101e00dbb47deaa96937869a7f93d": {
      "model_module": "jupyter-cytoscape",
      "model_module_version": "^1.3.3",
      "model_name": "EdgeModel",
      "state": {
       "_model_module_version": "^1.3.3",
       "_view_module_version": "^1.3.3",
       "data": {
        "id": "5032e756-afdf-40f7-be16-9119a5c85904",
        "source": "7c1f1707-d215-4721-9072-daae255fe013",
        "target": "64f7b725-6180-41db-92b2-aab0d61a82bf"
       },
       "selectable": false
      }
     },
     "52722cfc150d4fab9af4f9c26b546d36": {
      "model_module": "jupyter-cytoscape",
      "model_module_version": "^1.3.3",
      "model_name": "EdgeModel",
      "state": {
       "_model_module_version": "^1.3.3",
       "_view_module_version": "^1.3.3",
       "data": {
        "id": "1a6c9830-3e95-49e7-b461-c558347f5c30",
        "source": "1d6c31ee-736f-4e95-8207-fb68d598a534",
        "target": "f297b2aa-89fc-4e7c-abbf-645e9bf3d63c"
       },
       "selectable": false
      }
     },
     "527c35673c5e42d4b5a9729b33b74e45": {
      "model_module": "jupyter-cytoscape",
      "model_module_version": "^1.3.3",
      "model_name": "EdgeModel",
      "state": {
       "_model_module_version": "^1.3.3",
       "_view_module_version": "^1.3.3",
       "data": {
        "id": "a976b2c8-878b-4827-ab9d-d1ba6fb0eb39",
        "source": "d66086f4-787a-4434-9ae0-5a0a3c37d65a",
        "target": "50a64e95-77b0-4f26-a205-bbacdd3e11ce"
       },
       "selectable": false
      }
     },
     "52b56889172c49a2be7b66adb095d09f": {
      "model_module": "jupyter-cytoscape",
      "model_module_version": "^1.3.3",
      "model_name": "EdgeModel",
      "state": {
       "_model_module_version": "^1.3.3",
       "_view_module_version": "^1.3.3",
       "data": {
        "id": "3f7cd57d-7a7f-48a3-a343-0e6b675b1384",
        "source": "fbcb5709-5f62-467e-8d18-e64b27f81c06",
        "target": "470a4803-6577-49ca-b908-17cac3a0befc"
       },
       "selectable": false
      }
     },
     "53a8052b9cc043bca76145ef3b6efcd4": {
      "model_module": "jupyter-cytoscape",
      "model_module_version": "^1.3.3",
      "model_name": "NodeModel",
      "state": {
       "_model_module_version": "^1.3.3",
       "_view_module_version": "^1.3.3",
       "data": {
        "bgcolor": "red",
        "id": "3263e7ad-f78b-4536-af31-1096b2ce356f",
        "name": "Bananas"
       },
       "grabbable": true,
       "grabbed": false,
       "position": {
        "x": 1769.5906432748538,
        "y": 63.49206349206349
       },
       "selectable": false
      }
     },
     "54c7bbc5782841e8aa6e4fb2dee77726": {
      "model_module": "jupyter-cytoscape",
      "model_module_version": "^1.3.3",
      "model_name": "EdgeModel",
      "state": {
       "_model_module_version": "^1.3.3",
       "_view_module_version": "^1.3.3",
       "data": {
        "id": "a6dfbfda-0b9f-4aed-8857-39cd55f73d6f",
        "source": "36b6898c-1aa5-4562-8d1e-f91b52dec416",
        "target": "444bd5df-6b3c-4ae9-9f91-81d474b1d6f9"
       },
       "selectable": false
      }
     },
     "55904165beb34f95a97b9bad066522e9": {
      "model_module": "jupyter-cytoscape",
      "model_module_version": "^1.3.3",
      "model_name": "EdgeModel",
      "state": {
       "_model_module_version": "^1.3.3",
       "_view_module_version": "^1.3.3",
       "data": {
        "id": "e323168c-b5f6-4e17-87a7-01fc2d6f22b5",
        "source": "add243ef-4fe1-4574-827a-0de4280013e2",
        "target": "0210e4a1-4728-4d9b-a58b-4f3d2d07de7c"
       },
       "selectable": false
      }
     },
     "57c0d6e4c1e34353a109dc9bb18407cb": {
      "model_module": "jupyter-cytoscape",
      "model_module_version": "^1.3.3",
      "model_name": "NodeModel",
      "state": {
       "_model_module_version": "^1.3.3",
       "_view_module_version": "^1.3.3",
       "data": {
        "bgcolor": "green",
        "id": "d66086f4-787a-4434-9ae0-5a0a3c37d65a",
        "name": ""
       },
       "grabbable": true,
       "grabbed": false,
       "position": {
        "x": 788.3040935672515,
        "y": 1158.7301587301588
       },
       "selectable": false
      }
     },
     "57e31fd43f524721a47ea9b0fd4cd30c": {
      "model_module": "jupyter-cytoscape",
      "model_module_version": "^1.3.3",
      "model_name": "EdgeModel",
      "state": {
       "_model_module_version": "^1.3.3",
       "_view_module_version": "^1.3.3",
       "data": {
        "id": "fcc8e1f2-9045-4a5a-bca7-07eee8d5034f",
        "source": "e7248aba-18d9-4bd8-8526-e238650ec613",
        "target": "38436942-4600-46a5-838f-391cd0c695e1"
       },
       "selectable": false
      }
     },
     "596454c493fd4f1b8f0c021a59019a3b": {
      "model_module": "jupyter-cytoscape",
      "model_module_version": "^1.3.3",
      "model_name": "EdgeModel",
      "state": {
       "_model_module_version": "^1.3.3",
       "_view_module_version": "^1.3.3",
       "data": {
        "id": "66f40a1d-1b75-4d69-bc37-7a37c411aea3",
        "source": "1a593fea-c528-4cd1-af69-6e7cff4edeff",
        "target": "79fde9b6-7e9c-4d8c-be69-545ed5f899a0"
       },
       "selectable": false
      }
     },
     "59f2f379ed7544ea860c0c8e16935eaf": {
      "model_module": "jupyter-cytoscape",
      "model_module_version": "^1.3.3",
      "model_name": "EdgeModel",
      "state": {
       "_model_module_version": "^1.3.3",
       "_view_module_version": "^1.3.3",
       "data": {
        "id": "c5bb4a7d-4dfc-488f-9567-e56890e0fd89",
        "source": "742608f2-6626-4685-b7db-b569a08354c8",
        "target": "38436942-4600-46a5-838f-391cd0c695e1"
       },
       "selectable": false
      }
     },
     "5a3c09b86c764934bebcecfa29c435dd": {
      "model_module": "jupyter-cytoscape",
      "model_module_version": "^1.3.3",
      "model_name": "EdgeModel",
      "state": {
       "_model_module_version": "^1.3.3",
       "_view_module_version": "^1.3.3",
       "data": {
        "id": "7fcc63e3-c363-4e55-b5cd-a56cad14cd48",
        "source": "45662d6d-9fe2-4494-bdc8-2f3db91ebc27",
        "target": "c17e0ea8-8efd-49da-80b9-2e9b18644e47"
       },
       "selectable": false
      }
     },
     "5a473c5adc5c4ff4a0185bb8b12915f4": {
      "model_module": "@jupyter-widgets/controls",
      "model_module_version": "2.0.0",
      "model_name": "HTMLStyleModel",
      "state": {
       "description_width": "",
       "font_size": null,
       "text_color": null
      }
     },
     "5a6ece871f1344eb987887339fd0363e": {
      "model_module": "jupyter-cytoscape",
      "model_module_version": "^1.3.3",
      "model_name": "NodeModel",
      "state": {
       "_model_module_version": "^1.3.3",
       "_view_module_version": "^1.3.3",
       "data": {
        "bgcolor": "red",
        "id": "50a64e95-77b0-4f26-a205-bbacdd3e11ce",
        "name": "Sea transport"
       },
       "grabbable": true,
       "grabbed": false,
       "position": {
        "x": 1351.4619883040934,
        "y": 619.047619047619
       },
       "selectable": false
      }
     },
     "5bcff29fb3a7452483015232b490a6c2": {
      "model_module": "jupyter-cytoscape",
      "model_module_version": "^1.3.3",
      "model_name": "EdgeModel",
      "state": {
       "_model_module_version": "^1.3.3",
       "_view_module_version": "^1.3.3",
       "data": {
        "id": "601df95a-a286-444e-9394-b81a61bdb58e",
        "source": "5ac0c1c0-0661-4471-a3db-d39ba94ddbdd",
        "target": "d09a6268-5bcd-41a2-94cc-7f4f63c9491d"
       },
       "selectable": false
      }
     },
     "5be2d6b4a9f449fc977a99baab525c62": {
      "model_module": "jupyter-cytoscape",
      "model_module_version": "^1.3.3",
      "model_name": "NodeModel",
      "state": {
       "_model_module_version": "^1.3.3",
       "_view_module_version": "^1.3.3",
       "data": {
        "bgcolor": "red",
        "id": "f9fdd91f-33b6-4e5a-b1b1-ca4f12298558",
        "name": "Fuel consumption of Sea transport"
       },
       "grabbable": true,
       "grabbed": false,
       "position": {
        "x": 1769.5906432748538,
        "y": 571.4285714285714
       },
       "selectable": false
      }
     },
     "5c3373c1a7ae411aba14ba6464240c77": {
      "model_module": "jupyter-cytoscape",
      "model_module_version": "^1.3.3",
      "model_name": "EdgeModel",
      "state": {
       "_model_module_version": "^1.3.3",
       "_view_module_version": "^1.3.3",
       "data": {
        "id": "b964f5bb-b6c5-43d2-9ca0-b89236e88c43",
        "source": "81c62011-d4f6-45ad-be15-7ec1c0d71daf",
        "target": "04d88276-bd11-44cc-9e18-c0a643470a39"
       },
       "selectable": false
      }
     },
     "5c3e768088eb4c8598e35fd391cf42f2": {
      "model_module": "jupyter-cytoscape",
      "model_module_version": "^1.3.3",
      "model_name": "EdgeModel",
      "state": {
       "_model_module_version": "^1.3.3",
       "_view_module_version": "^1.3.3",
       "data": {
        "id": "41cbf8f0-b940-44b4-9a08-838fc24e7cc1",
        "source": "04d88276-bd11-44cc-9e18-c0a643470a39",
        "target": "a372f27e-1c2d-40b2-a865-a2b4307e886e"
       },
       "selectable": false
      }
     },
     "5cc6608da90f41c5a2ca0f1ecd780e18": {
      "model_module": "jupyter-cytoscape",
      "model_module_version": "^1.3.3",
      "model_name": "EdgeModel",
      "state": {
       "_model_module_version": "^1.3.3",
       "_view_module_version": "^1.3.3",
       "data": {
        "id": "2b141102-794a-4447-b909-fc8fbf16bba9",
        "source": "9c4292da-2e00-4fae-bd72-77ed44064a96",
        "target": "73168d91-c7d1-46b0-b828-1a5d9d6afb70"
       },
       "selectable": false
      }
     },
     "5cca240c14e644748bf6db260f167e3d": {
      "model_module": "jupyter-cytoscape",
      "model_module_version": "^1.3.3",
      "model_name": "EdgeModel",
      "state": {
       "_model_module_version": "^1.3.3",
       "_view_module_version": "^1.3.3",
       "data": {
        "id": "75d2f990-d605-4ce5-9720-6ace8be1acb4",
        "source": "444bd5df-6b3c-4ae9-9f91-81d474b1d6f9",
        "target": "5696168d-4a81-4a26-be7e-ac44a10f827f"
       },
       "selectable": false
      }
     },
     "5d2e12e03ccf496b881a04868dc83c1a": {
      "model_module": "jupyter-cytoscape",
      "model_module_version": "^1.3.3",
      "model_name": "EdgeModel",
      "state": {
       "_model_module_version": "^1.3.3",
       "_view_module_version": "^1.3.3",
       "data": {
        "id": "54f09f86-23a7-45d4-9476-ea32771f2369",
        "source": "10ae186d-dabb-4f5c-9e48-20c1a4c202d0",
        "target": "38436942-4600-46a5-838f-391cd0c695e1"
       },
       "selectable": false
      }
     },
     "5d3ab4320a934a08a94b6c4bab17b631": {
      "model_module": "jupyter-cytoscape",
      "model_module_version": "^1.3.3",
      "model_name": "EdgeModel",
      "state": {
       "_model_module_version": "^1.3.3",
       "_view_module_version": "^1.3.3",
       "data": {
        "id": "a153f433-bce6-42e8-85b5-fc746ea66175",
        "source": "d820c402-0064-4edb-af1b-dd0ad3e46812",
        "target": "02ef0194-3aad-47d1-8d49-5b6e42a21e77"
       },
       "selectable": false
      }
     },
     "5d6977d644284c51be55792b4e30923a": {
      "model_module": "jupyter-cytoscape",
      "model_module_version": "^1.3.3",
      "model_name": "NodeModel",
      "state": {
       "_model_module_version": "^1.3.3",
       "_view_module_version": "^1.3.3",
       "data": {
        "bgcolor": "green",
        "id": "17367f53-a2c3-425f-ae2c-bec6b1c5659d",
        "name": ""
       },
       "grabbable": true,
       "grabbed": false,
       "position": {
        "x": 1539.1812865497077,
        "y": 63.49206349206349
       },
       "selectable": false
      }
     },
     "5d7ad604d2a44fcd9493f6d092ff04cc": {
      "model_module": "jupyter-cytoscape",
      "model_module_version": "^1.3.3",
      "model_name": "EdgeModel",
      "state": {
       "_model_module_version": "^1.3.3",
       "_view_module_version": "^1.3.3",
       "data": {
        "id": "6cb29183-75b6-429e-816c-faaca20c8aa6",
        "source": "b9f31657-f4ef-48df-ae60-46487b2ff751",
        "target": "98af4f07-f54a-44ba-afe8-3414c6a6eb66"
       },
       "selectable": false
      }
     },
     "5f4ccefcb10d48f8be4a1509ad927694": {
      "model_module": "jupyter-cytoscape",
      "model_module_version": "^1.3.3",
      "model_name": "EdgeModel",
      "state": {
       "_model_module_version": "^1.3.3",
       "_view_module_version": "^1.3.3",
       "data": {
        "id": "dba9da60-434b-4d30-b1b8-b6a432769bd5",
        "source": "8d3e57de-20ff-4957-aef9-5e8a236227f6",
        "target": "790c1de2-5e26-4611-8376-fa19a66c9c4d"
       },
       "selectable": false
      }
     },
     "60e5f29aed68490285eb4860a0c32c50": {
      "model_module": "jupyter-cytoscape",
      "model_module_version": "^1.3.3",
      "model_name": "EdgeModel",
      "state": {
       "_model_module_version": "^1.3.3",
       "_view_module_version": "^1.3.3",
       "data": {
        "id": "3c6e1976-d486-40ae-82d3-f04952c61c3f",
        "source": "53e8b769-260e-4dde-9cad-9c6b9a489ef5",
        "target": "6e7a91af-23bd-4569-b2aa-0b15d245ca0e"
       },
       "selectable": false
      }
     },
     "615a973b41e3441fb284e0157e9375e9": {
      "model_module": "jupyter-cytoscape",
      "model_module_version": "^1.3.3",
      "model_name": "EdgeModel",
      "state": {
       "_model_module_version": "^1.3.3",
       "_view_module_version": "^1.3.3",
       "data": {
        "id": "787a9aef-f61d-4051-a4fe-0f83c1cc8f9b",
        "source": "3314a30e-3f98-448f-b7d4-2a3da0301732",
        "target": "0241bf8c-8dcc-47e0-98ae-86ffa4e78eaf"
       },
       "selectable": false
      }
     },
     "61d1feb8159f47c5a2552a95e83b36fb": {
      "model_module": "jupyter-cytoscape",
      "model_module_version": "^1.3.3",
      "model_name": "EdgeModel",
      "state": {
       "_model_module_version": "^1.3.3",
       "_view_module_version": "^1.3.3",
       "data": {
        "id": "6415a457-fed9-4771-8b2b-c02c8e2b1794",
        "source": "9d92bb4a-872f-4459-8a6a-212a425e8393",
        "target": "892eec69-d943-4c11-8ce5-36aea298804f"
       },
       "selectable": false
      }
     },
     "62968b981c6845be9113c2a66a05d9ea": {
      "model_module": "jupyter-cytoscape",
      "model_module_version": "^1.3.3",
      "model_name": "EdgeModel",
      "state": {
       "_model_module_version": "^1.3.3",
       "_view_module_version": "^1.3.3",
       "data": {
        "id": "29ed4fbf-cd0f-4c6e-9f25-9e3be3c803b9",
        "source": "8500560f-c494-4af1-a6d0-ffa3604ec7ec",
        "target": "e1f12dc9-1aae-4da9-a788-f35757ae2098"
       },
       "selectable": false
      }
     },
     "63039cb493364696a094654dd0b3d526": {
      "model_module": "jupyter-cytoscape",
      "model_module_version": "^1.3.3",
      "model_name": "EdgeModel",
      "state": {
       "_model_module_version": "^1.3.3",
       "_view_module_version": "^1.3.3",
       "data": {
        "id": "fd3d0ef0-903c-4ef8-bf8a-0b8734ad0c57",
        "source": "6bdae3f4-ea9f-4b46-98ef-f6043672b880",
        "target": "81343dba-d23c-4c4e-a499-45765ddd7f35"
       },
       "selectable": false
      }
     },
     "63b305f717514e94a20dd3c2e87e8c9f": {
      "model_module": "jupyter-cytoscape",
      "model_module_version": "^1.3.3",
      "model_name": "EdgeModel",
      "state": {
       "_model_module_version": "^1.3.3",
       "_view_module_version": "^1.3.3",
       "data": {
        "id": "28976835-1175-4a9e-bb47-cce9ed8a85d7",
        "source": "a934f04e-46ae-463f-9e7a-ed56e3413334",
        "target": "051f74f0-4b35-4460-8de3-662530e4f60d"
       },
       "selectable": false
      }
     },
     "64a311efdde94ebe8c8b3343a2d683d6": {
      "model_module": "jupyter-cytoscape",
      "model_module_version": "^1.3.3",
      "model_name": "EdgeModel",
      "state": {
       "_model_module_version": "^1.3.3",
       "_view_module_version": "^1.3.3",
       "data": {
        "id": "092eb0a3-8869-4e02-ad96-ef8d2603e2e5",
        "source": "356732fe-917e-448a-a8da-41c690313dfd",
        "target": "554e8f91-05ee-43f6-81a3-ed168ef91ffc"
       },
       "selectable": false
      }
     },
     "65df71323af3491698ebd05cfcbaf6b0": {
      "model_module": "jupyter-cytoscape",
      "model_module_version": "^1.3.3",
      "model_name": "NodeModel",
      "state": {
       "_model_module_version": "^1.3.3",
       "_view_module_version": "^1.3.3",
       "data": {
        "bgcolor": "red",
        "id": "d205b1f6-aa03-49aa-8783-0f038d7abb84",
        "name": "Truck transport"
       },
       "grabbable": true,
       "grabbed": false,
       "position": {
        "x": 1769.5906432748538,
        "y": 1365.079365079365
       },
       "selectable": false
      }
     },
     "661ab78311bc4b2dbbb81ce04f31f47f": {
      "model_module": "jupyter-cytoscape",
      "model_module_version": "^1.3.3",
      "model_name": "NodeModel",
      "state": {
       "_model_module_version": "^1.3.3",
       "_view_module_version": "^1.3.3",
       "data": {
        "bgcolor": "green",
        "id": "2297da1a-a1d1-4131-926b-d74ea5fe3f90",
        "name": ""
       },
       "grabbable": true,
       "grabbed": false,
       "position": {
        "x": 1539.1812865497077,
        "y": 1111.111111111111
       },
       "selectable": false
      }
     },
     "66802c55697d40c19b7ffb3396dc0a87": {
      "model_module": "jupyter-cytoscape",
      "model_module_version": "^1.3.3",
      "model_name": "NodeModel",
      "state": {
       "_model_module_version": "^1.3.3",
       "_view_module_version": "^1.3.3",
       "data": {
        "bgcolor": "green",
        "id": "add243ef-4fe1-4574-827a-0de4280013e2",
        "name": ""
       },
       "grabbable": true,
       "grabbed": false,
       "position": {
        "x": 1163.7426900584794,
        "y": 15.873015873015872
       },
       "selectable": false
      }
     },
     "68e7116df6ab467e984a49188fbbc8ea": {
      "model_module": "jupyter-cytoscape",
      "model_module_version": "^1.3.3",
      "model_name": "NodeModel",
      "state": {
       "_model_module_version": "^1.3.3",
       "_view_module_version": "^1.3.3",
       "data": {
        "bgcolor": "red",
        "id": "25d8a197-f229-4efb-afe7-4de0dd1b81c9",
        "name": "Truck transport"
       },
       "grabbable": true,
       "grabbed": false,
       "position": {
        "x": 1351.4619883040934,
        "y": 904.7619047619048
       },
       "selectable": false
      }
     },
     "695e319f9f1b4d6eb724496e77bed312": {
      "model_module": "jupyter-cytoscape",
      "model_module_version": "^1.3.3",
      "model_name": "EdgeModel",
      "state": {
       "_model_module_version": "^1.3.3",
       "_view_module_version": "^1.3.3",
       "data": {
        "id": "5c89e58b-33b3-488f-9c45-f6b4ad011df8",
        "source": "5df19816-1a8e-4837-a252-2910a5116650",
        "target": "a88e6b1e-5a92-4e16-ab75-9bcfbbf7f8c6"
       },
       "selectable": false
      }
     },
     "6981b038ada6466295e3db17e364b1f2": {
      "model_module": "jupyter-cytoscape",
      "model_module_version": "^1.3.3",
      "model_name": "EdgeModel",
      "state": {
       "_model_module_version": "^1.3.3",
       "_view_module_version": "^1.3.3",
       "data": {
        "id": "9843dac5-5d7d-497a-94ee-97b277a9ba61",
        "source": "3314a30e-3f98-448f-b7d4-2a3da0301732",
        "target": "ddec5765-2557-4d5b-8ef1-75cde94a7ebb"
       },
       "selectable": false
      }
     },
     "69b633529da84956a05e976a94abc604": {
      "model_module": "jupyter-cytoscape",
      "model_module_version": "^1.3.3",
      "model_name": "NodeModel",
      "state": {
       "_model_module_version": "^1.3.3",
       "_view_module_version": "^1.3.3",
       "data": {
        "bgcolor": "red",
        "id": "5df8b0b4-d9fc-45f9-9087-2227c4d7bb07",
        "name": "Sea transport"
       },
       "grabbable": true,
       "grabbed": false,
       "position": {
        "x": 1769.5906432748538,
        "y": 317.46031746031747
       },
       "selectable": false
      }
     },
     "69e5135e8fea45d0b22777033b9a277d": {
      "model_module": "jupyter-cytoscape",
      "model_module_version": "^1.3.3",
      "model_name": "EdgeModel",
      "state": {
       "_model_module_version": "^1.3.3",
       "_view_module_version": "^1.3.3",
       "data": {
        "id": "eab12ad0-fe6c-4ac9-bef1-2ef47af8d1b2",
        "source": "61eaf3d9-6357-49f3-939e-e4535eb4c6ad",
        "target": "7b6f503a-368f-41f0-bb08-5d8cfcfc9b9b"
       },
       "selectable": false
      }
     },
     "69e916df8e2c42bb9238d51b9b8e6106": {
      "model_module": "jupyter-cytoscape",
      "model_module_version": "^1.3.3",
      "model_name": "NodeModel",
      "state": {
       "_model_module_version": "^1.3.3",
       "_view_module_version": "^1.3.3",
       "data": {
        "bgcolor": "green",
        "id": "2a518537-a3fd-4836-93ea-ba9b2f654975",
        "name": ""
       },
       "grabbable": true,
       "grabbed": false,
       "position": {
        "x": 1539.1812865497077,
        "y": 1460.3174603174602
       },
       "selectable": false
      }
     },
     "6a135387193d49aa8c174adfc0ef509b": {
      "model_module": "jupyter-cytoscape",
      "model_module_version": "^1.3.3",
      "model_name": "EdgeModel",
      "state": {
       "_model_module_version": "^1.3.3",
       "_view_module_version": "^1.3.3",
       "data": {
        "id": "e2184533-b041-47f0-b0a0-65ecaa9cad78",
        "source": "6e9f3ff4-75c2-4120-81c5-da73f8adabab",
        "target": "38436942-4600-46a5-838f-391cd0c695e1"
       },
       "selectable": false
      }
     },
     "6a51a423f42b4e17a510a1f6b1ea3299": {
      "model_module": "jupyter-cytoscape",
      "model_module_version": "^1.3.3",
      "model_name": "EdgeModel",
      "state": {
       "_model_module_version": "^1.3.3",
       "_view_module_version": "^1.3.3",
       "data": {
        "id": "8660b19a-026c-41a7-acba-2e74b73dc5b8",
        "source": "96b97ae1-a5ca-4963-a5dc-9e5eb924f077",
        "target": "02ef0194-3aad-47d1-8d49-5b6e42a21e77"
       },
       "selectable": false
      }
     },
     "6ab16d7e273249d6a1909fd1b8f6fa18": {
      "model_module": "jupyter-cytoscape",
      "model_module_version": "^1.3.3",
      "model_name": "EdgeModel",
      "state": {
       "_model_module_version": "^1.3.3",
       "_view_module_version": "^1.3.3",
       "data": {
        "id": "dab33ec5-ebd8-4a93-b9b2-be65deb34703",
        "source": "e66dc6c4-12e9-4d62-913e-580c58a120cb",
        "target": "fbe4acd7-0d17-4d56-9221-95c757887a98"
       },
       "selectable": false
      }
     },
     "6ae29d4a44464973a772c703e8486ff7": {
      "model_module": "jupyter-cytoscape",
      "model_module_version": "^1.3.3",
      "model_name": "NodeModel",
      "state": {
       "_model_module_version": "^1.3.3",
       "_view_module_version": "^1.3.3",
       "data": {
        "bgcolor": "green",
        "id": "3fad0fb0-38ec-4c91-a9ae-150ac16bc12f",
        "name": ""
       },
       "grabbable": true,
       "grabbed": false,
       "position": {
        "x": 1539.1812865497077,
        "y": 1777.7777777777776
       },
       "selectable": false
      }
     },
     "6afa8c07f9e74935bf8aa5af8f0eb01d": {
      "model_module": "jupyter-cytoscape",
      "model_module_version": "^1.3.3",
      "model_name": "EdgeModel",
      "state": {
       "_model_module_version": "^1.3.3",
       "_view_module_version": "^1.3.3",
       "data": {
        "id": "61b405df-1e81-4c7d-a5e2-fb042625031a",
        "source": "2a518537-a3fd-4836-93ea-ba9b2f654975",
        "target": "742608f2-6626-4685-b7db-b569a08354c8"
       },
       "selectable": false
      }
     },
     "6bdfbe6b4f8d493db55e31dbd2145750": {
      "model_module": "jupyter-cytoscape",
      "model_module_version": "^1.3.3",
      "model_name": "EdgeModel",
      "state": {
       "_model_module_version": "^1.3.3",
       "_view_module_version": "^1.3.3",
       "data": {
        "id": "2c1f56ca-8d5a-4876-b069-44f9485076f5",
        "source": "d66086f4-787a-4434-9ae0-5a0a3c37d65a",
        "target": "9dde72f9-8d53-43e6-bbf8-f5d56f58e5dd"
       },
       "selectable": false
      }
     },
     "6dae8daa6ae6419490b451f7531820de": {
      "model_module": "jupyter-cytoscape",
      "model_module_version": "^1.3.3",
      "model_name": "EdgeModel",
      "state": {
       "_model_module_version": "^1.3.3",
       "_view_module_version": "^1.3.3",
       "data": {
        "id": "7eb767a8-5710-4d15-9c47-2fbc3c897b6b",
        "source": "444bd5df-6b3c-4ae9-9f91-81d474b1d6f9",
        "target": "075a33e1-a1c4-45a6-8f7f-908675f911e6"
       },
       "selectable": false
      }
     },
     "6e801aaffaf94f53a37f973a8269f59f": {
      "model_module": "jupyter-cytoscape",
      "model_module_version": "^1.3.3",
      "model_name": "NodeModel",
      "state": {
       "_model_module_version": "^1.3.3",
       "_view_module_version": "^1.3.3",
       "data": {
        "bgcolor": "red",
        "id": "aefdb020-6f94-47cc-8272-17892b9bddc0",
        "name": "Truck transport"
       },
       "grabbable": true,
       "grabbed": false,
       "position": {
        "x": 1351.4619883040934,
        "y": 1428.5714285714287
       },
       "selectable": false
      }
     },
     "6ec615b3b9a741ffb316da246262b98c": {
      "model_module": "jupyter-cytoscape",
      "model_module_version": "^1.3.3",
      "model_name": "EdgeModel",
      "state": {
       "_model_module_version": "^1.3.3",
       "_view_module_version": "^1.3.3",
       "data": {
        "id": "b5a1b8ee-2964-41ee-bd73-66b90b3ce874",
        "source": "715fd796-ad35-4b89-b62a-a90ff2b9f76f",
        "target": "2297da1a-a1d1-4131-926b-d74ea5fe3f90"
       },
       "selectable": false
      }
     },
     "6fa701f951fc49cfa9e52d1501277b3b": {
      "model_module": "jupyter-cytoscape",
      "model_module_version": "^1.3.3",
      "model_name": "NodeModel",
      "state": {
       "_model_module_version": "^1.3.3",
       "_view_module_version": "^1.3.3",
       "data": {
        "bgcolor": "green",
        "id": "7a9de42b-a768-4796-922f-564014e5a319",
        "name": ""
       },
       "grabbable": true,
       "grabbed": false,
       "position": {
        "x": 1539.1812865497077,
        "y": 190.47619047619045
       },
       "selectable": false
      }
     },
     "70761ad829114e34a8fbf34c2238c3af": {
      "model_module": "jupyter-cytoscape",
      "model_module_version": "^1.3.3",
      "model_name": "EdgeModel",
      "state": {
       "_model_module_version": "^1.3.3",
       "_view_module_version": "^1.3.3",
       "data": {
        "id": "5d9914d6-4c3b-4103-b106-90be1e015ca2",
        "source": "d4cfebc2-3e4e-485b-bdec-442240107965",
        "target": "228a60de-60f1-4a3d-90cb-6b2accd665b4"
       },
       "selectable": false
      }
     },
     "719630d5a4fb4cb1bbbd9d800b355229": {
      "model_module": "jupyter-cytoscape",
      "model_module_version": "^1.3.3",
      "model_name": "NodeModel",
      "state": {
       "_model_module_version": "^1.3.3",
       "_view_module_version": "^1.3.3",
       "data": {
        "bgcolor": "red",
        "id": "514cc85c-2b36-4e81-8ae6-0a2a68804c86",
        "name": "Bananas"
       },
       "grabbable": true,
       "grabbed": false,
       "position": {
        "x": 976.0233918128655,
        "y": 79.36507936507937
       },
       "selectable": false
      }
     },
     "72088ea570764b96b4256a1b3e419f77": {
      "model_module": "jupyter-cytoscape",
      "model_module_version": "^1.3.3",
      "model_name": "EdgeModel",
      "state": {
       "_model_module_version": "^1.3.3",
       "_view_module_version": "^1.3.3",
       "data": {
        "id": "a63e6df5-df71-4f1a-a146-2994ae7c65f5",
        "source": "1f3eb385-61c5-4024-8b4b-bef4dc68c4d3",
        "target": "4c282a02-0e21-48a5-b44a-6ef99ff59a94"
       },
       "selectable": false
      }
     },
     "7318b334bbc94a7e96686381412dc1f4": {
      "model_module": "jupyter-cytoscape",
      "model_module_version": "^1.3.3",
      "model_name": "NodeModel",
      "state": {
       "_model_module_version": "^1.3.3",
       "_view_module_version": "^1.3.3",
       "data": {
        "bgcolor": "red",
        "id": "81c62011-d4f6-45ad-be15-7ec1c0d71daf",
        "name": "Lemon Juice Concentrate"
       },
       "grabbable": true,
       "grabbed": false,
       "position": {
        "x": 976.0233918128655,
        "y": 1793.6507936507937
       },
       "selectable": false
      }
     },
     "7320b6157e444cfb8422c2739a8fc8ce": {
      "model_module": "jupyter-cytoscape",
      "model_module_version": "^1.3.3",
      "model_name": "EdgeModel",
      "state": {
       "_model_module_version": "^1.3.3",
       "_view_module_version": "^1.3.3",
       "data": {
        "id": "be82e1d2-6b3c-4220-811a-53ec54aab51a",
        "source": "2026f91d-813a-4991-8029-3d1ec189cc8f",
        "target": "38436942-4600-46a5-838f-391cd0c695e1"
       },
       "selectable": false
      }
     },
     "7466d0dbc5a64220b3302cbaf0b9912b": {
      "model_module": "jupyter-cytoscape",
      "model_module_version": "^1.3.3",
      "model_name": "EdgeModel",
      "state": {
       "_model_module_version": "^1.3.3",
       "_view_module_version": "^1.3.3",
       "data": {
        "id": "5ddd4fec-3355-4614-8493-f9511503326f",
        "source": "035fc364-d89e-4c5f-bb43-cbb8bc7398cb",
        "target": "38436942-4600-46a5-838f-391cd0c695e1"
       },
       "selectable": false
      }
     },
     "749584193c9149f1ad5345a2eea7c3c8": {
      "model_module": "jupyter-cytoscape",
      "model_module_version": "^1.3.3",
      "model_name": "EdgeModel",
      "state": {
       "_model_module_version": "^1.3.3",
       "_view_module_version": "^1.3.3",
       "data": {
        "id": "dadd5134-207b-48aa-9e86-037245122d8c",
        "source": "efb9a6af-4ec8-4f20-b4d4-2c6730110b38",
        "target": "113a7474-301a-4d5e-a26f-79b065d0617f"
       },
       "selectable": false
      }
     },
     "74ba7e594f2c44f8a62c231ab9f39bed": {
      "model_module": "jupyter-cytoscape",
      "model_module_version": "^1.3.3",
      "model_name": "EdgeModel",
      "state": {
       "_model_module_version": "^1.3.3",
       "_view_module_version": "^1.3.3",
       "data": {
        "id": "90af827a-77a6-4bef-8d47-a03d59645bd1",
        "source": "9c4292da-2e00-4fae-bd72-77ed44064a96",
        "target": "25d8a197-f229-4efb-afe7-4de0dd1b81c9"
       },
       "selectable": false
      }
     },
     "75551fe9e5ea474198d6404a93b1c9ec": {
      "model_module": "jupyter-cytoscape",
      "model_module_version": "^1.3.3",
      "model_name": "NodeModel",
      "state": {
       "_model_module_version": "^1.3.3",
       "_view_module_version": "^1.3.3",
       "data": {
        "bgcolor": "green",
        "id": "1f3eb385-61c5-4024-8b4b-bef4dc68c4d3",
        "name": ""
       },
       "grabbable": true,
       "grabbed": false,
       "position": {
        "x": 1539.1812865497077,
        "y": 1396.8253968253966
       },
       "selectable": false
      }
     },
     "7568174b192842a69fb4a1c139af5fdb": {
      "model_module": "jupyter-cytoscape",
      "model_module_version": "^1.3.3",
      "model_name": "EdgeModel",
      "state": {
       "_model_module_version": "^1.3.3",
       "_view_module_version": "^1.3.3",
       "data": {
        "id": "384599a3-28ac-4122-bf92-98b3baa99dec",
        "source": "ecbe6287-59e5-4f77-b3b1-ae91bb807f70",
        "target": "d3f4e7f7-fe8f-4e0b-8864-60e6a9726fb8"
       },
       "selectable": false
      }
     },
     "75807d700b314a7a805650df20687a6f": {
      "model_module": "jupyter-cytoscape",
      "model_module_version": "^1.3.3",
      "model_name": "NodeModel",
      "state": {
       "_model_module_version": "^1.3.3",
       "_view_module_version": "^1.3.3",
       "data": {
        "bgcolor": "green",
        "id": "5ac0c1c0-0661-4471-a3db-d39ba94ddbdd",
        "name": ""
       },
       "grabbable": true,
       "grabbed": false,
       "position": {
        "x": 1163.7426900584794,
        "y": 1920.6349206349207
       },
       "selectable": false
      }
     },
     "75c00b2f6490405fab6a989dd15c8aaf": {
      "model_module": "jupyter-cytoscape",
      "model_module_version": "^1.3.3",
      "model_name": "EdgeModel",
      "state": {
       "_model_module_version": "^1.3.3",
       "_view_module_version": "^1.3.3",
       "data": {
        "id": "6ed18ac2-4d0d-4f58-8ea2-aa85896b018a",
        "source": "b4b18064-2dde-42a9-8b64-76dff748f89d",
        "target": "098e48f4-5ba3-4e08-b2ef-b38356f4f7c8"
       },
       "selectable": false
      }
     },
     "7607f1c6b78e4a4bb0a94acd94bccc5b": {
      "model_module": "jupyter-cytoscape",
      "model_module_version": "^1.3.3",
      "model_name": "NodeModel",
      "state": {
       "_model_module_version": "^1.3.3",
       "_view_module_version": "^1.3.3",
       "data": {
        "bgcolor": "red",
        "id": "ed5f6791-d732-415f-9c37-0f59fb43cc18",
        "name": "Truck transport"
       },
       "grabbable": true,
       "grabbed": false,
       "position": {
        "x": 1351.4619883040934,
        "y": 1301.5873015873017
       },
       "selectable": false
      }
     },
     "76cac24e307c494c91112f9d83d7d15a": {
      "model_module": "jupyter-cytoscape",
      "model_module_version": "^1.3.3",
      "model_name": "EdgeModel",
      "state": {
       "_model_module_version": "^1.3.3",
       "_view_module_version": "^1.3.3",
       "data": {
        "id": "fc1c4c25-6fa2-4b6f-9e74-7d5f5a56fc1a",
        "source": "5df8b0b4-d9fc-45f9-9087-2227c4d7bb07",
        "target": "10b9484e-9271-484a-acdc-fca31859f57f"
       },
       "selectable": false
      }
     },
     "77d78ce800ce4da5bc46e897e7686cf4": {
      "model_module": "jupyter-cytoscape",
      "model_module_version": "^1.3.3",
      "model_name": "EdgeModel",
      "state": {
       "_model_module_version": "^1.3.3",
       "_view_module_version": "^1.3.3",
       "data": {
        "id": "3766fb1d-d459-414a-a6ae-69376dc31911",
        "source": "d2b8a451-bdc8-40b1-b2b4-89a44db0737f",
        "target": "356732fe-917e-448a-a8da-41c690313dfd"
       },
       "selectable": false
      }
     },
     "781815ae364747cf981c1d9e74ab12d2": {
      "model_module": "jupyter-cytoscape",
      "model_module_version": "^1.3.3",
      "model_name": "EdgeModel",
      "state": {
       "_model_module_version": "^1.3.3",
       "_view_module_version": "^1.3.3",
       "data": {
        "id": "12bdd178-f6a2-405b-b206-6366fb1107c7",
        "source": "e1683856-98fe-4b05-aec6-2246dd42d331",
        "target": "aefdb020-6f94-47cc-8272-17892b9bddc0"
       },
       "selectable": false
      }
     },
     "7a6932060e6a4f3ab5fbcbd7f0b360e7": {
      "model_module": "jupyter-cytoscape",
      "model_module_version": "^1.3.3",
      "model_name": "EdgeModel",
      "state": {
       "_model_module_version": "^1.3.3",
       "_view_module_version": "^1.3.3",
       "data": {
        "id": "bba22355-71ff-4de5-9d3a-99b56f18602f",
        "source": "9d92bb4a-872f-4459-8a6a-212a425e8393",
        "target": "96381f01-a421-4397-b496-eecf7e9257c6"
       },
       "selectable": false
      }
     },
     "7ac5903afa9446a78fa6508064083757": {
      "model_module": "jupyter-cytoscape",
      "model_module_version": "^1.3.3",
      "model_name": "NodeModel",
      "state": {
       "_model_module_version": "^1.3.3",
       "_view_module_version": "^1.3.3",
       "data": {
        "bgcolor": "green",
        "id": "a934f04e-46ae-463f-9e7a-ed56e3413334",
        "name": ""
       },
       "grabbable": true,
       "grabbed": false,
       "position": {
        "x": 788.3040935672515,
        "y": 1238.095238095238
       },
       "selectable": false
      }
     },
     "7b1985803a5c4a699167ae79dcb08449": {
      "model_module": "jupyter-cytoscape",
      "model_module_version": "^1.3.3",
      "model_name": "NodeModel",
      "state": {
       "_model_module_version": "^1.3.3",
       "_view_module_version": "^1.3.3",
       "data": {
        "bgcolor": "red",
        "id": "d21a622e-a7c5-485d-a544-bec6aadfe06c",
        "name": "Sea transport"
       },
       "grabbable": true,
       "grabbed": false,
       "position": {
        "x": 1351.4619883040934,
        "y": 555.5555555555555
       },
       "selectable": false
      }
     },
     "7c1541755c8b45c287b89af106f651be": {
      "model_module": "jupyter-cytoscape",
      "model_module_version": "^1.3.3",
      "model_name": "EdgeModel",
      "state": {
       "_model_module_version": "^1.3.3",
       "_view_module_version": "^1.3.3",
       "data": {
        "id": "dc7b3826-5e58-47a9-a3a2-2750c1795d26",
        "source": "efb9a6af-4ec8-4f20-b4d4-2c6730110b38",
        "target": "ed5f6791-d732-415f-9c37-0f59fb43cc18"
       },
       "selectable": false
      }
     },
     "7c4b8eddc7084f408e658326600b0968": {
      "model_module": "jupyter-cytoscape",
      "model_module_version": "^1.3.3",
      "model_name": "EdgeModel",
      "state": {
       "_model_module_version": "^1.3.3",
       "_view_module_version": "^1.3.3",
       "data": {
        "id": "992fd00d-dbb6-4137-a58e-fe0105f21dcc",
        "source": "ad45bd50-79ac-4ba1-8736-d87838cbd0a9",
        "target": "01ad246d-d236-45d1-ab05-6c7382b9a238"
       },
       "selectable": false
      }
     },
     "7dcd8e38e09447e69bb68adc46d0fb56": {
      "model_module": "jupyter-cytoscape",
      "model_module_version": "^1.3.3",
      "model_name": "NodeModel",
      "state": {
       "_model_module_version": "^1.3.3",
       "_view_module_version": "^1.3.3",
       "data": {
        "bgcolor": "green",
        "id": "c2131f63-1b4a-4dff-acc6-fd7651a3cb1e",
        "name": ""
       },
       "grabbable": true,
       "grabbed": false,
       "position": {
        "x": 1539.1812865497077,
        "y": 1190.4761904761904
       },
       "selectable": false
      }
     },
     "7eeaa5a8727e474b975eff272b9a1fb8": {
      "model_module": "@jupyter-widgets/controls",
      "model_module_version": "2.0.0",
      "model_name": "HTMLModel",
      "state": {
       "layout": "IPY_MODEL_9bdd9a20ad064980bb86c2ee3668f48a",
       "style": "IPY_MODEL_5a473c5adc5c4ff4a0185bb8b12915f4",
       "value": "<i>Please click on a node to see it's properties...</i>"
      }
     },
     "7eeb6685e1fe499694c495d008e2b065": {
      "model_module": "jupyter-cytoscape",
      "model_module_version": "^1.3.3",
      "model_name": "NodeModel",
      "state": {
       "_model_module_version": "^1.3.3",
       "_view_module_version": "^1.3.3",
       "data": {
        "bgcolor": "red",
        "id": "2e1341a0-0e71-4dbd-8762-ce70ff5ff5a4",
        "name": "Bananas"
       },
       "grabbable": true,
       "grabbed": false,
       "position": {
        "x": 600.5847953216374,
        "y": 730.1587301587301
       },
       "selectable": false
      }
     },
     "7f01735d59724e6f806ec0d72e1a721c": {
      "model_module": "jupyter-cytoscape",
      "model_module_version": "^1.3.3",
      "model_name": "EdgeModel",
      "state": {
       "_model_module_version": "^1.3.3",
       "_view_module_version": "^1.3.3",
       "data": {
        "id": "505df975-7734-4030-a8ee-193d027bf8ee",
        "source": "6e4d3242-9680-4bec-80cc-486261e987dc",
        "target": "4a6418f4-1de3-47c7-8a16-9940c532634e"
       },
       "selectable": false
      }
     },
     "7faa43f24fc7496cb23b74cfd5e22aaa": {
      "model_module": "jupyter-cytoscape",
      "model_module_version": "^1.3.3",
      "model_name": "EdgeModel",
      "state": {
       "_model_module_version": "^1.3.3",
       "_view_module_version": "^1.3.3",
       "data": {
        "id": "13e81547-c4b6-44d6-ba1a-c01c63995e57",
        "source": "3263e7ad-f78b-4536-af31-1096b2ce356f",
        "target": "578dccf9-5238-4121-98bd-de24214cc787"
       },
       "selectable": false
      }
     },
     "80281daa18264078a974f9aa24f6f2dc": {
      "model_module": "jupyter-cytoscape",
      "model_module_version": "^1.3.3",
      "model_name": "NodeModel",
      "state": {
       "_model_module_version": "^1.3.3",
       "_view_module_version": "^1.3.3",
       "data": {
        "bgcolor": "red",
        "id": "9e8ab4a2-4670-4598-a814-858202a76af1",
        "name": "Fuel consumption of Truck transport"
       },
       "grabbable": true,
       "grabbed": false,
       "position": {
        "x": 1769.5906432748538,
        "y": 698.4126984126983
       },
       "selectable": false
      }
     },
     "820501b4d6634078bc391ac4068d67da": {
      "model_module": "jupyter-cytoscape",
      "model_module_version": "^1.3.3",
      "model_name": "NodeModel",
      "state": {
       "_model_module_version": "^1.3.3",
       "_view_module_version": "^1.3.3",
       "data": {
        "bgcolor": "green",
        "id": "1a593fea-c528-4cd1-af69-6e7cff4edeff",
        "name": ""
       },
       "grabbable": true,
       "grabbed": false,
       "position": {
        "x": 1163.7426900584794,
        "y": 142.85714285714286
       },
       "selectable": false
      }
     },
     "82821b7b50ee47f3845119b5e9796bde": {
      "model_module": "jupyter-cytoscape",
      "model_module_version": "^1.3.3",
      "model_name": "NodeModel",
      "state": {
       "_model_module_version": "^1.3.3",
       "_view_module_version": "^1.3.3",
       "data": {
        "bgcolor": "red",
        "id": "715fd796-ad35-4b89-b62a-a90ff2b9f76f",
        "name": "Truck transport"
       },
       "grabbable": true,
       "grabbed": false,
       "position": {
        "x": 1351.4619883040934,
        "y": 1111.111111111111
       },
       "selectable": false
      }
     },
     "83d4640f862e4957956f75a295d03afa": {
      "model_module": "jupyter-cytoscape",
      "model_module_version": "^1.3.3",
      "model_name": "EdgeModel",
      "state": {
       "_model_module_version": "^1.3.3",
       "_view_module_version": "^1.3.3",
       "data": {
        "id": "62db332f-165d-4489-beb4-5f3f0508255f",
        "source": "2448880a-68fe-4841-9949-616c7c96cf6d",
        "target": "38436942-4600-46a5-838f-391cd0c695e1"
       },
       "selectable": false
      }
     },
     "84f5c3da3c0444799cbd05ded172bb7e": {
      "model_module": "jupyter-cytoscape",
      "model_module_version": "^1.3.3",
      "model_name": "NodeModel",
      "state": {
       "_model_module_version": "^1.3.3",
       "_view_module_version": "^1.3.3",
       "data": {
        "bgcolor": "green",
        "id": "1922f28f-803f-439d-95e4-985e9a06b2ba",
        "name": ""
       },
       "grabbable": true,
       "grabbed": false,
       "position": {
        "x": 1539.1812865497077,
        "y": 984.1269841269841
       },
       "selectable": false
      }
     },
     "853be648980d4041aba67c703056243b": {
      "model_module": "jupyter-cytoscape",
      "model_module_version": "^1.3.3",
      "model_name": "NodeModel",
      "state": {
       "_model_module_version": "^1.3.3",
       "_view_module_version": "^1.3.3",
       "data": {
        "bgcolor": "red",
        "id": "10ae186d-dabb-4f5c-9e48-20c1a4c202d0",
        "name": "Fuel consumption of Truck transport"
       },
       "grabbable": true,
       "grabbed": false,
       "position": {
        "x": 1769.5906432748538,
        "y": 888.8888888888888
       },
       "selectable": false
      }
     },
     "853d64661935474a98db6bab24d11dd9": {
      "model_module": "jupyter-cytoscape",
      "model_module_version": "^1.3.3",
      "model_name": "NodeModel",
      "state": {
       "_model_module_version": "^1.3.3",
       "_view_module_version": "^1.3.3",
       "data": {
        "bgcolor": "green",
        "id": "63e7fb0c-59cd-42c2-9718-832f04532569",
        "name": ""
       },
       "grabbable": true,
       "grabbed": false,
       "position": {
        "x": 1539.1812865497077,
        "y": 904.7619047619048
       },
       "selectable": false
      }
     },
     "8572f7b8b4a543ffaf9c6780e3d22635": {
      "model_module": "jupyter-cytoscape",
      "model_module_version": "^1.3.3",
      "model_name": "EdgeModel",
      "state": {
       "_model_module_version": "^1.3.3",
       "_view_module_version": "^1.3.3",
       "data": {
        "id": "03a73a86-1bde-41db-8c01-3683e9b39306",
        "source": "25d8a197-f229-4efb-afe7-4de0dd1b81c9",
        "target": "63e7fb0c-59cd-42c2-9718-832f04532569"
       },
       "selectable": false
      }
     },
     "85cab8b9f232402e9fa169f83ca0052d": {
      "model_module": "jupyter-cytoscape",
      "model_module_version": "^1.3.3",
      "model_name": "NodeModel",
      "state": {
       "_model_module_version": "^1.3.3",
       "_view_module_version": "^1.3.3",
       "data": {
        "bgcolor": "green",
        "id": "45662d6d-9fe2-4494-bdc8-2f3db91ebc27",
        "name": ""
       },
       "grabbable": true,
       "grabbed": false,
       "position": {
        "x": 1163.7426900584794,
        "y": 206.34920634920633
       },
       "selectable": false
      }
     },
     "8603e48d773a4329a8da84b321ede709": {
      "model_module": "jupyter-cytoscape",
      "model_module_version": "^1.3.3",
      "model_name": "NodeModel",
      "state": {
       "_model_module_version": "^1.3.3",
       "_view_module_version": "^1.3.3",
       "data": {
        "bgcolor": "red",
        "id": "817eac1f-4299-40e4-8d70-fda54bab05a2",
        "name": "Lemon Juice Concentrate"
       },
       "grabbable": true,
       "grabbed": false,
       "position": {
        "x": 600.5847953216374,
        "y": 1238.095238095238
       },
       "selectable": false
      }
     },
     "86507963abb64d33aa4a596af4bb125c": {
      "model_module": "jupyter-cytoscape",
      "model_module_version": "^1.3.3",
      "model_name": "EdgeModel",
      "state": {
       "_model_module_version": "^1.3.3",
       "_view_module_version": "^1.3.3",
       "data": {
        "id": "d1ee8c48-be23-44aa-b4a5-739ee262d096",
        "source": "8d3e57de-20ff-4957-aef9-5e8a236227f6",
        "target": "2d39ad6c-c6d5-495d-bfc2-97470188b2fb"
       },
       "selectable": false
      }
     },
     "8669c7513f9f450baabd24caa21bef0d": {
      "model_module": "jupyter-cytoscape",
      "model_module_version": "^1.3.3",
      "model_name": "NodeModel",
      "state": {
       "_model_module_version": "^1.3.3",
       "_view_module_version": "^1.3.3",
       "data": {
        "bgcolor": "green",
        "id": "444bd5df-6b3c-4ae9-9f91-81d474b1d6f9",
        "name": ""
       },
       "grabbable": true,
       "grabbed": false,
       "position": {
        "x": 412.86549707602336,
        "y": 809.5238095238095
       },
       "selectable": false
      }
     },
     "86c3650efb5f40d5a0361a1d7ca6b2d6": {
      "model_module": "jupyter-cytoscape",
      "model_module_version": "^1.3.3",
      "model_name": "EdgeModel",
      "state": {
       "_model_module_version": "^1.3.3",
       "_view_module_version": "^1.3.3",
       "data": {
        "id": "ea6a4432-45a6-416f-90ac-3d657803ca85",
        "source": "d205b1f6-aa03-49aa-8783-0f038d7abb84",
        "target": "98af4f07-f54a-44ba-afe8-3414c6a6eb66"
       },
       "selectable": false
      }
     },
     "881d081316cd4af1ae5be8a5a2b9208f": {
      "model_module": "jupyter-cytoscape",
      "model_module_version": "^1.3.3",
      "model_name": "EdgeModel",
      "state": {
       "_model_module_version": "^1.3.3",
       "_view_module_version": "^1.3.3",
       "data": {
        "id": "d3d0aa3b-2ed1-48bb-b3da-e7882e764e1b",
        "source": "a88e6b1e-5a92-4e16-ab75-9bcfbbf7f8c6",
        "target": "38436942-4600-46a5-838f-391cd0c695e1"
       },
       "selectable": false
      }
     },
     "892a12ea34524cfd8c9c4289ca986079": {
      "model_module": "jupyter-cytoscape",
      "model_module_version": "^1.3.3",
      "model_name": "EdgeModel",
      "state": {
       "_model_module_version": "^1.3.3",
       "_view_module_version": "^1.3.3",
       "data": {
        "id": "12c8d44d-fa17-4aa0-a223-26e7e9c9dea4",
        "source": "1e24689c-9f49-4a63-9ab5-166d0bb4c9f0",
        "target": "f5fb5e1e-cc60-4980-8563-89327680f853"
       },
       "selectable": false
      }
     },
     "8967a22886a245179cdc843600c6b924": {
      "model_module": "jupyter-cytoscape",
      "model_module_version": "^1.3.3",
      "model_name": "EdgeModel",
      "state": {
       "_model_module_version": "^1.3.3",
       "_view_module_version": "^1.3.3",
       "data": {
        "id": "1dc8d698-2966-481f-a3fd-3c1d87c0b0fa",
        "source": "c2131f63-1b4a-4dff-acc6-fd7651a3cb1e",
        "target": "10ae186d-dabb-4f5c-9e48-20c1a4c202d0"
       },
       "selectable": false
      }
     },
     "8a08ffa8c35d4f4c912763194a9b0f7a": {
      "model_module": "jupyter-cytoscape",
      "model_module_version": "^1.3.3",
      "model_name": "NodeModel",
      "state": {
       "_model_module_version": "^1.3.3",
       "_view_module_version": "^1.3.3",
       "data": {
        "bgcolor": "red",
        "id": "790c1de2-5e26-4611-8376-fa19a66c9c4d",
        "name": "Fuel consumption of Truck transport"
       },
       "grabbable": true,
       "grabbed": false,
       "position": {
        "x": 1769.5906432748538,
        "y": 920.6349206349206
       },
       "selectable": false
      }
     },
     "8a347388b12a47509e5be98f55701dc9": {
      "model_module": "jupyter-cytoscape",
      "model_module_version": "^1.3.3",
      "model_name": "EdgeModel",
      "state": {
       "_model_module_version": "^1.3.3",
       "_view_module_version": "^1.3.3",
       "data": {
        "id": "a64e9a9d-2ecd-4010-b3c0-fc82ad7cbbb6",
        "source": "051f74f0-4b35-4460-8de3-662530e4f60d",
        "target": "6bdae3f4-ea9f-4b46-98ef-f6043672b880"
       },
       "selectable": false
      }
     },
     "8b09323b05b64d289e99a075a89b64be": {
      "model_module": "jupyter-cytoscape",
      "model_module_version": "^1.3.3",
      "model_name": "NodeModel",
      "state": {
       "_model_module_version": "^1.3.3",
       "_view_module_version": "^1.3.3",
       "data": {
        "bgcolor": "red",
        "id": "79fde9b6-7e9c-4d8c-be69-545ed5f899a0",
        "name": "Bananas"
       },
       "grabbable": true,
       "grabbed": false,
       "position": {
        "x": 1351.4619883040934,
        "y": 126.98412698412697
       },
       "selectable": false
      }
     },
     "8b247340af6b45bba04a8fdd966c3fd3": {
      "model_module": "jupyter-cytoscape",
      "model_module_version": "^1.3.3",
      "model_name": "EdgeModel",
      "state": {
       "_model_module_version": "^1.3.3",
       "_view_module_version": "^1.3.3",
       "data": {
        "id": "0e8f08e0-afbf-4035-b358-ad98dc24d7c9",
        "source": "d4cfebc2-3e4e-485b-bdec-442240107965",
        "target": "6e4d3242-9680-4bec-80cc-486261e987dc"
       },
       "selectable": false
      }
     },
     "8b339ffaa96b408eaa4cba7d1b944e9b": {
      "model_module": "jupyter-cytoscape",
      "model_module_version": "^1.3.3",
      "model_name": "NodeModel",
      "state": {
       "_model_module_version": "^1.3.3",
       "_view_module_version": "^1.3.3",
       "data": {
        "bgcolor": "red",
        "id": "2448880a-68fe-4841-9949-616c7c96cf6d",
        "name": "Fuel consumption of Sea transport"
       },
       "grabbable": true,
       "grabbed": false,
       "position": {
        "x": 1769.5906432748538,
        "y": 476.19047619047615
       },
       "selectable": false
      }
     },
     "8bd44d326f374727b2b24f842a21973b": {
      "model_module": "jupyter-cytoscape",
      "model_module_version": "^1.3.3",
      "model_name": "EdgeModel",
      "state": {
       "_model_module_version": "^1.3.3",
       "_view_module_version": "^1.3.3",
       "data": {
        "id": "73bd3f02-60b0-43a9-a667-3b9aaeadd66e",
        "source": "53e8b769-260e-4dde-9cad-9c6b9a489ef5",
        "target": "09ae7342-5230-4c4a-96c6-0387fdefa295"
       },
       "selectable": false
      }
     },
     "8c1bbdb7114c4394a8d80b46d8189999": {
      "model_module": "jupyter-cytoscape",
      "model_module_version": "^1.3.3",
      "model_name": "NodeModel",
      "state": {
       "_model_module_version": "^1.3.3",
       "_view_module_version": "^1.3.3",
       "data": {
        "bgcolor": "green",
        "id": "fbcb5709-5f62-467e-8d18-e64b27f81c06",
        "name": ""
       },
       "grabbable": true,
       "grabbed": false,
       "position": {
        "x": 412.86549707602336,
        "y": 1285.7142857142858
       },
       "selectable": false
      }
     },
     "8d344a9a68bf4cdcb46a85ffbed7bb61": {
      "model_module": "jupyter-cytoscape",
      "model_module_version": "^1.3.3",
      "model_name": "EdgeModel",
      "state": {
       "_model_module_version": "^1.3.3",
       "_view_module_version": "^1.3.3",
       "data": {
        "id": "d09897c6-9a68-4ad9-9653-7a22e658c134",
        "source": "73168d91-c7d1-46b0-b828-1a5d9d6afb70",
        "target": "8500560f-c494-4af1-a6d0-ffa3604ec7ec"
       },
       "selectable": false
      }
     },
     "8da4bcf23303491a9b8ce0da8d1574ea": {
      "model_module": "jupyter-cytoscape",
      "model_module_version": "^1.3.3",
      "model_name": "NodeModel",
      "state": {
       "_model_module_version": "^1.3.3",
       "_view_module_version": "^1.3.3",
       "data": {
        "bgcolor": "red",
        "id": "861ca61d-de22-44e3-aeac-b398e6593cb3",
        "name": "Truck transport"
       },
       "grabbable": true,
       "grabbed": false,
       "position": {
        "x": 1769.5906432748538,
        "y": 1333.3333333333333
       },
       "selectable": false
      }
     },
     "8dbdbe8a6cc64d369d053c383f3589b8": {
      "model_module": "jupyter-cytoscape",
      "model_module_version": "^1.3.3",
      "model_name": "NodeModel",
      "state": {
       "_model_module_version": "^1.3.3",
       "_view_module_version": "^1.3.3",
       "data": {
        "bgcolor": "red",
        "id": "65c98718-3d13-4152-bb03-2d000c1e8f1d",
        "name": "Lemon Juice Concentrate"
       },
       "grabbable": true,
       "grabbed": false,
       "position": {
        "x": 1351.4619883040934,
        "y": 1841.2698412698412
       },
       "selectable": false
      }
     },
     "8e47153f88c94c429ce1a3f347546d62": {
      "model_module": "jupyter-cytoscape",
      "model_module_version": "^1.3.3",
      "model_name": "EdgeModel",
      "state": {
       "_model_module_version": "^1.3.3",
       "_view_module_version": "^1.3.3",
       "data": {
        "id": "3536767d-a215-4ba7-b37b-369baae172aa",
        "source": "38958361-9111-4007-927b-4365e9c29701",
        "target": "38436942-4600-46a5-838f-391cd0c695e1"
       },
       "selectable": false
      }
     },
     "8e5ddb8f4ba44fbfafb0539d64969b3c": {
      "model_module": "jupyter-cytoscape",
      "model_module_version": "^1.3.3",
      "model_name": "EdgeModel",
      "state": {
       "_model_module_version": "^1.3.3",
       "_view_module_version": "^1.3.3",
       "data": {
        "id": "82629daf-3a3c-4ed0-b19f-3c4cfe3f1c10",
        "source": "a934f04e-46ae-463f-9e7a-ed56e3413334",
        "target": "53ad1588-b93c-455a-a23f-f0c57722365b"
       },
       "selectable": false
      }
     },
     "8e7ec76b750a49bf8fbd14a9b7095940": {
      "model_module": "jupyter-cytoscape",
      "model_module_version": "^1.3.3",
      "model_name": "NodeModel",
      "state": {
       "_model_module_version": "^1.3.3",
       "_view_module_version": "^1.3.3",
       "data": {
        "bgcolor": "green",
        "id": "e1683856-98fe-4b05-aec6-2246dd42d331",
        "name": ""
       },
       "grabbable": true,
       "grabbed": false,
       "position": {
        "x": 788.3040935672515,
        "y": 1444.4444444444443
       },
       "selectable": false
      }
     },
     "8ef2d9c797a040dcabcceae9e1e8b318": {
      "model_module": "jupyter-cytoscape",
      "model_module_version": "^1.3.3",
      "model_name": "EdgeModel",
      "state": {
       "_model_module_version": "^1.3.3",
       "_view_module_version": "^1.3.3",
       "data": {
        "id": "620023c2-e1c3-4393-bec7-eb54d638d84a",
        "source": "817eac1f-4299-40e4-8d70-fda54bab05a2",
        "target": "a934f04e-46ae-463f-9e7a-ed56e3413334"
       },
       "selectable": false
      }
     },
     "8ef41ccb8cdf4e9eb921969a0e7b7df6": {
      "model_module": "jupyter-cytoscape",
      "model_module_version": "^1.3.3",
      "model_name": "EdgeModel",
      "state": {
       "_model_module_version": "^1.3.3",
       "_view_module_version": "^1.3.3",
       "data": {
        "id": "a7f35756-2f4b-49c2-9574-c348eb0c2c29",
        "source": "fa708600-8a2c-449f-a4ca-f67fd1209805",
        "target": "f9fdd91f-33b6-4e5a-b1b1-ca4f12298558"
       },
       "selectable": false
      }
     },
     "8f7014f0ab8c4e39bb3bb55cb8501367": {
      "model_module": "jupyter-cytoscape",
      "model_module_version": "^1.3.3",
      "model_name": "EdgeModel",
      "state": {
       "_model_module_version": "^1.3.3",
       "_view_module_version": "^1.3.3",
       "data": {
        "id": "0625ab4d-87e8-45bf-b68f-af62bfbf9006",
        "source": "d2b8a451-bdc8-40b1-b2b4-89a44db0737f",
        "target": "68e3f5d9-3750-41d2-8e58-ec5b1aeca988"
       },
       "selectable": false
      }
     },
     "900a137ab05144b1b46f262dd888276e": {
      "model_module": "jupyter-cytoscape",
      "model_module_version": "^1.3.3",
      "model_name": "EdgeModel",
      "state": {
       "_model_module_version": "^1.3.3",
       "_view_module_version": "^1.3.3",
       "data": {
        "id": "408a6958-2feb-4a9b-9729-13df2bf0f39f",
        "source": "c09257e2-747e-417c-86eb-c3fd691d0326",
        "target": "e09580d6-b7bd-4870-8686-b869b5e4b9e2"
       },
       "selectable": false
      }
     },
     "93b65ea089424433bfb01381d54646d1": {
      "model_module": "jupyter-cytoscape",
      "model_module_version": "^1.3.3",
      "model_name": "NodeModel",
      "state": {
       "_model_module_version": "^1.3.3",
       "_view_module_version": "^1.3.3",
       "data": {
        "bgcolor": "green",
        "id": "5f4986fd-88ed-4676-8bae-e4b5b1bd88f4",
        "name": ""
       },
       "grabbable": true,
       "grabbed": false,
       "position": {
        "x": 1539.1812865497077,
        "y": 1968.2539682539682
       },
       "selectable": false
      }
     },
     "942e0428a29a48c0a7828a6025102d48": {
      "model_module": "jupyter-cytoscape",
      "model_module_version": "^1.3.3",
      "model_name": "EdgeModel",
      "state": {
       "_model_module_version": "^1.3.3",
       "_view_module_version": "^1.3.3",
       "data": {
        "id": "4075f670-c62e-463b-a8b4-2bb516ac61ac",
        "source": "01ad246d-d236-45d1-ab05-6c7382b9a238",
        "target": "320633da-7465-4304-8079-f68b8c5a9755"
       },
       "selectable": false
      }
     },
     "94ac9dd0baa848edb4cab36c14097725": {
      "model_module": "jupyter-cytoscape",
      "model_module_version": "^1.3.3",
      "model_name": "NodeModel",
      "state": {
       "_model_module_version": "^1.3.3",
       "_view_module_version": "^1.3.3",
       "data": {
        "bgcolor": "red",
        "id": "6e9f3ff4-75c2-4120-81c5-da73f8adabab",
        "name": "Fuel consumption of Truck transport"
       },
       "grabbable": true,
       "grabbed": false,
       "position": {
        "x": 1769.5906432748538,
        "y": 1047.6190476190477
       },
       "selectable": false
      }
     },
     "94b2d8a7c7c74c859f27bef7ddc42393": {
      "model_module": "jupyter-cytoscape",
      "model_module_version": "^1.3.3",
      "model_name": "EdgeModel",
      "state": {
       "_model_module_version": "^1.3.3",
       "_view_module_version": "^1.3.3",
       "data": {
        "id": "666f531c-0c77-481f-b4bb-e8bac243e199",
        "source": "d4cfebc2-3e4e-485b-bdec-442240107965",
        "target": "715fd796-ad35-4b89-b62a-a90ff2b9f76f"
       },
       "selectable": false
      }
     },
     "94b670c191ac4e9b8666197c6951f094": {
      "model_module": "jupyter-cytoscape",
      "model_module_version": "^1.3.3",
      "model_name": "NodeModel",
      "state": {
       "_model_module_version": "^1.3.3",
       "_view_module_version": "^1.3.3",
       "data": {
        "bgcolor": "red",
        "id": "d09a6268-5bcd-41a2-94cc-7f4f63c9491d",
        "name": "Lemon Juice Concentrate"
       },
       "grabbable": true,
       "grabbed": false,
       "position": {
        "x": 1351.4619883040934,
        "y": 1904.7619047619046
       },
       "selectable": false
      }
     },
     "9626efe5eae94f488b6cccaa71908037": {
      "model_module": "jupyter-cytoscape",
      "model_module_version": "^1.3.3",
      "model_name": "NodeModel",
      "state": {
       "_model_module_version": "^1.3.3",
       "_view_module_version": "^1.3.3",
       "data": {
        "bgcolor": "red",
        "id": "e90f5751-096a-4273-a51d-cc194ff85c45",
        "name": "Truck transport"
       },
       "grabbable": true,
       "grabbed": false,
       "position": {
        "x": 1351.4619883040934,
        "y": 1333.3333333333333
       },
       "selectable": false
      }
     },
     "9675d1624697467ea017ef8313af8ea2": {
      "model_module": "jupyter-cytoscape",
      "model_module_version": "^1.3.3",
      "model_name": "EdgeModel",
      "state": {
       "_model_module_version": "^1.3.3",
       "_view_module_version": "^1.3.3",
       "data": {
        "id": "45eeac87-eb51-4852-8c8a-afb25ee18a1a",
        "source": "63539165-d850-4577-8c0a-ae6edfb8b910",
        "target": "38436942-4600-46a5-838f-391cd0c695e1"
       },
       "selectable": false
      }
     },
     "96b562a038f2479f9aaf0c042a9fe977": {
      "model_module": "jupyter-cytoscape",
      "model_module_version": "^1.3.3",
      "model_name": "EdgeModel",
      "state": {
       "_model_module_version": "^1.3.3",
       "_view_module_version": "^1.3.3",
       "data": {
        "id": "9e384260-611c-48d5-8607-1bfd9a75105f",
        "source": "e1f12dc9-1aae-4da9-a788-f35757ae2098",
        "target": "98af4f07-f54a-44ba-afe8-3414c6a6eb66"
       },
       "selectable": false
      }
     },
     "96bf15a203754cc185a71abf3b550862": {
      "model_module": "jupyter-cytoscape",
      "model_module_version": "^1.3.3",
      "model_name": "NodeModel",
      "state": {
       "_model_module_version": "^1.3.3",
       "_view_module_version": "^1.3.3",
       "data": {
        "bgcolor": "green",
        "id": "64f7b725-6180-41db-92b2-aab0d61a82bf",
        "name": ""
       },
       "grabbable": true,
       "grabbed": false,
       "position": {
        "x": 1539.1812865497077,
        "y": 1031.7460317460318
       },
       "selectable": false
      }
     },
     "96ce2371048741e090c015846035a1aa": {
      "model_module": "jupyter-cytoscape",
      "model_module_version": "^1.3.3",
      "model_name": "EdgeModel",
      "state": {
       "_model_module_version": "^1.3.3",
       "_view_module_version": "^1.3.3",
       "data": {
        "id": "11306b2d-c905-439a-b370-7f5ccbde38a0",
        "source": "fa708600-8a2c-449f-a4ca-f67fd1209805",
        "target": "fbbe57cd-77cd-4d3b-9dd9-a200d4ad3a1c"
       },
       "selectable": false
      }
     },
     "96efeb0029af488b8b760d8486c1987e": {
      "model_module": "jupyter-cytoscape",
      "model_module_version": "^1.3.3",
      "model_name": "EdgeModel",
      "state": {
       "_model_module_version": "^1.3.3",
       "_view_module_version": "^1.3.3",
       "data": {
        "id": "3eba28e7-3008-4c81-b39b-82a1a6a677e5",
        "source": "63e7fb0c-59cd-42c2-9718-832f04532569",
        "target": "2026f91d-813a-4991-8029-3d1ec189cc8f"
       },
       "selectable": false
      }
     },
     "97e282ed85c4403f831887516da7cb42": {
      "model_module": "jupyter-cytoscape",
      "model_module_version": "^1.3.3",
      "model_name": "NodeModel",
      "state": {
       "_model_module_version": "^1.3.3",
       "_view_module_version": "^1.3.3",
       "data": {
        "bgcolor": "red",
        "id": "7c1f1707-d215-4721-9072-daae255fe013",
        "name": "Truck transport"
       },
       "grabbable": true,
       "grabbed": false,
       "position": {
        "x": 1351.4619883040934,
        "y": 1031.7460317460318
       },
       "selectable": false
      }
     },
     "985ed5b2a29c4a1793270921591b45de": {
      "model_module": "jupyter-cytoscape",
      "model_module_version": "^1.3.3",
      "model_name": "NodeModel",
      "state": {
       "_model_module_version": "^1.3.3",
       "_view_module_version": "^1.3.3",
       "data": {
        "bgcolor": "red",
        "id": "470a4803-6577-49ca-b908-17cac3a0befc",
        "name": "Lemon Juice Concentrate"
       },
       "grabbable": true,
       "grabbed": false,
       "position": {
        "x": 600.5847953216374,
        "y": 1444.4444444444443
       },
       "selectable": false
      }
     },
     "98b547409658499cb3ecd6e36db45943": {
      "model_module": "jupyter-cytoscape",
      "model_module_version": "^1.3.3",
      "model_name": "EdgeModel",
      "state": {
       "_model_module_version": "^1.3.3",
       "_view_module_version": "^1.3.3",
       "data": {
        "id": "a5cb8cc1-abf1-4b6c-b403-d4245a78e77f",
        "source": "22bae8a9-b58b-4ace-a660-4e94ede1cbcb",
        "target": "1f3eb385-61c5-4024-8b4b-bef4dc68c4d3"
       },
       "selectable": false
      }
     },
     "9913efd571444bdca605825a9f187f3b": {
      "model_module": "jupyter-cytoscape",
      "model_module_version": "^1.3.3",
      "model_name": "NodeModel",
      "state": {
       "_model_module_version": "^1.3.3",
       "_view_module_version": "^1.3.3",
       "data": {
        "bgcolor": "red",
        "id": "089f2160-4ff8-4168-ac1e-583ac8cdcc97",
        "name": "Fuel consumption of Truck transport"
       },
       "grabbable": true,
       "grabbed": false,
       "position": {
        "x": 1769.5906432748538,
        "y": 730.1587301587301
       },
       "selectable": false
      }
     },
     "9b544a31cd0f43b0a3b582007d8ca893": {
      "model_module": "@jupyter-widgets/base",
      "model_module_version": "2.0.0",
      "model_name": "LayoutModel",
      "state": {}
     },
     "9bdd9a20ad064980bb86c2ee3668f48a": {
      "model_module": "@jupyter-widgets/base",
      "model_module_version": "2.0.0",
      "model_name": "LayoutModel",
      "state": {
       "width": "50%"
      }
     },
     "9bdfd38c7d5e423c9eb11c75a2a71e54": {
      "model_module": "jupyter-cytoscape",
      "model_module_version": "^1.3.3",
      "model_name": "NodeModel",
      "state": {
       "_model_module_version": "^1.3.3",
       "_view_module_version": "^1.3.3",
       "data": {
        "bgcolor": "red",
        "id": "8c41793d-e24e-487a-981f-4e243243fcd1",
        "name": "Sea transport"
       },
       "grabbable": true,
       "grabbed": false,
       "position": {
        "x": 1351.4619883040934,
        "y": 428.57142857142856
       },
       "selectable": false
      }
     },
     "9be09825b69d49aaa470a50a0e31dab4": {
      "model_module": "jupyter-cytoscape",
      "model_module_version": "^1.3.3",
      "model_name": "EdgeModel",
      "state": {
       "_model_module_version": "^1.3.3",
       "_view_module_version": "^1.3.3",
       "data": {
        "id": "70502fa9-f5d1-4385-b20b-74901c54bf2c",
        "source": "d21a622e-a7c5-485d-a544-bec6aadfe06c",
        "target": "ecbe6287-59e5-4f77-b3b1-ae91bb807f70"
       },
       "selectable": false
      }
     },
     "9cec6508467f4e84b755b87d792705f6": {
      "model_module": "jupyter-cytoscape",
      "model_module_version": "^1.3.3",
      "model_name": "EdgeModel",
      "state": {
       "_model_module_version": "^1.3.3",
       "_view_module_version": "^1.3.3",
       "data": {
        "id": "9c72afa3-fb8f-4b24-9496-18e38726c08c",
        "source": "efb9a6af-4ec8-4f20-b4d4-2c6730110b38",
        "target": "e90f5751-096a-4273-a51d-cc194ff85c45"
       },
       "selectable": false
      }
     },
     "9d0f6c3035e94e069cc3ed97128a4880": {
      "model_module": "jupyter-cytoscape",
      "model_module_version": "^1.3.3",
      "model_name": "EdgeModel",
      "state": {
       "_model_module_version": "^1.3.3",
       "_view_module_version": "^1.3.3",
       "data": {
        "id": "23a9fd99-425b-4ba1-bf79-ad6bcea62505",
        "source": "a372f27e-1c2d-40b2-a865-a2b4307e886e",
        "target": "3fad0fb0-38ec-4c91-a9ae-150ac16bc12f"
       },
       "selectable": false
      }
     },
     "9d65f159fa7f409eb2e347da5302030a": {
      "model_module": "jupyter-cytoscape",
      "model_module_version": "^1.3.3",
      "model_name": "EdgeModel",
      "state": {
       "_model_module_version": "^1.3.3",
       "_view_module_version": "^1.3.3",
       "data": {
        "id": "91944db8-a1da-45a5-ab77-9493177bf8f9",
        "source": "fbbe57cd-77cd-4d3b-9dd9-a200d4ad3a1c",
        "target": "10b9484e-9271-484a-acdc-fca31859f57f"
       },
       "selectable": false
      }
     },
     "9d90b3535adf47edb71461513e687851": {
      "model_module": "jupyter-cytoscape",
      "model_module_version": "^1.3.3",
      "model_name": "EdgeModel",
      "state": {
       "_model_module_version": "^1.3.3",
       "_view_module_version": "^1.3.3",
       "data": {
        "id": "35374597-f308-41b2-a420-3f76609d3d57",
        "source": "1a593fea-c528-4cd1-af69-6e7cff4edeff",
        "target": "73d93dd5-2d74-4923-a855-21fb74283d6d"
       },
       "selectable": false
      }
     },
     "9dac1c4e83e7413aad325cb10b2d2075": {
      "model_module": "jupyter-cytoscape",
      "model_module_version": "^1.3.3",
      "model_name": "NodeModel",
      "state": {
       "_model_module_version": "^1.3.3",
       "_view_module_version": "^1.3.3",
       "data": {
        "bgcolor": "green",
        "id": "5df19816-1a8e-4837-a252-2910a5116650",
        "name": ""
       },
       "grabbable": true,
       "grabbed": false,
       "position": {
        "x": 1539.1812865497077,
        "y": 492.06349206349205
       },
       "selectable": false
      }
     },
     "9de6906f3f934efaad25469164dc0b10": {
      "model_module": "jupyter-cytoscape",
      "model_module_version": "^1.3.3",
      "model_name": "EdgeModel",
      "state": {
       "_model_module_version": "^1.3.3",
       "_view_module_version": "^1.3.3",
       "data": {
        "id": "f427c3ff-1b47-48d8-b89b-98a12a4cce50",
        "source": "58f98d63-effb-4b23-ac24-5f41a96dd06a",
        "target": "543359b0-d5f3-4b2b-9228-13e3560c1404"
       },
       "selectable": false
      }
     },
     "9e19f15d1e024e2b9d30517be97ed82d": {
      "model_module": "jupyter-cytoscape",
      "model_module_version": "^1.3.3",
      "model_name": "NodeModel",
      "state": {
       "_model_module_version": "^1.3.3",
       "_view_module_version": "^1.3.3",
       "data": {
        "bgcolor": "red",
        "id": "2d39ad6c-c6d5-495d-bfc2-97470188b2fb",
        "name": "Truck transport"
       },
       "grabbable": true,
       "grabbed": false,
       "position": {
        "x": 1769.5906432748538,
        "y": 1523.8095238095236
       },
       "selectable": false
      }
     },
     "9e739fd0431e4fbf89384303785f3060": {
      "model_module": "jupyter-cytoscape",
      "model_module_version": "^1.3.3",
      "model_name": "NodeModel",
      "state": {
       "_model_module_version": "^1.3.3",
       "_view_module_version": "^1.3.3",
       "data": {
        "bgcolor": "green",
        "id": "efb9a6af-4ec8-4f20-b4d4-2c6730110b38",
        "name": ""
       },
       "grabbable": true,
       "grabbed": false,
       "position": {
        "x": 788.3040935672515,
        "y": 1349.2063492063494
       },
       "selectable": false
      }
     },
     "9f66cbd102ad47b788f8a4cb8e87aba1": {
      "model_module": "jupyter-cytoscape",
      "model_module_version": "^1.3.3",
      "model_name": "EdgeModel",
      "state": {
       "_model_module_version": "^1.3.3",
       "_view_module_version": "^1.3.3",
       "data": {
        "id": "6975dd30-6c83-4188-8b41-3342cc1f4703",
        "source": "01ad246d-d236-45d1-ab05-6c7382b9a238",
        "target": "f23e1261-902c-40d4-b10f-099f848e0b14"
       },
       "selectable": false
      }
     },
     "a005a29b5ccb4b42951ce69aa3796533": {
      "model_module": "jupyter-cytoscape",
      "model_module_version": "^1.3.3",
      "model_name": "EdgeModel",
      "state": {
       "_model_module_version": "^1.3.3",
       "_view_module_version": "^1.3.3",
       "data": {
        "id": "1ac3b5c2-9452-4e9f-9980-fea7aa9fc76e",
        "source": "fbcb5709-5f62-467e-8d18-e64b27f81c06",
        "target": "da0af127-0acc-4c18-a58c-ec4792d3f0fc"
       },
       "selectable": false
      }
     },
     "a0ee8537061f4170b46f19bd8a22d5ce": {
      "model_module": "jupyter-cytoscape",
      "model_module_version": "^1.3.3",
      "model_name": "EdgeModel",
      "state": {
       "_model_module_version": "^1.3.3",
       "_view_module_version": "^1.3.3",
       "data": {
        "id": "33c86301-59d9-42dc-8f40-ef50347b98c5",
        "source": "31ac49b0-9323-4888-aa77-55040bddd91b",
        "target": "38436942-4600-46a5-838f-391cd0c695e1"
       },
       "selectable": false
      }
     },
     "a10a235e129e479db5e76b3e3401fac6": {
      "model_module": "jupyter-cytoscape",
      "model_module_version": "^1.3.3",
      "model_name": "NodeModel",
      "state": {
       "_model_module_version": "^1.3.3",
       "_view_module_version": "^1.3.3",
       "data": {
        "bgcolor": "red",
        "id": "b9f31657-f4ef-48df-ae60-46487b2ff751",
        "name": "Truck transport"
       },
       "grabbable": true,
       "grabbed": false,
       "position": {
        "x": 1769.5906432748538,
        "y": 1269.8412698412699
       },
       "selectable": false
      }
     },
     "a257399b6b60429dafb950a661653664": {
      "model_module": "jupyter-cytoscape",
      "model_module_version": "^1.3.3",
      "model_name": "EdgeModel",
      "state": {
       "_model_module_version": "^1.3.3",
       "_view_module_version": "^1.3.3",
       "data": {
        "id": "8f51955e-9fab-4d54-ae32-7e0afa3dbd0a",
        "source": "d4cfebc2-3e4e-485b-bdec-442240107965",
        "target": "d21a622e-a7c5-485d-a544-bec6aadfe06c"
       },
       "selectable": false
      }
     },
     "a26642a89a904811b4192dbe9c77db73": {
      "model_module": "jupyter-cytoscape",
      "model_module_version": "^1.3.3",
      "model_name": "EdgeModel",
      "state": {
       "_model_module_version": "^1.3.3",
       "_view_module_version": "^1.3.3",
       "data": {
        "id": "9974274a-11d1-45f5-831c-2b5784108adb",
        "source": "e66dc6c4-12e9-4d62-913e-580c58a120cb",
        "target": "182803ad-37ea-4225-b7b9-0e2961f75ace"
       },
       "selectable": false
      }
     },
     "a2de8b6a70c4480d97ba04c23e4cd05a": {
      "model_module": "jupyter-cytoscape",
      "model_module_version": "^1.3.3",
      "model_name": "EdgeModel",
      "state": {
       "_model_module_version": "^1.3.3",
       "_view_module_version": "^1.3.3",
       "data": {
        "id": "d15171a6-3381-44cd-bec0-58dee245cae2",
        "source": "e9a20b42-297f-424f-b313-63ead0b4f796",
        "target": "38436942-4600-46a5-838f-391cd0c695e1"
       },
       "selectable": false
      }
     },
     "a2e4674d74dd4318b75c87407adddc58": {
      "model_module": "jupyter-cytoscape",
      "model_module_version": "^1.3.3",
      "model_name": "EdgeModel",
      "state": {
       "_model_module_version": "^1.3.3",
       "_view_module_version": "^1.3.3",
       "data": {
        "id": "3edf6cd0-f706-4c49-95cd-e1fe2bb9567c",
        "source": "2e1341a0-0e71-4dbd-8762-ce70ff5ff5a4",
        "target": "d2b8a451-bdc8-40b1-b2b4-89a44db0737f"
       },
       "selectable": false
      }
     },
     "a3b51aea41d2490c97ee5b906d610566": {
      "model_module": "jupyter-cytoscape",
      "model_module_version": "^1.3.3",
      "model_name": "NodeModel",
      "state": {
       "_model_module_version": "^1.3.3",
       "_view_module_version": "^1.3.3",
       "data": {
        "bgcolor": "red",
        "id": "d729f486-2794-4443-979b-fc99ac9271ab",
        "name": "Lemon Juice Concentrate"
       },
       "grabbable": true,
       "grabbed": false,
       "position": {
        "x": 976.0233918128655,
        "y": 1984.126984126984
       },
       "selectable": false
      }
     },
     "a48fb235b5e949e8b57b36a50f2ef363": {
      "model_module": "jupyter-cytoscape",
      "model_module_version": "^1.3.3",
      "model_name": "EdgeModel",
      "state": {
       "_model_module_version": "^1.3.3",
       "_view_module_version": "^1.3.3",
       "data": {
        "id": "6a422887-ac8e-4388-a440-88dd28af82b4",
        "source": "d2b8a451-bdc8-40b1-b2b4-89a44db0737f",
        "target": "c9273b8a-1b57-4f96-85c9-bb0e49426469"
       },
       "selectable": false
      }
     },
     "a4925c85140a4dcf99a7f8e3ca307b9b": {
      "model_module": "jupyter-cytoscape",
      "model_module_version": "^1.3.3",
      "model_name": "NodeModel",
      "state": {
       "_model_module_version": "^1.3.3",
       "_view_module_version": "^1.3.3",
       "data": {
        "bgcolor": "red",
        "id": "123aaa7d-5706-425d-bf28-fea05c29e62e",
        "name": "Truck transport"
       },
       "grabbable": true,
       "grabbed": false,
       "position": {
        "x": 1769.5906432748538,
        "y": 1714.2857142857142
       },
       "selectable": false
      }
     },
     "a5b475ade5194aa7913c51d8300a637c": {
      "model_module": "jupyter-cytoscape",
      "model_module_version": "^1.3.3",
      "model_name": "NodeModel",
      "state": {
       "_model_module_version": "^1.3.3",
       "_view_module_version": "^1.3.3",
       "data": {
        "bgcolor": "red",
        "id": "098e48f4-5ba3-4e08-b2ef-b38356f4f7c8",
        "name": "Lemon Juice Concentrate"
       },
       "grabbable": true,
       "grabbed": false,
       "position": {
        "x": 1769.5906432748538,
        "y": 1904.7619047619046
       },
       "selectable": false
      }
     },
     "a64a0df810764453a66ef0d00dc842be": {
      "model_module": "jupyter-cytoscape",
      "model_module_version": "^1.3.3",
      "model_name": "EdgeModel",
      "state": {
       "_model_module_version": "^1.3.3",
       "_view_module_version": "^1.3.3",
       "data": {
        "id": "5151abae-bd8f-493f-af7b-548f96084ce0",
        "source": "ecbe6287-59e5-4f77-b3b1-ae91bb807f70",
        "target": "ec427e19-1769-4e51-a975-0b1db70f369e"
       },
       "selectable": false
      }
     },
     "a6766dd5694f473eb5c31b122f86e241": {
      "model_module": "jupyter-cytoscape",
      "model_module_version": "^1.3.3",
      "model_name": "EdgeModel",
      "state": {
       "_model_module_version": "^1.3.3",
       "_view_module_version": "^1.3.3",
       "data": {
        "id": "d3f6c75d-91af-4775-a6c6-8b3c3c42c85b",
        "source": "e1683856-98fe-4b05-aec6-2246dd42d331",
        "target": "7913eeac-b459-4dc5-85ab-6dbeac8c673a"
       },
       "selectable": false
      }
     },
     "a6c6d0dadab94dee93c91d83d9046db8": {
      "model_module": "jupyter-cytoscape",
      "model_module_version": "^1.3.3",
      "model_name": "EdgeModel",
      "state": {
       "_model_module_version": "^1.3.3",
       "_view_module_version": "^1.3.3",
       "data": {
        "id": "ff9d26c6-4996-4c59-8699-2cc51e0af71b",
        "source": "d694d7ee-4851-4867-b8a5-b4319255c1b4",
        "target": "7a9de42b-a768-4796-922f-564014e5a319"
       },
       "selectable": false
      }
     },
     "a75857e673d644ccac074e749e31e799": {
      "model_module": "jupyter-cytoscape",
      "model_module_version": "^1.3.3",
      "model_name": "EdgeModel",
      "state": {
       "_model_module_version": "^1.3.3",
       "_view_module_version": "^1.3.3",
       "data": {
        "id": "13a03a8e-0b7f-411c-b65b-1f515ab73f2d",
        "source": "5df19816-1a8e-4837-a252-2910a5116650",
        "target": "5df8b0b4-d9fc-45f9-9087-2227c4d7bb07"
       },
       "selectable": false
      }
     },
     "a80ed0e4057f4314b8466bc6b441c7dd": {
      "model_module": "jupyter-cytoscape",
      "model_module_version": "^1.3.3",
      "model_name": "NodeModel",
      "state": {
       "_model_module_version": "^1.3.3",
       "_view_module_version": "^1.3.3",
       "data": {
        "bgcolor": "green",
        "id": "d2b8a451-bdc8-40b1-b2b4-89a44db0737f",
        "name": ""
       },
       "grabbable": true,
       "grabbed": false,
       "position": {
        "x": 788.3040935672515,
        "y": 730.1587301587301
       },
       "selectable": false
      }
     },
     "a9b65aca6e674a0b9edc7e3ab8704882": {
      "model_module": "jupyter-cytoscape",
      "model_module_version": "^1.3.3",
      "model_name": "EdgeModel",
      "state": {
       "_model_module_version": "^1.3.3",
       "_view_module_version": "^1.3.3",
       "data": {
        "id": "5211a47d-ae85-4afc-82c9-a18b90f7e4e0",
        "source": "514cc85c-2b36-4e81-8ae6-0a2a68804c86",
        "target": "866667c9-f18f-4741-8e9b-185a43e7b08d"
       },
       "selectable": false
      }
     },
     "aa2fe35c71e641479268e0d3b370b51d": {
      "model_module": "jupyter-cytoscape",
      "model_module_version": "^1.3.3",
      "model_name": "NodeModel",
      "state": {
       "_model_module_version": "^1.3.3",
       "_view_module_version": "^1.3.3",
       "data": {
        "bgcolor": "red",
        "id": "742608f2-6626-4685-b7db-b569a08354c8",
        "name": "Fuel consumption of Truck transport"
       },
       "grabbable": true,
       "grabbed": false,
       "position": {
        "x": 1769.5906432748538,
        "y": 1174.6031746031747
       },
       "selectable": false
      }
     },
     "aa37b98fd47647bfa92c9c7de2f6c88d": {
      "model_module": "jupyter-cytoscape",
      "model_module_version": "^1.3.3",
      "model_name": "NodeModel",
      "state": {
       "_model_module_version": "^1.3.3",
       "_view_module_version": "^1.3.3",
       "data": {
        "bgcolor": "red",
        "id": "6e4d3242-9680-4bec-80cc-486261e987dc",
        "name": "Truck transport"
       },
       "grabbable": true,
       "grabbed": false,
       "position": {
        "x": 1351.4619883040934,
        "y": 1063.4920634920634
       },
       "selectable": false
      }
     },
     "aa655bb85017455c887aff1082aed3b7": {
      "model_module": "jupyter-cytoscape",
      "model_module_version": "^1.3.3",
      "model_name": "NodeModel",
      "state": {
       "_model_module_version": "^1.3.3",
       "_view_module_version": "^1.3.3",
       "data": {
        "bgcolor": "green",
        "id": "fa708600-8a2c-449f-a4ca-f67fd1209805",
        "name": ""
       },
       "grabbable": true,
       "grabbed": false,
       "position": {
        "x": 1539.1812865497077,
        "y": 428.57142857142856
       },
       "selectable": false
      }
     },
     "aadc8550a8ea47fe98dcf83d0bd13235": {
      "model_module": "jupyter-cytoscape",
      "model_module_version": "^1.3.3",
      "model_name": "NodeModel",
      "state": {
       "_model_module_version": "^1.3.3",
       "_view_module_version": "^1.3.3",
       "data": {
        "bgcolor": "green",
        "id": "c97bba47-8820-4b82-8a3e-64d87cf2c29d",
        "name": ""
       },
       "grabbable": true,
       "grabbed": false,
       "position": {
        "x": 1163.7426900584794,
        "y": 1984.126984126984
       },
       "selectable": false
      }
     },
     "ab6fee6bd7c34ac5bf7331c43e42346a": {
      "model_module": "jupyter-cytoscape",
      "model_module_version": "^1.3.3",
      "model_name": "EdgeModel",
      "state": {
       "_model_module_version": "^1.3.3",
       "_view_module_version": "^1.3.3",
       "data": {
        "id": "fdde48e6-3638-4dcc-9432-2788f8ba4e47",
        "source": "3fad0fb0-38ec-4c91-a9ae-150ac16bc12f",
        "target": "cfba56c0-90fa-4dcd-b69a-950d39ce5984"
       },
       "selectable": false
      }
     },
     "ae82cbb9e97949bb8eb2a77d25450dd6": {
      "model_module": "jupyter-cytoscape",
      "model_module_version": "^1.3.3",
      "model_name": "EdgeModel",
      "state": {
       "_model_module_version": "^1.3.3",
       "_view_module_version": "^1.3.3",
       "data": {
        "id": "b0c9602e-deb2-45cd-af92-937737537ab9",
        "source": "2b78f1aa-a1cd-4d5a-ad16-43851fd0aa6a",
        "target": "53e8b769-260e-4dde-9cad-9c6b9a489ef5"
       },
       "selectable": false
      }
     },
     "aedf6e80f7524591942d139fd16bd0aa": {
      "model_module": "jupyter-cytoscape",
      "model_module_version": "^1.3.3",
      "model_name": "EdgeModel",
      "state": {
       "_model_module_version": "^1.3.3",
       "_view_module_version": "^1.3.3",
       "data": {
        "id": "76fef534-28a1-454e-b160-3fe013bfea07",
        "source": "d66086f4-787a-4434-9ae0-5a0a3c37d65a",
        "target": "81c62011-d4f6-45ad-be15-7ec1c0d71daf"
       },
       "selectable": false
      }
     },
     "b0e55674879e4daa84115b234f1ceafc": {
      "model_module": "jupyter-cytoscape",
      "model_module_version": "^1.3.3",
      "model_name": "EdgeModel",
      "state": {
       "_model_module_version": "^1.3.3",
       "_view_module_version": "^1.3.3",
       "data": {
        "id": "9c24da9e-1004-43b6-aba5-b6b7125150a9",
        "source": "5f4986fd-88ed-4676-8bae-e4b5b1bd88f4",
        "target": "d45a0623-2534-47ef-b1b7-b4541a310742"
       },
       "selectable": false
      }
     },
     "b1f65421462e4e7b9d3b7438d2c00dd8": {
      "model_module": "jupyter-cytoscape",
      "model_module_version": "^1.3.3",
      "model_name": "NodeModel",
      "state": {
       "_model_module_version": "^1.3.3",
       "_view_module_version": "^1.3.3",
       "data": {
        "bgcolor": "green",
        "id": "7462a4b0-06dc-45c5-91fb-798ae2ec2c4e",
        "name": ""
       },
       "grabbable": true,
       "grabbed": false,
       "position": {
        "x": 1539.1812865497077,
        "y": 1428.5714285714287
       },
       "selectable": false
      }
     },
     "b200c8aab3604660b93d5aeb4f580c63": {
      "model_module": "jupyter-cytoscape",
      "model_module_version": "^1.3.3",
      "model_name": "EdgeModel",
      "state": {
       "_model_module_version": "^1.3.3",
       "_view_module_version": "^1.3.3",
       "data": {
        "id": "c9a72f7b-2c85-423c-b907-f2427a98e895",
        "source": "861ca61d-de22-44e3-aeac-b398e6593cb3",
        "target": "98af4f07-f54a-44ba-afe8-3414c6a6eb66"
       },
       "selectable": false
      }
     },
     "b242f3510ecd4d79a7ad2ee72009917e": {
      "model_module": "jupyter-cytoscape",
      "model_module_version": "^1.3.3",
      "model_name": "NodeModel",
      "state": {
       "_model_module_version": "^1.3.3",
       "_view_module_version": "^1.3.3",
       "data": {
        "id": "98af4f07-f54a-44ba-afe8-3414c6a6eb66"
       },
       "grabbable": true,
       "grabbed": false,
       "position": {
        "x": 2000,
        "y": 1476.1904761904764
       },
       "selectable": false
      }
     },
     "b277f0b2fdcf4fbfb69427f099f80cad": {
      "model_module": "jupyter-cytoscape",
      "model_module_version": "^1.3.3",
      "model_name": "NodeModel",
      "state": {
       "_model_module_version": "^1.3.3",
       "_view_module_version": "^1.3.3",
       "data": {
        "bgcolor": "red",
        "id": "400ea7af-14d2-4c2a-82f1-2ca7a44fe212",
        "name": "Fuel consumption of Truck transport"
       },
       "grabbable": true,
       "grabbed": false,
       "position": {
        "x": 1769.5906432748538,
        "y": 793.6507936507936
       },
       "selectable": false
      }
     },
     "b2f2fece5a824ec198d9bbfa8f4aab84": {
      "model_module": "jupyter-cytoscape",
      "model_module_version": "^1.3.3",
      "model_name": "EdgeModel",
      "state": {
       "_model_module_version": "^1.3.3",
       "_view_module_version": "^1.3.3",
       "data": {
        "id": "f53b2a93-50a5-4357-92a6-c2ad5a441077",
        "source": "9c4292da-2e00-4fae-bd72-77ed44064a96",
        "target": "8c41793d-e24e-487a-981f-4e243243fcd1"
       },
       "selectable": false
      }
     },
     "b2f7917d104b45bbb655ceedaa3377a3": {
      "model_module": "jupyter-cytoscape",
      "model_module_version": "^1.3.3",
      "model_name": "EdgeModel",
      "state": {
       "_model_module_version": "^1.3.3",
       "_view_module_version": "^1.3.3",
       "data": {
        "id": "2254aae1-6d96-467e-9511-57b42af7cbb7",
        "source": "f297b2aa-89fc-4e7c-abbf-645e9bf3d63c",
        "target": "02ef0194-3aad-47d1-8d49-5b6e42a21e77"
       },
       "selectable": false
      }
     },
     "b32b7e6aaea445e28c5e9eb10bfd5d86": {
      "model_module": "jupyter-cytoscape",
      "model_module_version": "^1.3.3",
      "model_name": "EdgeModel",
      "state": {
       "_model_module_version": "^1.3.3",
       "_view_module_version": "^1.3.3",
       "data": {
        "id": "566e82a9-8cde-4d8e-9a15-ee0f2f3d6f17",
        "source": "63e7fb0c-59cd-42c2-9718-832f04532569",
        "target": "b9f31657-f4ef-48df-ae60-46487b2ff751"
       },
       "selectable": false
      }
     },
     "b34b5418203944e0abe8783c003672ed": {
      "model_module": "jupyter-cytoscape",
      "model_module_version": "^1.3.3",
      "model_name": "NodeModel",
      "state": {
       "_model_module_version": "^1.3.3",
       "_view_module_version": "^1.3.3",
       "data": {
        "bgcolor": "red",
        "id": "320633da-7465-4304-8079-f68b8c5a9755",
        "name": "Fuel consumption of Truck transport"
       },
       "grabbable": true,
       "grabbed": false,
       "position": {
        "x": 1769.5906432748538,
        "y": 825.3968253968253
       },
       "selectable": false
      }
     },
     "b3f69b965f924bc0bd492336de526afd": {
      "model_module": "jupyter-cytoscape",
      "model_module_version": "^1.3.3",
      "model_name": "EdgeModel",
      "state": {
       "_model_module_version": "^1.3.3",
       "_view_module_version": "^1.3.3",
       "data": {
        "id": "5e5907a6-ec84-44b8-a65f-aa0e42550a83",
        "source": "da0af127-0acc-4c18-a58c-ec4792d3f0fc",
        "target": "efb9a6af-4ec8-4f20-b4d4-2c6730110b38"
       },
       "selectable": false
      }
     },
     "b44d86c1ed26474aad221d2466c779a3": {
      "model_module": "jupyter-cytoscape",
      "model_module_version": "^1.3.3",
      "model_name": "EdgeModel",
      "state": {
       "_model_module_version": "^1.3.3",
       "_view_module_version": "^1.3.3",
       "data": {
        "id": "afd59f82-0d53-4934-8c6b-fa7f1bb9d45d",
        "source": "7913eeac-b459-4dc5-85ab-6dbeac8c673a",
        "target": "2a518537-a3fd-4836-93ea-ba9b2f654975"
       },
       "selectable": false
      }
     },
     "b45cdea4cfd64da892fac70a73c04824": {
      "model_module": "jupyter-cytoscape",
      "model_module_version": "^1.3.3",
      "model_name": "EdgeModel",
      "state": {
       "_model_module_version": "^1.3.3",
       "_view_module_version": "^1.3.3",
       "data": {
        "id": "319a0518-4220-4406-b26f-9884156cc85c",
        "source": "7462a4b0-06dc-45c5-91fb-798ae2ec2c4e",
        "target": "123aaa7d-5706-425d-bf28-fea05c29e62e"
       },
       "selectable": false
      }
     },
     "b5c86d215e57424aa743dfabbedda2e6": {
      "model_module": "jupyter-cytoscape",
      "model_module_version": "^1.3.3",
      "model_name": "NodeModel",
      "state": {
       "_model_module_version": "^1.3.3",
       "_view_module_version": "^1.3.3",
       "data": {
        "bgcolor": "red",
        "id": "83d850be-d73d-4aa9-91ec-b4aa679b68ed",
        "name": "Truck transport"
       },
       "grabbable": true,
       "grabbed": false,
       "position": {
        "x": 1769.5906432748538,
        "y": 1587.3015873015872
       },
       "selectable": false
      }
     },
     "b64174d984294c389540bdc58461e891": {
      "model_module": "jupyter-cytoscape",
      "model_module_version": "^1.3.3",
      "model_name": "NodeModel",
      "state": {
       "_model_module_version": "^1.3.3",
       "_view_module_version": "^1.3.3",
       "data": {
        "bgcolor": "red",
        "id": "363b84db-4898-4340-a393-f368bc7fc2e8",
        "name": "Lemon Juice Concentrate"
       },
       "grabbable": true,
       "grabbed": false,
       "position": {
        "x": 976.0233918128655,
        "y": 1920.6349206349207
       },
       "selectable": false
      }
     },
     "b77237b5a79049a5a6786cc3d86985c5": {
      "model_module": "jupyter-cytoscape",
      "model_module_version": "^1.3.3",
      "model_name": "EdgeModel",
      "state": {
       "_model_module_version": "^1.3.3",
       "_view_module_version": "^1.3.3",
       "data": {
        "id": "ffc02385-7941-4a45-a665-2f45f32b62d6",
        "source": "444bd5df-6b3c-4ae9-9f91-81d474b1d6f9",
        "target": "2e1341a0-0e71-4dbd-8762-ce70ff5ff5a4"
       },
       "selectable": false
      }
     },
     "b8140e80fd6e4f98bedd2a223d7a738b": {
      "model_module": "jupyter-cytoscape",
      "model_module_version": "^1.3.3",
      "model_name": "NodeModel",
      "state": {
       "_model_module_version": "^1.3.3",
       "_view_module_version": "^1.3.3",
       "data": {
        "bgcolor": "red",
        "id": "c9273b8a-1b57-4f96-85c9-bb0e49426469",
        "name": "Bananas"
       },
       "grabbable": true,
       "grabbed": false,
       "position": {
        "x": 976.0233918128655,
        "y": 15.873015873015872
       },
       "selectable": false
      }
     },
     "b915116d576d441eaefc33d2abfd5ccc": {
      "model_module": "jupyter-cytoscape",
      "model_module_version": "^1.3.3",
      "model_name": "EdgeModel",
      "state": {
       "_model_module_version": "^1.3.3",
       "_view_module_version": "^1.3.3",
       "data": {
        "id": "0a913273-5a10-4a1f-a10a-8054212f8db0",
        "source": "6e7a91af-23bd-4569-b2aa-0b15d245ca0e",
        "target": "1922f28f-803f-439d-95e4-985e9a06b2ba"
       },
       "selectable": false
      }
     },
     "b96957a2786843a5a2fdcd238487a8d8": {
      "model_module": "jupyter-cytoscape",
      "model_module_version": "^1.3.3",
      "model_name": "EdgeModel",
      "state": {
       "_model_module_version": "^1.3.3",
       "_view_module_version": "^1.3.3",
       "data": {
        "id": "0a8509cb-8d3e-480f-b75b-cf3cac11d0ae",
        "source": "a934f04e-46ae-463f-9e7a-ed56e3413334",
        "target": "520154bd-bb42-464c-8da1-090f59e34de2"
       },
       "selectable": false
      }
     },
     "b9cc230ead8a4476845af4515f4d852d": {
      "model_module": "jupyter-cytoscape",
      "model_module_version": "^1.3.3",
      "model_name": "EdgeModel",
      "state": {
       "_model_module_version": "^1.3.3",
       "_view_module_version": "^1.3.3",
       "data": {
        "id": "db3b7636-9bf5-4076-928d-eeac4325fa4f",
        "source": "320633da-7465-4304-8079-f68b8c5a9755",
        "target": "38436942-4600-46a5-838f-391cd0c695e1"
       },
       "selectable": false
      }
     },
     "b9d8b862b5bf40158a3be8316cf70284": {
      "model_module": "jupyter-cytoscape",
      "model_module_version": "^1.3.3",
      "model_name": "EdgeModel",
      "state": {
       "_model_module_version": "^1.3.3",
       "_view_module_version": "^1.3.3",
       "data": {
        "id": "24fb69ea-f8b9-404c-9e2e-1cc022658140",
        "source": "2297da1a-a1d1-4131-926b-d74ea5fe3f90",
        "target": "400ea7af-14d2-4c2a-82f1-2ca7a44fe212"
       },
       "selectable": false
      }
     },
     "bbfe6c089a6f487596be7e4c017a6724": {
      "model_module": "jupyter-cytoscape",
      "model_module_version": "^1.3.3",
      "model_name": "NodeModel",
      "state": {
       "_model_module_version": "^1.3.3",
       "_view_module_version": "^1.3.3",
       "data": {
        "bgcolor": "green",
        "id": "866667c9-f18f-4741-8e9b-185a43e7b08d",
        "name": ""
       },
       "grabbable": true,
       "grabbed": false,
       "position": {
        "x": 1163.7426900584794,
        "y": 79.36507936507937
       },
       "selectable": false
      }
     },
     "bc5dc9724dc2450aa5fd2ace3a5190ac": {
      "model_module": "jupyter-cytoscape",
      "model_module_version": "^1.3.3",
      "model_name": "NodeModel",
      "state": {
       "_model_module_version": "^1.3.3",
       "_view_module_version": "^1.3.3",
       "data": {
        "bgcolor": "red",
        "id": "73168d91-c7d1-46b0-b828-1a5d9d6afb70",
        "name": "Truck transport"
       },
       "grabbable": true,
       "grabbed": false,
       "position": {
        "x": 1351.4619883040934,
        "y": 952.3809523809523
       },
       "selectable": false
      }
     },
     "bd2561d64206476b810e287ab4b9f2e6": {
      "model_module": "jupyter-cytoscape",
      "model_module_version": "^1.3.3",
      "model_name": "EdgeModel",
      "state": {
       "_model_module_version": "^1.3.3",
       "_view_module_version": "^1.3.3",
       "data": {
        "id": "4774faeb-89b6-4045-858a-d425983f7e5d",
        "source": "790c1de2-5e26-4611-8376-fa19a66c9c4d",
        "target": "38436942-4600-46a5-838f-391cd0c695e1"
       },
       "selectable": false
      }
     },
     "bd4006bff6864c1382abf27db587d1e9": {
      "model_module": "jupyter-cytoscape",
      "model_module_version": "^1.3.3",
      "model_name": "NodeModel",
      "state": {
       "_model_module_version": "^1.3.3",
       "_view_module_version": "^1.3.3",
       "data": {
        "bgcolor": "red",
        "id": "e759148e-2510-4666-b9c4-2f566236eb64",
        "name": "Truck transport"
       },
       "grabbable": true,
       "grabbed": false,
       "position": {
        "x": 1769.5906432748538,
        "y": 1492.063492063492
       },
       "selectable": false
      }
     },
     "bd43bd1504b74413bf6100d4330a6d7b": {
      "model_module": "jupyter-cytoscape",
      "model_module_version": "^1.3.3",
      "model_name": "EdgeModel",
      "state": {
       "_model_module_version": "^1.3.3",
       "_view_module_version": "^1.3.3",
       "data": {
        "id": "1f4fdb85-58f9-4cab-930a-420c2375a309",
        "source": "075a33e1-a1c4-45a6-8f7f-908675f911e6",
        "target": "9c4292da-2e00-4fae-bd72-77ed44064a96"
       },
       "selectable": false
      }
     },
     "bdce438d3db84ff29c50c71f24c08ccc": {
      "model_module": "jupyter-cytoscape",
      "model_module_version": "^1.3.3",
      "model_name": "NodeModel",
      "state": {
       "_model_module_version": "^1.3.3",
       "_view_module_version": "^1.3.3",
       "data": {
        "bgcolor": "red",
        "id": "d3f4e7f7-fe8f-4e0b-8864-60e6a9726fb8",
        "name": "Fuel consumption of Sea transport"
       },
       "grabbable": true,
       "grabbed": false,
       "position": {
        "x": 1769.5906432748538,
        "y": 761.9047619047618
       },
       "selectable": false
      }
     },
     "bdf7b8ce406f4852a2eada3a72071014": {
      "model_module": "jupyter-cytoscape",
      "model_module_version": "^1.3.3",
      "model_name": "EdgeModel",
      "state": {
       "_model_module_version": "^1.3.3",
       "_view_module_version": "^1.3.3",
       "data": {
        "id": "9d3dd5a2-6dce-484e-a028-723cc288ee9d",
        "source": "7a9de42b-a768-4796-922f-564014e5a319",
        "target": "7fdaed29-5af2-44b0-b661-10fe7fa5fabd"
       },
       "selectable": false
      }
     },
     "bf4209f952d0497e9c263a8190bec8ee": {
      "model_module": "jupyter-cytoscape",
      "model_module_version": "^1.3.3",
      "model_name": "NodeModel",
      "state": {
       "_model_module_version": "^1.3.3",
       "_view_module_version": "^1.3.3",
       "data": {
        "bgcolor": "red",
        "id": "53ad1588-b93c-455a-a23f-f0c57722365b",
        "name": "Lemon Juice Concentrate"
       },
       "grabbable": true,
       "grabbed": false,
       "position": {
        "x": 976.0233918128655,
        "y": 1857.142857142857
       },
       "selectable": false
      }
     },
     "c0593a94917a47c6aab6a3148e13db35": {
      "model_module": "jupyter-cytoscape",
      "model_module_version": "^1.3.3",
      "model_name": "EdgeModel",
      "state": {
       "_model_module_version": "^1.3.3",
       "_view_module_version": "^1.3.3",
       "data": {
        "id": "2f1720e1-893e-4719-9fa8-a7a6da254c2a",
        "source": "53ad1588-b93c-455a-a23f-f0c57722365b",
        "target": "1d6c31ee-736f-4e95-8207-fb68d598a534"
       },
       "selectable": false
      }
     },
     "c2129a327189466599f36bd2b8fcbe80": {
      "model_module": "jupyter-cytoscape",
      "model_module_version": "^1.3.3",
      "model_name": "EdgeModel",
      "state": {
       "_model_module_version": "^1.3.3",
       "_view_module_version": "^1.3.3",
       "data": {
        "id": "595aabe4-568e-4d62-a11b-8da1fc12dbb9",
        "source": "ddec5765-2557-4d5b-8ef1-75cde94a7ebb",
        "target": "38436942-4600-46a5-838f-391cd0c695e1"
       },
       "selectable": false
      }
     },
     "c302aef3f4a14b38b544928aa0a7e48f": {
      "model_module": "jupyter-cytoscape",
      "model_module_version": "^1.3.3",
      "model_name": "NodeModel",
      "state": {
       "_model_module_version": "^1.3.3",
       "_view_module_version": "^1.3.3",
       "data": {
        "bgcolor": "red",
        "id": "315b39f7-7efd-4a2f-8b9e-6990237d34d4",
        "name": "Truck transport"
       },
       "grabbable": true,
       "grabbed": false,
       "position": {
        "x": 1769.5906432748538,
        "y": 1428.5714285714287
       },
       "selectable": false
      }
     },
     "c3098a761e344a94a28df1a6ba0e122f": {
      "model_module": "jupyter-cytoscape",
      "model_module_version": "^1.3.3",
      "model_name": "EdgeModel",
      "state": {
       "_model_module_version": "^1.3.3",
       "_view_module_version": "^1.3.3",
       "data": {
        "id": "414589a1-5503-4c1b-97a2-1160903894af",
        "source": "18ae7db0-8d10-4b64-ad08-a11a2914c35e",
        "target": "b6213c65-1abb-492b-b3c8-8c0f7570d485"
       },
       "selectable": false
      }
     },
     "c30b0528610345c091ecee9091b545c8": {
      "model_module": "jupyter-cytoscape",
      "model_module_version": "^1.3.3",
      "model_name": "NodeModel",
      "state": {
       "_model_module_version": "^1.3.3",
       "_view_module_version": "^1.3.3",
       "data": {
        "id": "578dccf9-5238-4121-98bd-de24214cc787"
       },
       "grabbable": true,
       "grabbed": false,
       "position": {
        "x": 2000,
        "y": 111.1111111111111
       },
       "selectable": false
      }
     },
     "c428a300c5444d29a9c43b35ad3a93ea": {
      "model_module": "jupyter-cytoscape",
      "model_module_version": "^1.3.3",
      "model_name": "NodeModel",
      "state": {
       "_model_module_version": "^1.3.3",
       "_view_module_version": "^1.3.3",
       "data": {
        "bgcolor": "red",
        "id": "1cea6308-5b83-4a3a-a922-9f306c56e76c",
        "name": "Bananas"
       },
       "grabbable": true,
       "grabbed": false,
       "position": {
        "x": 1351.4619883040934,
        "y": 63.49206349206349
       },
       "selectable": false
      }
     },
     "c44d22b150ec43b7a32b6ba178781e5d": {
      "model_module": "jupyter-cytoscape",
      "model_module_version": "^1.3.3",
      "model_name": "NodeModel",
      "state": {
       "_model_module_version": "^1.3.3",
       "_view_module_version": "^1.3.3",
       "data": {
        "bgcolor": "red",
        "id": "fbbe57cd-77cd-4d3b-9dd9-a200d4ad3a1c",
        "name": "Sea transport"
       },
       "grabbable": true,
       "grabbed": false,
       "position": {
        "x": 1769.5906432748538,
        "y": 285.7142857142857
       },
       "selectable": false
      }
     },
     "c57b1fbda6ef4b22adcf88d78d074ccc": {
      "model_module": "jupyter-cytoscape",
      "model_module_version": "^1.3.3",
      "model_name": "NodeModel",
      "state": {
       "_model_module_version": "^1.3.3",
       "_view_module_version": "^1.3.3",
       "data": {
        "bgcolor": "green",
        "id": "8500560f-c494-4af1-a6d0-ffa3604ec7ec",
        "name": ""
       },
       "grabbable": true,
       "grabbed": false,
       "position": {
        "x": 1539.1812865497077,
        "y": 952.3809523809523
       },
       "selectable": false
      }
     },
     "c62f706189c44d43a7cea3e7b775e645": {
      "model_module": "jupyter-cytoscape",
      "model_module_version": "^1.3.3",
      "model_name": "EdgeModel",
      "state": {
       "_model_module_version": "^1.3.3",
       "_view_module_version": "^1.3.3",
       "data": {
        "id": "b160b44c-0d2d-4b07-b160-a2454ca3b3b5",
        "source": "c97bba47-8820-4b82-8a3e-64d87cf2c29d",
        "target": "87d4c5b6-d481-4207-8581-dcb461bc2d93"
       },
       "selectable": false
      }
     },
     "c67873a7998543da940062b7300f044f": {
      "model_module": "jupyter-cytoscape",
      "model_module_version": "^1.3.3",
      "model_name": "NodeModel",
      "state": {
       "_model_module_version": "^1.3.3",
       "_view_module_version": "^1.3.3",
       "data": {
        "bgcolor": "red",
        "id": "cfba56c0-90fa-4dcd-b69a-950d39ce5984",
        "name": "Lemon Juice Concentrate"
       },
       "grabbable": true,
       "grabbed": false,
       "position": {
        "x": 1769.5906432748538,
        "y": 1777.7777777777776
       },
       "selectable": false
      }
     },
     "c8473b71fff8493197f94bb69f84fe16": {
      "model_module": "jupyter-cytoscape",
      "model_module_version": "^1.3.3",
      "model_name": "EdgeModel",
      "state": {
       "_model_module_version": "^1.3.3",
       "_view_module_version": "^1.3.3",
       "data": {
        "id": "c772d597-35af-4734-9ef2-e679dbb2a0d3",
        "source": "64f7b725-6180-41db-92b2-aab0d61a82bf",
        "target": "9e8ab4a2-4670-4598-a814-858202a76af1"
       },
       "selectable": false
      }
     },
     "c86bda934fd8445eb774d01b97624c53": {
      "model_module": "jupyter-cytoscape",
      "model_module_version": "^1.3.3",
      "model_name": "EdgeModel",
      "state": {
       "_model_module_version": "^1.3.3",
       "_view_module_version": "^1.3.3",
       "data": {
        "id": "d4c18e3f-c73e-42f9-aeb6-9a4c901a2370",
        "source": "c97bba47-8820-4b82-8a3e-64d87cf2c29d",
        "target": "6e79b05b-6a13-4ba4-8bf4-38f597ee77ec"
       },
       "selectable": false
      }
     },
     "c8721a18c3c44afd9bf757d8f3a38839": {
      "model_module": "jupyter-cytoscape",
      "model_module_version": "^1.3.3",
      "model_name": "NodeModel",
      "state": {
       "_model_module_version": "^1.3.3",
       "_view_module_version": "^1.3.3",
       "data": {
        "bgcolor": "red",
        "id": "63539165-d850-4577-8c0a-ae6edfb8b910",
        "name": "Fuel consumption of Truck transport"
       },
       "grabbable": true,
       "grabbed": false,
       "position": {
        "x": 1769.5906432748538,
        "y": 984.1269841269841
       },
       "selectable": false
      }
     },
     "ca35504337ef49098d130831734810b3": {
      "model_module": "jupyter-cytoscape",
      "model_module_version": "^1.3.3",
      "model_name": "NodeModel",
      "state": {
       "_model_module_version": "^1.3.3",
       "_view_module_version": "^1.3.3",
       "data": {
        "bgcolor": "red",
        "id": "22bae8a9-b58b-4ace-a660-4e94ede1cbcb",
        "name": "Truck transport"
       },
       "grabbable": true,
       "grabbed": false,
       "position": {
        "x": 1351.4619883040934,
        "y": 1396.8253968253966
       },
       "selectable": false
      }
     },
     "cb0d3dd8f75f4d24a72ef210e8c9d006": {
      "model_module": "jupyter-cytoscape",
      "model_module_version": "^1.3.3",
      "model_name": "NodeModel",
      "state": {
       "_model_module_version": "^1.3.3",
       "_view_module_version": "^1.3.3",
       "data": {
        "bgcolor": "red",
        "id": "81343dba-d23c-4c4e-a499-45765ddd7f35",
        "name": "Sea transport"
       },
       "grabbable": true,
       "grabbed": false,
       "position": {
        "x": 1769.5906432748538,
        "y": 412.69841269841265
       },
       "selectable": false
      }
     },
     "cb0e3adc3a9e4991ad8ef68de6c0725a": {
      "model_module": "jupyter-cytoscape",
      "model_module_version": "^1.3.3",
      "model_name": "EdgeModel",
      "state": {
       "_model_module_version": "^1.3.3",
       "_view_module_version": "^1.3.3",
       "data": {
        "id": "b492a296-6fe7-4f2a-8bc4-1dbd0c9c63f7",
        "source": "363b84db-4898-4340-a393-f368bc7fc2e8",
        "target": "5ac0c1c0-0661-4471-a3db-d39ba94ddbdd"
       },
       "selectable": false
      }
     },
     "ccfea451e4554537adc3156680ba29c4": {
      "model_module": "jupyter-cytoscape",
      "model_module_version": "^1.3.3",
      "model_name": "NodeModel",
      "state": {
       "_model_module_version": "^1.3.3",
       "_view_module_version": "^1.3.3",
       "data": {
        "bgcolor": "green",
        "id": "31cf6f20-1095-4f21-b99c-d611c6f1a87d",
        "name": ""
       },
       "grabbable": true,
       "grabbed": false,
       "position": {
        "x": 1539.1812865497077,
        "y": 1301.5873015873017
       },
       "selectable": false
      }
     },
     "ce3ea1bc5ed744b3b23fa7804fa9f897": {
      "model_module": "jupyter-cytoscape",
      "model_module_version": "^1.3.3",
      "model_name": "NodeModel",
      "state": {
       "_model_module_version": "^1.3.3",
       "_view_module_version": "^1.3.3",
       "data": {
        "bgcolor": "red",
        "id": "f297b2aa-89fc-4e7c-abbf-645e9bf3d63c",
        "name": "Lemon Juice Concentrate"
       },
       "grabbable": true,
       "grabbed": false,
       "position": {
        "x": 1769.5906432748538,
        "y": 1873.015873015873
       },
       "selectable": false
      }
     },
     "ceb30ef194ee456b98d5a4a6d91d5e87": {
      "model_module": "jupyter-cytoscape",
      "model_module_version": "^1.3.3",
      "model_name": "EdgeModel",
      "state": {
       "_model_module_version": "^1.3.3",
       "_view_module_version": "^1.3.3",
       "data": {
        "id": "31dabf0a-6caf-4c01-ae92-ad53692d6885",
        "source": "a2e7d106-1f93-440c-a63c-9b5d11e832b8",
        "target": "578dccf9-5238-4121-98bd-de24214cc787"
       },
       "selectable": false
      }
     },
     "cef48405eea845eb897474cfef9f95fa": {
      "model_module": "jupyter-cytoscape",
      "model_module_version": "^1.3.3",
      "model_name": "NodeModel",
      "state": {
       "_model_module_version": "^1.3.3",
       "_view_module_version": "^1.3.3",
       "data": {
        "bgcolor": "red",
        "id": "b6213c65-1abb-492b-b3c8-8c0f7570d485",
        "name": "Lemon Juice Concentrate"
       },
       "grabbable": true,
       "grabbed": false,
       "position": {
        "x": 225.14619883040933,
        "y": 1285.7142857142858
       },
       "selectable": false
      }
     },
     "cfabe5ead481412eac34268505d28ad1": {
      "model_module": "jupyter-cytoscape",
      "model_module_version": "^1.3.3",
      "model_name": "EdgeModel",
      "state": {
       "_model_module_version": "^1.3.3",
       "_view_module_version": "^1.3.3",
       "data": {
        "id": "58cd420c-70f3-4581-8e4b-dfdf1014550b",
        "source": "53e8b769-260e-4dde-9cad-9c6b9a489ef5",
        "target": "7c1f1707-d215-4721-9072-daae255fe013"
       },
       "selectable": false
      }
     },
     "d0dc246398e449f59639353ab532caea": {
      "model_module": "jupyter-cytoscape",
      "model_module_version": "^1.3.3",
      "model_name": "EdgeModel",
      "state": {
       "_model_module_version": "^1.3.3",
       "_view_module_version": "^1.3.3",
       "data": {
        "id": "006f0f23-7761-43fc-b7e9-b3600036a2ce",
        "source": "61eaf3d9-6357-49f3-939e-e4535eb4c6ad",
        "target": "38958361-9111-4007-927b-4365e9c29701"
       },
       "selectable": false
      }
     },
     "d24e20118a634638bcab3fb853b7c869": {
      "model_module": "jupyter-cytoscape",
      "model_module_version": "^1.3.3",
      "model_name": "EdgeModel",
      "state": {
       "_model_module_version": "^1.3.3",
       "_view_module_version": "^1.3.3",
       "data": {
        "id": "48541774-c38c-4d53-a778-0fb531eeed2f",
        "source": "7462a4b0-06dc-45c5-91fb-798ae2ec2c4e",
        "target": "e7248aba-18d9-4bd8-8526-e238650ec613"
       },
       "selectable": false
      }
     },
     "d2a8d5a689794decb1d80302fd297266": {
      "model_module": "jupyter-cytoscape",
      "model_module_version": "^1.3.3",
      "model_name": "EdgeModel",
      "state": {
       "_model_module_version": "^1.3.3",
       "_view_module_version": "^1.3.3",
       "data": {
        "id": "d57b549b-5554-43e7-8e88-f9780c40a7d3",
        "source": "d2dda7c7-1b88-48ad-aaf8-054e7a2b8362",
        "target": "d66086f4-787a-4434-9ae0-5a0a3c37d65a"
       },
       "selectable": false
      }
     },
     "d369a82af94b4840b8581ec505019649": {
      "model_module": "jupyter-cytoscape",
      "model_module_version": "^1.3.3",
      "model_name": "EdgeModel",
      "state": {
       "_model_module_version": "^1.3.3",
       "_view_module_version": "^1.3.3",
       "data": {
        "id": "ddd6edb7-1e90-4894-a64f-8bc3f3ff6583",
        "source": "6e79b05b-6a13-4ba4-8bf4-38f597ee77ec",
        "target": "02ef0194-3aad-47d1-8d49-5b6e42a21e77"
       },
       "selectable": false
      }
     },
     "d52dd6819d644a529092796ba6194efc": {
      "model_module": "jupyter-cytoscape",
      "model_module_version": "^1.3.3",
      "model_name": "NodeModel",
      "state": {
       "_model_module_version": "^1.3.3",
       "_view_module_version": "^1.3.3",
       "data": {
        "bgcolor": "red",
        "id": "0241bf8c-8dcc-47e0-98ae-86ffa4e78eaf",
        "name": "Truck transport"
       },
       "grabbable": true,
       "grabbed": false,
       "position": {
        "x": 1769.5906432748538,
        "y": 1206.3492063492063
       },
       "selectable": false
      }
     },
     "d546125df0d34693b9c8790b61038b85": {
      "model_module": "jupyter-cytoscape",
      "model_module_version": "^1.3.3",
      "model_name": "NodeModel",
      "state": {
       "_model_module_version": "^1.3.3",
       "_view_module_version": "^1.3.3",
       "data": {
        "bgcolor": "green",
        "id": "ecbe6287-59e5-4f77-b3b1-ae91bb807f70",
        "name": ""
       },
       "grabbable": true,
       "grabbed": false,
       "position": {
        "x": 1539.1812865497077,
        "y": 555.5555555555555
       },
       "selectable": false
      }
     },
     "d5608ac8b1f546b3b40538e6dcef6817": {
      "model_module": "jupyter-cytoscape",
      "model_module_version": "^1.3.3",
      "model_name": "EdgeModel",
      "state": {
       "_model_module_version": "^1.3.3",
       "_view_module_version": "^1.3.3",
       "data": {
        "id": "beb76aaa-05af-44bc-bf6c-e6c29948bebd",
        "source": "fbe4acd7-0d17-4d56-9221-95c757887a98",
        "target": "38436942-4600-46a5-838f-391cd0c695e1"
       },
       "selectable": false
      }
     },
     "d5dc880e0b434015ab57215624f58f22": {
      "model_module": "jupyter-cytoscape",
      "model_module_version": "^1.3.3",
      "model_name": "EdgeModel",
      "state": {
       "_model_module_version": "^1.3.3",
       "_view_module_version": "^1.3.3",
       "data": {
        "id": "7d684185-8cce-4fc4-811c-2d10f3c357b3",
        "source": "f9fdd91f-33b6-4e5a-b1b1-ca4f12298558",
        "target": "38436942-4600-46a5-838f-391cd0c695e1"
       },
       "selectable": false
      }
     },
     "d604fc7b77a04ad0b6dbd9f894fff9d9": {
      "model_module": "jupyter-cytoscape",
      "model_module_version": "^1.3.3",
      "model_name": "EdgeModel",
      "state": {
       "_model_module_version": "^1.3.3",
       "_view_module_version": "^1.3.3",
       "data": {
        "id": "dcde6931-6669-46f1-95f2-64f91746a8bf",
        "source": "4a6418f4-1de3-47c7-8a16-9940c532634e",
        "target": "089f2160-4ff8-4168-ac1e-583ac8cdcc97"
       },
       "selectable": false
      }
     },
     "d6b47a0334f64df4a67541f55b502a7b": {
      "model_module": "@jupyter-widgets/controls",
      "model_module_version": "2.0.0",
      "model_name": "HBoxModel",
      "state": {
       "children": [
        "IPY_MODEL_ff2c79a413a440d39c465712b3887267",
        "IPY_MODEL_7eeaa5a8727e474b975eff272b9a1fb8"
       ],
       "layout": "IPY_MODEL_9b544a31cd0f43b0a3b582007d8ca893"
      }
     },
     "d80fb7125764417a9479d39ea005aea0": {
      "model_module": "jupyter-cytoscape",
      "model_module_version": "^1.3.3",
      "model_name": "EdgeModel",
      "state": {
       "_model_module_version": "^1.3.3",
       "_view_module_version": "^1.3.3",
       "data": {
        "id": "f20746a4-52f0-428a-a62f-643498a9a98d",
        "source": "f5fb5e1e-cc60-4980-8563-89327680f853",
        "target": "02ef0194-3aad-47d1-8d49-5b6e42a21e77"
       },
       "selectable": false
      }
     },
     "d81e6764b2fa4921be3bf2d573cdcf94": {
      "model_module": "jupyter-cytoscape",
      "model_module_version": "^1.3.3",
      "model_name": "EdgeModel",
      "state": {
       "_model_module_version": "^1.3.3",
       "_view_module_version": "^1.3.3",
       "data": {
        "id": "0155896b-edb6-4bff-8754-281a0d14a3d1",
        "source": "17367f53-a2c3-425f-ae2c-bec6b1c5659d",
        "target": "3263e7ad-f78b-4536-af31-1096b2ce356f"
       },
       "selectable": false
      }
     },
     "d87cddcd1a604f9faa2e9359062264a1": {
      "model_module": "jupyter-cytoscape",
      "model_module_version": "^1.3.3",
      "model_name": "NodeModel",
      "state": {
       "_model_module_version": "^1.3.3",
       "_view_module_version": "^1.3.3",
       "data": {
        "bgcolor": "red",
        "id": "4c282a02-0e21-48a5-b44a-6ef99ff59a94",
        "name": "Fuel consumption of Truck transport"
       },
       "grabbable": true,
       "grabbed": false,
       "position": {
        "x": 1769.5906432748538,
        "y": 1111.111111111111
       },
       "selectable": false
      }
     },
     "d98507cc4af34f848eaa2bc65e422276": {
      "model_module": "jupyter-cytoscape",
      "model_module_version": "^1.3.3",
      "model_name": "EdgeModel",
      "state": {
       "_model_module_version": "^1.3.3",
       "_view_module_version": "^1.3.3",
       "data": {
        "id": "66278b59-0c8c-423f-8dcc-ca3faa1a4b35",
        "source": "892eec69-d943-4c11-8ce5-36aea298804f",
        "target": "98af4f07-f54a-44ba-afe8-3414c6a6eb66"
       },
       "selectable": false
      }
     },
     "da1a67380d1e4c51aa54a3c3a7a94c1e": {
      "model_module": "jupyter-cytoscape",
      "model_module_version": "^1.3.3",
      "model_name": "GraphModel",
      "state": {
       "_adj": {
        "01ad246d-d236-45d1-ab05-6c7382b9a238": {
         "320633da-7465-4304-8079-f68b8c5a9755": 1,
         "ad45bd50-79ac-4ba1-8736-d87838cbd0a9": 1,
         "f23e1261-902c-40d4-b10f-099f848e0b14": 1
        },
        "0210e4a1-4728-4d9b-a58b-4f3d2d07de7c": {},
        "0241bf8c-8dcc-47e0-98ae-86ffa4e78eaf": {},
        "02ef0194-3aad-47d1-8d49-5b6e42a21e77": {
         "098e48f4-5ba3-4e08-b2ef-b38356f4f7c8": 1,
         "6e79b05b-6a13-4ba4-8bf4-38f597ee77ec": 1,
         "96b97ae1-a5ca-4963-a5dc-9e5eb924f077": 1,
         "cfba56c0-90fa-4dcd-b69a-950d39ce5984": 1,
         "d45a0623-2534-47ef-b1b7-b4541a310742": 1,
         "d820c402-0064-4edb-af1b-dd0ad3e46812": 1,
         "f297b2aa-89fc-4e7c-abbf-645e9bf3d63c": 1,
         "f5fb5e1e-cc60-4980-8563-89327680f853": 1
        },
        "035fc364-d89e-4c5f-bb43-cbb8bc7398cb": {},
        "04d88276-bd11-44cc-9e18-c0a643470a39": {
         "81c62011-d4f6-45ad-be15-7ec1c0d71daf": 1,
         "96b97ae1-a5ca-4963-a5dc-9e5eb924f077": 1,
         "a372f27e-1c2d-40b2-a865-a2b4307e886e": 1
        },
        "051f74f0-4b35-4460-8de3-662530e4f60d": {
         "6bdae3f4-ea9f-4b46-98ef-f6043672b880": 1,
         "a934f04e-46ae-463f-9e7a-ed56e3413334": 1
        },
        "075a33e1-a1c4-45a6-8f7f-908675f911e6": {
         "444bd5df-6b3c-4ae9-9f91-81d474b1d6f9": 1,
         "9c4292da-2e00-4fae-bd72-77ed44064a96": 1
        },
        "089f2160-4ff8-4168-ac1e-583ac8cdcc97": {
         "38436942-4600-46a5-838f-391cd0c695e1": 1,
         "4a6418f4-1de3-47c7-8a16-9940c532634e": 1
        },
        "098e48f4-5ba3-4e08-b2ef-b38356f4f7c8": {
         "02ef0194-3aad-47d1-8d49-5b6e42a21e77": 1,
         "b4b18064-2dde-42a9-8b64-76dff748f89d": 1
        },
        "09ae7342-5230-4c4a-96c6-0387fdefa295": {},
        "0db9cd2c-f6b2-4a3f-84eb-ee98af1f134b": {
         "2a518537-a3fd-4836-93ea-ba9b2f654975": 1,
         "98af4f07-f54a-44ba-afe8-3414c6a6eb66": 1
        },
        "10ae186d-dabb-4f5c-9e48-20c1a4c202d0": {
         "38436942-4600-46a5-838f-391cd0c695e1": 1,
         "c2131f63-1b4a-4dff-acc6-fd7651a3cb1e": 1
        },
        "10b9484e-9271-484a-acdc-fca31859f57f": {
         "7b6f503a-368f-41f0-bb08-5d8cfcfc9b9b": 1,
         "81343dba-d23c-4c4e-a499-45765ddd7f35": 1,
         "ec427e19-1769-4e51-a975-0b1db70f369e": 1
        },
        "113a7474-301a-4d5e-a26f-79b065d0617f": {
         "9d92bb4a-872f-4459-8a6a-212a425e8393": 1,
         "efb9a6af-4ec8-4f20-b4d4-2c6730110b38": 1
        },
        "116ff154-684d-4dfa-8dfd-9f7e4bc8ec6b": {},
        "123aaa7d-5706-425d-bf28-fea05c29e62e": {
         "7462a4b0-06dc-45c5-91fb-798ae2ec2c4e": 1,
         "98af4f07-f54a-44ba-afe8-3414c6a6eb66": 1
        },
        "17367f53-a2c3-425f-ae2c-bec6b1c5659d": {},
        "182803ad-37ea-4225-b7b9-0e2961f75ace": {},
        "18ae7db0-8d10-4b64-ad08-a11a2914c35e": {
         "36b6898c-1aa5-4562-8d1e-f91b52dec416": 1,
         "b6213c65-1abb-492b-b3c8-8c0f7570d485": 1
        },
        "1922f28f-803f-439d-95e4-985e9a06b2ba": {},
        "1a593fea-c528-4cd1-af69-6e7cff4edeff": {},
        "1cea6308-5b83-4a3a-a922-9f306c56e76c": {},
        "1d6c31ee-736f-4e95-8207-fb68d598a534": {
         "53ad1588-b93c-455a-a23f-f0c57722365b": 1,
         "65c98718-3d13-4152-bb03-2d000c1e8f1d": 1,
         "f297b2aa-89fc-4e7c-abbf-645e9bf3d63c": 1
        },
        "1e24689c-9f49-4a63-9ab5-166d0bb4c9f0": {
         "65c98718-3d13-4152-bb03-2d000c1e8f1d": 1,
         "f5fb5e1e-cc60-4980-8563-89327680f853": 1
        },
        "1f3eb385-61c5-4024-8b4b-bef4dc68c4d3": {
         "22bae8a9-b58b-4ace-a660-4e94ede1cbcb": 1,
         "2a6c46bf-cce5-4a5a-bd88-e9127cabd906": 1,
         "4c282a02-0e21-48a5-b44a-6ef99ff59a94": 1
        },
        "2026f91d-813a-4991-8029-3d1ec189cc8f": {},
        "228a60de-60f1-4a3d-90cb-6b2accd665b4": {
         "45662d6d-9fe2-4494-bdc8-2f3db91ebc27": 1,
         "d4cfebc2-3e4e-485b-bdec-442240107965": 1
        },
        "2297da1a-a1d1-4131-926b-d74ea5fe3f90": {
         "315b39f7-7efd-4a2f-8b9e-6990237d34d4": 1,
         "400ea7af-14d2-4c2a-82f1-2ca7a44fe212": 1,
         "715fd796-ad35-4b89-b62a-a90ff2b9f76f": 1
        },
        "22bae8a9-b58b-4ace-a660-4e94ede1cbcb": {
         "1f3eb385-61c5-4024-8b4b-bef4dc68c4d3": 1,
         "e1683856-98fe-4b05-aec6-2246dd42d331": 1
        },
        "2448880a-68fe-4841-9949-616c7c96cf6d": {},
        "25d8a197-f229-4efb-afe7-4de0dd1b81c9": {},
        "2a518537-a3fd-4836-93ea-ba9b2f654975": {
         "0db9cd2c-f6b2-4a3f-84eb-ee98af1f134b": 1,
         "742608f2-6626-4685-b7db-b569a08354c8": 1,
         "7913eeac-b459-4dc5-85ab-6dbeac8c673a": 1
        },
        "2a6c46bf-cce5-4a5a-bd88-e9127cabd906": {
         "1f3eb385-61c5-4024-8b4b-bef4dc68c4d3": 1,
         "98af4f07-f54a-44ba-afe8-3414c6a6eb66": 1
        },
        "2aec359d-9c45-47bd-a989-3175bbab03b0": {
         "38436942-4600-46a5-838f-391cd0c695e1": 1,
         "6bdae3f4-ea9f-4b46-98ef-f6043672b880": 1
        },
        "2b78f1aa-a1cd-4d5a-ad16-43851fd0aa6a": {
         "444bd5df-6b3c-4ae9-9f91-81d474b1d6f9": 1,
         "53e8b769-260e-4dde-9cad-9c6b9a489ef5": 1
        },
        "2d39ad6c-c6d5-495d-bfc2-97470188b2fb": {
         "8d3e57de-20ff-4957-aef9-5e8a236227f6": 1,
         "98af4f07-f54a-44ba-afe8-3414c6a6eb66": 1
        },
        "2e1341a0-0e71-4dbd-8762-ce70ff5ff5a4": {
         "444bd5df-6b3c-4ae9-9f91-81d474b1d6f9": 1,
         "d2b8a451-bdc8-40b1-b2b4-89a44db0737f": 1
        },
        "315b39f7-7efd-4a2f-8b9e-6990237d34d4": {
         "2297da1a-a1d1-4131-926b-d74ea5fe3f90": 1,
         "98af4f07-f54a-44ba-afe8-3414c6a6eb66": 1
        },
        "31ac49b0-9323-4888-aa77-55040bddd91b": {
         "31cf6f20-1095-4f21-b99c-d611c6f1a87d": 1,
         "38436942-4600-46a5-838f-391cd0c695e1": 1
        },
        "31cf6f20-1095-4f21-b99c-d611c6f1a87d": {
         "31ac49b0-9323-4888-aa77-55040bddd91b": 1,
         "83d850be-d73d-4aa9-91ec-b4aa679b68ed": 1,
         "ed5f6791-d732-415f-9c37-0f59fb43cc18": 1
        },
        "320633da-7465-4304-8079-f68b8c5a9755": {
         "01ad246d-d236-45d1-ab05-6c7382b9a238": 1,
         "38436942-4600-46a5-838f-391cd0c695e1": 1
        },
        "3263e7ad-f78b-4536-af31-1096b2ce356f": {},
        "3314a30e-3f98-448f-b7d4-2a3da0301732": {},
        "356732fe-917e-448a-a8da-41c690313dfd": {},
        "363b84db-4898-4340-a393-f368bc7fc2e8": {
         "5ac0c1c0-0661-4471-a3db-d39ba94ddbdd": 1,
         "efb9a6af-4ec8-4f20-b4d4-2c6730110b38": 1
        },
        "36b6898c-1aa5-4562-8d1e-f91b52dec416": {
         "18ae7db0-8d10-4b64-ad08-a11a2914c35e": 1,
         "444bd5df-6b3c-4ae9-9f91-81d474b1d6f9": 1
        },
        "38436942-4600-46a5-838f-391cd0c695e1": {
         "089f2160-4ff8-4168-ac1e-583ac8cdcc97": 1,
         "10ae186d-dabb-4f5c-9e48-20c1a4c202d0": 1,
         "2aec359d-9c45-47bd-a989-3175bbab03b0": 1,
         "31ac49b0-9323-4888-aa77-55040bddd91b": 1,
         "320633da-7465-4304-8079-f68b8c5a9755": 1,
         "38958361-9111-4007-927b-4365e9c29701": 1,
         "400ea7af-14d2-4c2a-82f1-2ca7a44fe212": 1,
         "4c282a02-0e21-48a5-b44a-6ef99ff59a94": 1,
         "63539165-d850-4577-8c0a-ae6edfb8b910": 1,
         "6e9f3ff4-75c2-4120-81c5-da73f8adabab": 1,
         "742608f2-6626-4685-b7db-b569a08354c8": 1,
         "790c1de2-5e26-4611-8376-fa19a66c9c4d": 1,
         "96381f01-a421-4397-b496-eecf7e9257c6": 1,
         "d3f4e7f7-fe8f-4e0b-8864-60e6a9726fb8": 1,
         "e7248aba-18d9-4bd8-8526-e238650ec613": 1
        },
        "38958361-9111-4007-927b-4365e9c29701": {
         "38436942-4600-46a5-838f-391cd0c695e1": 1,
         "61eaf3d9-6357-49f3-939e-e4535eb4c6ad": 1
        },
        "3a2ff2eb-a5b5-4ff7-94f1-72e18f19145c": {
         "8d3e57de-20ff-4957-aef9-5e8a236227f6": 1,
         "a934f04e-46ae-463f-9e7a-ed56e3413334": 1
        },
        "3fad0fb0-38ec-4c91-a9ae-150ac16bc12f": {
         "a372f27e-1c2d-40b2-a865-a2b4307e886e": 1,
         "cfba56c0-90fa-4dcd-b69a-950d39ce5984": 1
        },
        "400ea7af-14d2-4c2a-82f1-2ca7a44fe212": {
         "2297da1a-a1d1-4131-926b-d74ea5fe3f90": 1,
         "38436942-4600-46a5-838f-391cd0c695e1": 1
        },
        "444bd5df-6b3c-4ae9-9f91-81d474b1d6f9": {
         "075a33e1-a1c4-45a6-8f7f-908675f911e6": 1,
         "2b78f1aa-a1cd-4d5a-ad16-43851fd0aa6a": 1,
         "2e1341a0-0e71-4dbd-8762-ce70ff5ff5a4": 1,
         "36b6898c-1aa5-4562-8d1e-f91b52dec416": 1,
         "5696168d-4a81-4a26-be7e-ac44a10f827f": 1
        },
        "45662d6d-9fe2-4494-bdc8-2f3db91ebc27": {
         "228a60de-60f1-4a3d-90cb-6b2accd665b4": 1,
         "c17e0ea8-8efd-49da-80b9-2e9b18644e47": 1,
         "d694d7ee-4851-4867-b8a5-b4319255c1b4": 1
        },
        "470a4803-6577-49ca-b908-17cac3a0befc": {
         "e1683856-98fe-4b05-aec6-2246dd42d331": 1,
         "fbcb5709-5f62-467e-8d18-e64b27f81c06": 1
        },
        "4a6418f4-1de3-47c7-8a16-9940c532634e": {
         "089f2160-4ff8-4168-ac1e-583ac8cdcc97": 1,
         "6e4d3242-9680-4bec-80cc-486261e987dc": 1,
         "af68d978-9677-4a26-812a-2327bcde7205": 1
        },
        "4c282a02-0e21-48a5-b44a-6ef99ff59a94": {
         "1f3eb385-61c5-4024-8b4b-bef4dc68c4d3": 1,
         "38436942-4600-46a5-838f-391cd0c695e1": 1
        },
        "50a64e95-77b0-4f26-a205-bbacdd3e11ce": {
         "61eaf3d9-6357-49f3-939e-e4535eb4c6ad": 1,
         "d66086f4-787a-4434-9ae0-5a0a3c37d65a": 1
        },
        "514cc85c-2b36-4e81-8ae6-0a2a68804c86": {},
        "520154bd-bb42-464c-8da1-090f59e34de2": {
         "a934f04e-46ae-463f-9e7a-ed56e3413334": 1,
         "c09257e2-747e-417c-86eb-c3fd691d0326": 1
        },
        "53ad1588-b93c-455a-a23f-f0c57722365b": {
         "1d6c31ee-736f-4e95-8207-fb68d598a534": 1,
         "a934f04e-46ae-463f-9e7a-ed56e3413334": 1
        },
        "53e8b769-260e-4dde-9cad-9c6b9a489ef5": {
         "2b78f1aa-a1cd-4d5a-ad16-43851fd0aa6a": 1
        },
        "543359b0-d5f3-4b2b-9228-13e3560c1404": {},
        "554e8f91-05ee-43f6-81a3-ed168ef91ffc": {},
        "5696168d-4a81-4a26-be7e-ac44a10f827f": {
         "444bd5df-6b3c-4ae9-9f91-81d474b1d6f9": 1,
         "d4cfebc2-3e4e-485b-bdec-442240107965": 1
        },
        "578dccf9-5238-4121-98bd-de24214cc787": {},
        "58f98d63-effb-4b23-ac24-5f41a96dd06a": {},
        "5ac0c1c0-0661-4471-a3db-d39ba94ddbdd": {
         "363b84db-4898-4340-a393-f368bc7fc2e8": 1,
         "d09a6268-5bcd-41a2-94cc-7f4f63c9491d": 1,
         "d820c402-0064-4edb-af1b-dd0ad3e46812": 1
        },
        "5d2759e2-27ae-4aad-93d3-942ceaf985ea": {},
        "5df19816-1a8e-4837-a252-2910a5116650": {},
        "5df8b0b4-d9fc-45f9-9087-2227c4d7bb07": {},
        "5f4986fd-88ed-4676-8bae-e4b5b1bd88f4": {
         "87d4c5b6-d481-4207-8581-dcb461bc2d93": 1,
         "d45a0623-2534-47ef-b1b7-b4541a310742": 1
        },
        "61eaf3d9-6357-49f3-939e-e4535eb4c6ad": {
         "38958361-9111-4007-927b-4365e9c29701": 1,
         "50a64e95-77b0-4f26-a205-bbacdd3e11ce": 1,
         "7b6f503a-368f-41f0-bb08-5d8cfcfc9b9b": 1
        },
        "63539165-d850-4577-8c0a-ae6edfb8b910": {
         "38436942-4600-46a5-838f-391cd0c695e1": 1,
         "c09257e2-747e-417c-86eb-c3fd691d0326": 1
        },
        "63e7fb0c-59cd-42c2-9718-832f04532569": {},
        "64f7b725-6180-41db-92b2-aab0d61a82bf": {},
        "65c98718-3d13-4152-bb03-2d000c1e8f1d": {
         "1d6c31ee-736f-4e95-8207-fb68d598a534": 1,
         "1e24689c-9f49-4a63-9ab5-166d0bb4c9f0": 1
        },
        "68e3f5d9-3750-41d2-8e58-ec5b1aeca988": {},
        "6bdae3f4-ea9f-4b46-98ef-f6043672b880": {
         "051f74f0-4b35-4460-8de3-662530e4f60d": 1,
         "2aec359d-9c45-47bd-a989-3175bbab03b0": 1,
         "81343dba-d23c-4c4e-a499-45765ddd7f35": 1
        },
        "6e4d3242-9680-4bec-80cc-486261e987dc": {
         "4a6418f4-1de3-47c7-8a16-9940c532634e": 1,
         "d4cfebc2-3e4e-485b-bdec-442240107965": 1
        },
        "6e79b05b-6a13-4ba4-8bf4-38f597ee77ec": {
         "02ef0194-3aad-47d1-8d49-5b6e42a21e77": 1,
         "c97bba47-8820-4b82-8a3e-64d87cf2c29d": 1
        },
        "6e7a91af-23bd-4569-b2aa-0b15d245ca0e": {},
        "6e9f3ff4-75c2-4120-81c5-da73f8adabab": {
         "38436942-4600-46a5-838f-391cd0c695e1": 1,
         "dc034eec-2bc6-4f2a-9651-062a6056dbb8": 1
        },
        "715fd796-ad35-4b89-b62a-a90ff2b9f76f": {
         "2297da1a-a1d1-4131-926b-d74ea5fe3f90": 1,
         "d4cfebc2-3e4e-485b-bdec-442240107965": 1
        },
        "73168d91-c7d1-46b0-b828-1a5d9d6afb70": {},
        "73d93dd5-2d74-4923-a855-21fb74283d6d": {},
        "742608f2-6626-4685-b7db-b569a08354c8": {
         "2a518537-a3fd-4836-93ea-ba9b2f654975": 1,
         "38436942-4600-46a5-838f-391cd0c695e1": 1
        },
        "7462a4b0-06dc-45c5-91fb-798ae2ec2c4e": {
         "123aaa7d-5706-425d-bf28-fea05c29e62e": 1,
         "aefdb020-6f94-47cc-8272-17892b9bddc0": 1,
         "e7248aba-18d9-4bd8-8526-e238650ec613": 1
        },
        "790c1de2-5e26-4611-8376-fa19a66c9c4d": {
         "38436942-4600-46a5-838f-391cd0c695e1": 1,
         "8d3e57de-20ff-4957-aef9-5e8a236227f6": 1
        },
        "7913eeac-b459-4dc5-85ab-6dbeac8c673a": {
         "2a518537-a3fd-4836-93ea-ba9b2f654975": 1,
         "e1683856-98fe-4b05-aec6-2246dd42d331": 1
        },
        "79fde9b6-7e9c-4d8c-be69-545ed5f899a0": {},
        "7a9de42b-a768-4796-922f-564014e5a319": {},
        "7b6f503a-368f-41f0-bb08-5d8cfcfc9b9b": {
         "10b9484e-9271-484a-acdc-fca31859f57f": 1,
         "61eaf3d9-6357-49f3-939e-e4535eb4c6ad": 1
        },
        "7c1f1707-d215-4721-9072-daae255fe013": {},
        "7fdaed29-5af2-44b0-b661-10fe7fa5fabd": {},
        "81343dba-d23c-4c4e-a499-45765ddd7f35": {
         "10b9484e-9271-484a-acdc-fca31859f57f": 1,
         "6bdae3f4-ea9f-4b46-98ef-f6043672b880": 1
        },
        "817eac1f-4299-40e4-8d70-fda54bab05a2": {
         "a934f04e-46ae-463f-9e7a-ed56e3413334": 1,
         "fbcb5709-5f62-467e-8d18-e64b27f81c06": 1
        },
        "81c62011-d4f6-45ad-be15-7ec1c0d71daf": {
         "04d88276-bd11-44cc-9e18-c0a643470a39": 1,
         "d66086f4-787a-4434-9ae0-5a0a3c37d65a": 1
        },
        "83d850be-d73d-4aa9-91ec-b4aa679b68ed": {
         "31cf6f20-1095-4f21-b99c-d611c6f1a87d": 1,
         "98af4f07-f54a-44ba-afe8-3414c6a6eb66": 1
        },
        "8500560f-c494-4af1-a6d0-ffa3604ec7ec": {},
        "861ca61d-de22-44e3-aeac-b398e6593cb3": {},
        "866667c9-f18f-4741-8e9b-185a43e7b08d": {},
        "87d4c5b6-d481-4207-8581-dcb461bc2d93": {
         "5f4986fd-88ed-4676-8bae-e4b5b1bd88f4": 1,
         "c97bba47-8820-4b82-8a3e-64d87cf2c29d": 1
        },
        "892eec69-d943-4c11-8ce5-36aea298804f": {
         "98af4f07-f54a-44ba-afe8-3414c6a6eb66": 1,
         "9d92bb4a-872f-4459-8a6a-212a425e8393": 1
        },
        "8c41793d-e24e-487a-981f-4e243243fcd1": {},
        "8d33594c-6635-41fe-84c6-d89a9d2309f6": {},
        "8d3e57de-20ff-4957-aef9-5e8a236227f6": {
         "2d39ad6c-c6d5-495d-bfc2-97470188b2fb": 1,
         "3a2ff2eb-a5b5-4ff7-94f1-72e18f19145c": 1,
         "790c1de2-5e26-4611-8376-fa19a66c9c4d": 1
        },
        "96381f01-a421-4397-b496-eecf7e9257c6": {
         "38436942-4600-46a5-838f-391cd0c695e1": 1,
         "9d92bb4a-872f-4459-8a6a-212a425e8393": 1
        },
        "96b97ae1-a5ca-4963-a5dc-9e5eb924f077": {
         "02ef0194-3aad-47d1-8d49-5b6e42a21e77": 1,
         "04d88276-bd11-44cc-9e18-c0a643470a39": 1
        },
        "98af4f07-f54a-44ba-afe8-3414c6a6eb66": {
         "0db9cd2c-f6b2-4a3f-84eb-ee98af1f134b": 1,
         "123aaa7d-5706-425d-bf28-fea05c29e62e": 1,
         "2a6c46bf-cce5-4a5a-bd88-e9127cabd906": 1,
         "2d39ad6c-c6d5-495d-bfc2-97470188b2fb": 1,
         "315b39f7-7efd-4a2f-8b9e-6990237d34d4": 1,
         "83d850be-d73d-4aa9-91ec-b4aa679b68ed": 1,
         "892eec69-d943-4c11-8ce5-36aea298804f": 1,
         "a3dc0af4-1bab-468e-a595-d6a4c19b500d": 1,
         "af68d978-9677-4a26-812a-2327bcde7205": 1,
         "e09580d6-b7bd-4870-8686-b869b5e4b9e2": 1,
         "e759148e-2510-4666-b9c4-2f566236eb64": 1,
         "f23e1261-902c-40d4-b10f-099f848e0b14": 1
        },
        "9c4292da-2e00-4fae-bd72-77ed44064a96": {
         "075a33e1-a1c4-45a6-8f7f-908675f911e6": 1
        },
        "9d92bb4a-872f-4459-8a6a-212a425e8393": {
         "113a7474-301a-4d5e-a26f-79b065d0617f": 1,
         "892eec69-d943-4c11-8ce5-36aea298804f": 1,
         "96381f01-a421-4397-b496-eecf7e9257c6": 1
        },
        "9dde72f9-8d53-43e6-bbf8-f5d56f58e5dd": {
         "c2131f63-1b4a-4dff-acc6-fd7651a3cb1e": 1,
         "d66086f4-787a-4434-9ae0-5a0a3c37d65a": 1
        },
        "9e8ab4a2-4670-4598-a814-858202a76af1": {},
        "a2e7d106-1f93-440c-a63c-9b5d11e832b8": {},
        "a372f27e-1c2d-40b2-a865-a2b4307e886e": {
         "04d88276-bd11-44cc-9e18-c0a643470a39": 1,
         "3fad0fb0-38ec-4c91-a9ae-150ac16bc12f": 1
        },
        "a3dc0af4-1bab-468e-a595-d6a4c19b500d": {
         "98af4f07-f54a-44ba-afe8-3414c6a6eb66": 1,
         "dc034eec-2bc6-4f2a-9651-062a6056dbb8": 1
        },
        "a88e6b1e-5a92-4e16-ab75-9bcfbbf7f8c6": {},
        "a934f04e-46ae-463f-9e7a-ed56e3413334": {
         "051f74f0-4b35-4460-8de3-662530e4f60d": 1,
         "3a2ff2eb-a5b5-4ff7-94f1-72e18f19145c": 1,
         "520154bd-bb42-464c-8da1-090f59e34de2": 1,
         "53ad1588-b93c-455a-a23f-f0c57722365b": 1,
         "817eac1f-4299-40e4-8d70-fda54bab05a2": 1
        },
        "ad45bd50-79ac-4ba1-8736-d87838cbd0a9": {
         "01ad246d-d236-45d1-ab05-6c7382b9a238": 1,
         "d66086f4-787a-4434-9ae0-5a0a3c37d65a": 1
        },
        "add243ef-4fe1-4574-827a-0de4280013e2": {},
        "aefdb020-6f94-47cc-8272-17892b9bddc0": {
         "7462a4b0-06dc-45c5-91fb-798ae2ec2c4e": 1,
         "e1683856-98fe-4b05-aec6-2246dd42d331": 1
        },
        "af68d978-9677-4a26-812a-2327bcde7205": {
         "4a6418f4-1de3-47c7-8a16-9940c532634e": 1,
         "98af4f07-f54a-44ba-afe8-3414c6a6eb66": 1
        },
        "b4b18064-2dde-42a9-8b64-76dff748f89d": {
         "098e48f4-5ba3-4e08-b2ef-b38356f4f7c8": 1,
         "d09a6268-5bcd-41a2-94cc-7f4f63c9491d": 1
        },
        "b6213c65-1abb-492b-b3c8-8c0f7570d485": {
         "18ae7db0-8d10-4b64-ad08-a11a2914c35e": 1,
         "fbcb5709-5f62-467e-8d18-e64b27f81c06": 1
        },
        "b92e82a2-46ae-406a-bdd4-58560fe94049": {},
        "b9f31657-f4ef-48df-ae60-46487b2ff751": {},
        "c09257e2-747e-417c-86eb-c3fd691d0326": {
         "520154bd-bb42-464c-8da1-090f59e34de2": 1,
         "63539165-d850-4577-8c0a-ae6edfb8b910": 1,
         "e09580d6-b7bd-4870-8686-b869b5e4b9e2": 1
        },
        "c17e0ea8-8efd-49da-80b9-2e9b18644e47": {
         "45662d6d-9fe2-4494-bdc8-2f3db91ebc27": 1
        },
        "c2131f63-1b4a-4dff-acc6-fd7651a3cb1e": {
         "10ae186d-dabb-4f5c-9e48-20c1a4c202d0": 1,
         "9dde72f9-8d53-43e6-bbf8-f5d56f58e5dd": 1,
         "e759148e-2510-4666-b9c4-2f566236eb64": 1
        },
        "c9273b8a-1b57-4f96-85c9-bb0e49426469": {},
        "c97bba47-8820-4b82-8a3e-64d87cf2c29d": {
         "6e79b05b-6a13-4ba4-8bf4-38f597ee77ec": 1,
         "87d4c5b6-d481-4207-8581-dcb461bc2d93": 1,
         "d729f486-2794-4443-979b-fc99ac9271ab": 1
        },
        "cecda9e1-2e4c-4554-8b35-abe64dc5cabc": {},
        "cfba56c0-90fa-4dcd-b69a-950d39ce5984": {
         "02ef0194-3aad-47d1-8d49-5b6e42a21e77": 1,
         "3fad0fb0-38ec-4c91-a9ae-150ac16bc12f": 1
        },
        "d09a6268-5bcd-41a2-94cc-7f4f63c9491d": {
         "5ac0c1c0-0661-4471-a3db-d39ba94ddbdd": 1,
         "b4b18064-2dde-42a9-8b64-76dff748f89d": 1
        },
        "d205b1f6-aa03-49aa-8783-0f038d7abb84": {},
        "d21a622e-a7c5-485d-a544-bec6aadfe06c": {
         "d4cfebc2-3e4e-485b-bdec-442240107965": 1,
         "ecbe6287-59e5-4f77-b3b1-ae91bb807f70": 1
        },
        "d2b8a451-bdc8-40b1-b2b4-89a44db0737f": {
         "2e1341a0-0e71-4dbd-8762-ce70ff5ff5a4": 1
        },
        "d2dda7c7-1b88-48ad-aaf8-054e7a2b8362": {
         "d66086f4-787a-4434-9ae0-5a0a3c37d65a": 1,
         "fbcb5709-5f62-467e-8d18-e64b27f81c06": 1
        },
        "d3f4e7f7-fe8f-4e0b-8864-60e6a9726fb8": {
         "38436942-4600-46a5-838f-391cd0c695e1": 1,
         "ecbe6287-59e5-4f77-b3b1-ae91bb807f70": 1
        },
        "d45a0623-2534-47ef-b1b7-b4541a310742": {
         "02ef0194-3aad-47d1-8d49-5b6e42a21e77": 1,
         "5f4986fd-88ed-4676-8bae-e4b5b1bd88f4": 1
        },
        "d4cfebc2-3e4e-485b-bdec-442240107965": {
         "228a60de-60f1-4a3d-90cb-6b2accd665b4": 1,
         "5696168d-4a81-4a26-be7e-ac44a10f827f": 1,
         "6e4d3242-9680-4bec-80cc-486261e987dc": 1,
         "715fd796-ad35-4b89-b62a-a90ff2b9f76f": 1,
         "d21a622e-a7c5-485d-a544-bec6aadfe06c": 1
        },
        "d66086f4-787a-4434-9ae0-5a0a3c37d65a": {
         "50a64e95-77b0-4f26-a205-bbacdd3e11ce": 1,
         "81c62011-d4f6-45ad-be15-7ec1c0d71daf": 1,
         "9dde72f9-8d53-43e6-bbf8-f5d56f58e5dd": 1,
         "ad45bd50-79ac-4ba1-8736-d87838cbd0a9": 1,
         "d2dda7c7-1b88-48ad-aaf8-054e7a2b8362": 1
        },
        "d694d7ee-4851-4867-b8a5-b4319255c1b4": {
         "45662d6d-9fe2-4494-bdc8-2f3db91ebc27": 1
        },
        "d729f486-2794-4443-979b-fc99ac9271ab": {
         "c97bba47-8820-4b82-8a3e-64d87cf2c29d": 1,
         "e1683856-98fe-4b05-aec6-2246dd42d331": 1
        },
        "d820c402-0064-4edb-af1b-dd0ad3e46812": {
         "02ef0194-3aad-47d1-8d49-5b6e42a21e77": 1,
         "5ac0c1c0-0661-4471-a3db-d39ba94ddbdd": 1
        },
        "da0af127-0acc-4c18-a58c-ec4792d3f0fc": {
         "efb9a6af-4ec8-4f20-b4d4-2c6730110b38": 1,
         "fbcb5709-5f62-467e-8d18-e64b27f81c06": 1
        },
        "dc034eec-2bc6-4f2a-9651-062a6056dbb8": {
         "6e9f3ff4-75c2-4120-81c5-da73f8adabab": 1,
         "a3dc0af4-1bab-468e-a595-d6a4c19b500d": 1,
         "e90f5751-096a-4273-a51d-cc194ff85c45": 1
        },
        "ddec5765-2557-4d5b-8ef1-75cde94a7ebb": {},
        "e09580d6-b7bd-4870-8686-b869b5e4b9e2": {
         "98af4f07-f54a-44ba-afe8-3414c6a6eb66": 1,
         "c09257e2-747e-417c-86eb-c3fd691d0326": 1
        },
        "e1683856-98fe-4b05-aec6-2246dd42d331": {
         "22bae8a9-b58b-4ace-a660-4e94ede1cbcb": 1,
         "470a4803-6577-49ca-b908-17cac3a0befc": 1,
         "7913eeac-b459-4dc5-85ab-6dbeac8c673a": 1,
         "aefdb020-6f94-47cc-8272-17892b9bddc0": 1,
         "d729f486-2794-4443-979b-fc99ac9271ab": 1
        },
        "e1f12dc9-1aae-4da9-a788-f35757ae2098": {},
        "e66dc6c4-12e9-4d62-913e-580c58a120cb": {},
        "e7248aba-18d9-4bd8-8526-e238650ec613": {
         "38436942-4600-46a5-838f-391cd0c695e1": 1,
         "7462a4b0-06dc-45c5-91fb-798ae2ec2c4e": 1
        },
        "e759148e-2510-4666-b9c4-2f566236eb64": {
         "98af4f07-f54a-44ba-afe8-3414c6a6eb66": 1,
         "c2131f63-1b4a-4dff-acc6-fd7651a3cb1e": 1
        },
        "e90f5751-096a-4273-a51d-cc194ff85c45": {
         "dc034eec-2bc6-4f2a-9651-062a6056dbb8": 1,
         "efb9a6af-4ec8-4f20-b4d4-2c6730110b38": 1
        },
        "e9a20b42-297f-424f-b313-63ead0b4f796": {},
        "ec427e19-1769-4e51-a975-0b1db70f369e": {
         "10b9484e-9271-484a-acdc-fca31859f57f": 1,
         "ecbe6287-59e5-4f77-b3b1-ae91bb807f70": 1
        },
        "ecbe6287-59e5-4f77-b3b1-ae91bb807f70": {
         "d21a622e-a7c5-485d-a544-bec6aadfe06c": 1,
         "d3f4e7f7-fe8f-4e0b-8864-60e6a9726fb8": 1,
         "ec427e19-1769-4e51-a975-0b1db70f369e": 1
        },
        "ed5f6791-d732-415f-9c37-0f59fb43cc18": {
         "31cf6f20-1095-4f21-b99c-d611c6f1a87d": 1,
         "efb9a6af-4ec8-4f20-b4d4-2c6730110b38": 1
        },
        "edb6ba2e-6df0-4e33-82be-810941dbc220": {},
        "efb9a6af-4ec8-4f20-b4d4-2c6730110b38": {
         "113a7474-301a-4d5e-a26f-79b065d0617f": 1,
         "363b84db-4898-4340-a393-f368bc7fc2e8": 1,
         "da0af127-0acc-4c18-a58c-ec4792d3f0fc": 1,
         "e90f5751-096a-4273-a51d-cc194ff85c45": 1,
         "ed5f6791-d732-415f-9c37-0f59fb43cc18": 1
        },
        "f23e1261-902c-40d4-b10f-099f848e0b14": {
         "01ad246d-d236-45d1-ab05-6c7382b9a238": 1,
         "98af4f07-f54a-44ba-afe8-3414c6a6eb66": 1
        },
        "f297b2aa-89fc-4e7c-abbf-645e9bf3d63c": {
         "02ef0194-3aad-47d1-8d49-5b6e42a21e77": 1,
         "1d6c31ee-736f-4e95-8207-fb68d598a534": 1
        },
        "f5fb5e1e-cc60-4980-8563-89327680f853": {
         "02ef0194-3aad-47d1-8d49-5b6e42a21e77": 1,
         "1e24689c-9f49-4a63-9ab5-166d0bb4c9f0": 1
        },
        "f9fdd91f-33b6-4e5a-b1b1-ca4f12298558": {},
        "fa708600-8a2c-449f-a4ca-f67fd1209805": {},
        "fbbe57cd-77cd-4d3b-9dd9-a200d4ad3a1c": {},
        "fbcb5709-5f62-467e-8d18-e64b27f81c06": {
         "470a4803-6577-49ca-b908-17cac3a0befc": 1,
         "817eac1f-4299-40e4-8d70-fda54bab05a2": 1,
         "b6213c65-1abb-492b-b3c8-8c0f7570d485": 1,
         "d2dda7c7-1b88-48ad-aaf8-054e7a2b8362": 1,
         "da0af127-0acc-4c18-a58c-ec4792d3f0fc": 1
        },
        "fbe4acd7-0d17-4d56-9221-95c757887a98": {}
       },
       "_model_module_version": "^1.3.3",
       "_view_module": "jupyter-cytoscape",
       "_view_module_version": "^1.3.3",
       "edges": [
        "IPY_MODEL_dff24612d8c647e9af93b87847e09b12",
        "IPY_MODEL_c3098a761e344a94a28df1a6ba0e122f",
        "IPY_MODEL_54c7bbc5782841e8aa6e4fb2dee77726",
        "IPY_MODEL_28b3208ee9084fb1a574039d08c77141",
        "IPY_MODEL_473d6983a6ee40f1ac23be1d68b84ff9",
        "IPY_MODEL_47f45a68d8cf41e1bb01c24919b13273",
        "IPY_MODEL_a005a29b5ccb4b42951ce69aa3796533",
        "IPY_MODEL_52b56889172c49a2be7b66adb095d09f",
        "IPY_MODEL_d2a8d5a689794decb1d80302fd297266",
        "IPY_MODEL_8ef2d9c797a040dcabcceae9e1e8b318",
        "IPY_MODEL_b3f69b965f924bc0bd492336de526afd",
        "IPY_MODEL_0dc75db02f70425689aa7bfe8361b421",
        "IPY_MODEL_1621932f8a324a8694b76e72dc306180",
        "IPY_MODEL_2322367b94d94bbfb5fd90395e39c6b1",
        "IPY_MODEL_781815ae364747cf981c1d9e74ab12d2",
        "IPY_MODEL_a6766dd5694f473eb5c31b122f86e241",
        "IPY_MODEL_1a9df3c06cc147e6804865b4c9c344ec",
        "IPY_MODEL_98b547409658499cb3ecd6e36db45943",
        "IPY_MODEL_ff5e329c567e467c9c0c6efce5a2fc62",
        "IPY_MODEL_b44d86c1ed26474aad221d2466c779a3",
        "IPY_MODEL_6afa8c07f9e74935bf8aa5af8f0eb01d",
        "IPY_MODEL_41c804800cf64e0dabc68a50ef05fc04",
        "IPY_MODEL_59f2f379ed7544ea860c0c8e16935eaf",
        "IPY_MODEL_234f83f14fa2496e8bf4049010454bfe",
        "IPY_MODEL_d24e20118a634638bcab3fb853b7c869",
        "IPY_MODEL_b45cdea4cfd64da892fac70a73c04824",
        "IPY_MODEL_57e31fd43f524721a47ea9b0fd4cd30c",
        "IPY_MODEL_eeae0375a8b94d75bd63516368ffb8fa",
        "IPY_MODEL_72088ea570764b96b4256a1b3e419f77",
        "IPY_MODEL_49a130c8ccf444b084bda582f7bdd624",
        "IPY_MODEL_e65f70fff7c14f36b2815613bf857bc8",
        "IPY_MODEL_e47a944b3ad147c8a10ed15892e97571",
        "IPY_MODEL_c86bda934fd8445eb774d01b97624c53",
        "IPY_MODEL_c62f706189c44d43a7cea3e7b775e645",
        "IPY_MODEL_d369a82af94b4840b8581ec505019649",
        "IPY_MODEL_e096fb41941a4bc2aab6d0e0ab9141b6",
        "IPY_MODEL_b0e55674879e4daa84115b234f1ceafc",
        "IPY_MODEL_315c812f45f34f3fae5d6732d4f12d63",
        "IPY_MODEL_2a740f2824034f27860cddfd6954ef6d",
        "IPY_MODEL_7c1541755c8b45c287b89af106f651be",
        "IPY_MODEL_9cec6508467f4e84b755b87d792705f6",
        "IPY_MODEL_749584193c9149f1ad5345a2eea7c3c8",
        "IPY_MODEL_cb0e3adc3a9e4991ad8ef68de6c0725a",
        "IPY_MODEL_f8d8886cc4664569aaa910c17ab5d39b",
        "IPY_MODEL_1bc9384a5ff24a83863dfbc4b2d1179f",
        "IPY_MODEL_3a1d8681a0d7410b95ebda021a17552f",
        "IPY_MODEL_7a6932060e6a4f3ab5fbcbd7f0b360e7",
        "IPY_MODEL_61d1feb8159f47c5a2552a95e83b36fb",
        "IPY_MODEL_ea03c7ff4c504769a67afed363c8a277",
        "IPY_MODEL_d98507cc4af34f848eaa2bc65e422276",
        "IPY_MODEL_3bda6d30d6b1493aa8dae0b96ca801c5",
        "IPY_MODEL_12e85834e81d48bba7f66568c53de888",
        "IPY_MODEL_6a135387193d49aa8c174adfc0ef509b",
        "IPY_MODEL_f2e035fed2274ba39b1cd30a2c2355d1",
        "IPY_MODEL_2fe621218a434799ba88ae1d69aa4b59",
        "IPY_MODEL_11d9d2153e2e4f97bd40578cc41b87dc",
        "IPY_MODEL_a0ee8537061f4170b46f19bd8a22d5ce",
        "IPY_MODEL_2141c41e08cd499196998714095bb855",
        "IPY_MODEL_2045d4666fbb42a2baeca75ff5795eb5",
        "IPY_MODEL_5bcff29fb3a7452483015232b490a6c2",
        "IPY_MODEL_5d3ab4320a934a08a94b6c4bab17b631",
        "IPY_MODEL_332d393f7bde4c38963da3b92141d0dc",
        "IPY_MODEL_75c00b2f6490405fab6a989dd15c8aaf",
        "IPY_MODEL_125059ba54824ffeb99231e301550787",
        "IPY_MODEL_8e5ddb8f4ba44fbfafb0539d64969b3c",
        "IPY_MODEL_eff242ad7b3a412c852530eab92ee9cf",
        "IPY_MODEL_63b305f717514e94a20dd3c2e87e8c9f",
        "IPY_MODEL_b96957a2786843a5a2fdcd238487a8d8",
        "IPY_MODEL_c0593a94917a47c6aab6a3148e13db35",
        "IPY_MODEL_22a06f11370b4f9988bd2c537a3f776c",
        "IPY_MODEL_8a347388b12a47509e5be98f55701dc9",
        "IPY_MODEL_f8b09b1c41094df086e32e2f0155d8c8",
        "IPY_MODEL_fc885ca7015a4984928682aac8bb1d7e",
        "IPY_MODEL_900a137ab05144b1b46f262dd888276e",
        "IPY_MODEL_9675d1624697467ea017ef8313af8ea2",
        "IPY_MODEL_ffa5cbf899d14b919c54204de8dd9d89",
        "IPY_MODEL_f5f5f5d13a104c9994fafaf8b3ab3c4b",
        "IPY_MODEL_63039cb493364696a094654dd0b3d526",
        "IPY_MODEL_e3c5b6da0b1d4f59834788f8b7a63a3c",
        "IPY_MODEL_e5dd81512e6d4e99b30fa28dcecced6c",
        "IPY_MODEL_5f4ccefcb10d48f8be4a1509ad927694",
        "IPY_MODEL_86507963abb64d33aa4a596af4bb125c",
        "IPY_MODEL_bd2561d64206476b810e287ab4b9f2e6",
        "IPY_MODEL_3ebf05d378be44828ae13e60d65cc86f",
        "IPY_MODEL_52722cfc150d4fab9af4f9c26b546d36",
        "IPY_MODEL_f0e6cbb5458345f58cccda55b2b89cf9",
        "IPY_MODEL_b2f7917d104b45bbb655ceedaa3377a3",
        "IPY_MODEL_27105667783c4b5890aa9e3bf225d7b0",
        "IPY_MODEL_892a12ea34524cfd8c9c4289ca986079",
        "IPY_MODEL_d80fb7125764417a9479d39ea005aea0",
        "IPY_MODEL_aedf6e80f7524591942d139fd16bd0aa",
        "IPY_MODEL_eb9c3b990f294cef97657a24849ced0f",
        "IPY_MODEL_527c35673c5e42d4b5a9729b33b74e45",
        "IPY_MODEL_6bdfbe6b4f8d493db55e31dbd2145750",
        "IPY_MODEL_5c3373c1a7ae411aba14ba6464240c77",
        "IPY_MODEL_7c4b8eddc7084f408e658326600b0968",
        "IPY_MODEL_e8f046b50f434ce5a5bec9d570fc16ae",
        "IPY_MODEL_db68c5dccf994210ac9fab37c272c627",
        "IPY_MODEL_8967a22886a245179cdc843600c6b924",
        "IPY_MODEL_342ec4b8d89343fc9e633e9f62349806",
        "IPY_MODEL_5d2e12e03ccf496b881a04868dc83c1a",
        "IPY_MODEL_e9e0f2c7f4b7442d9a4a76f159e009a1",
        "IPY_MODEL_d0dc246398e449f59639353ab532caea",
        "IPY_MODEL_69e5135e8fea45d0b22777033b9a277d",
        "IPY_MODEL_8e47153f88c94c429ce1a3f347546d62",
        "IPY_MODEL_28bf7f4af6c645949c0a1ac7af049457",
        "IPY_MODEL_942e0428a29a48c0a7828a6025102d48",
        "IPY_MODEL_9f66cbd102ad47b788f8a4cb8e87aba1",
        "IPY_MODEL_b9cc230ead8a4476845af4515f4d852d",
        "IPY_MODEL_09f6b7ccabfb44b79a850a638d905aba",
        "IPY_MODEL_35435b8d7a3f45a29cde221117bbd013",
        "IPY_MODEL_5c3e768088eb4c8598e35fd391cf42f2",
        "IPY_MODEL_6a51a423f42b4e17a510a1f6b1ea3299",
        "IPY_MODEL_9d0f6c3035e94e069cc3ed97128a4880",
        "IPY_MODEL_ab6fee6bd7c34ac5bf7331c43e42346a",
        "IPY_MODEL_1bf548e0b41846c28e7d6b3d8d3b9df4",
        "IPY_MODEL_b77237b5a79049a5a6786cc3d86985c5",
        "IPY_MODEL_6dae8daa6ae6419490b451f7531820de",
        "IPY_MODEL_05460d0e43f146eea6185776dfb233ca",
        "IPY_MODEL_5cca240c14e644748bf6db260f167e3d",
        "IPY_MODEL_a2e4674d74dd4318b75c87407adddc58",
        "IPY_MODEL_bd43bd1504b74413bf6100d4330a6d7b",
        "IPY_MODEL_ae82cbb9e97949bb8eb2a77d25450dd6",
        "IPY_MODEL_5191337858824a2480ca9254cdb86113",
        "IPY_MODEL_70761ad829114e34a8fbf34c2238c3af",
        "IPY_MODEL_8b247340af6b45bba04a8fdd966c3fd3",
        "IPY_MODEL_a257399b6b60429dafb950a661653664",
        "IPY_MODEL_94b2d8a7c7c74c859f27bef7ddc42393",
        "IPY_MODEL_db43ac83621345fda59ce4a4f15aadb2",
        "IPY_MODEL_7f01735d59724e6f806ec0d72e1a721c",
        "IPY_MODEL_9be09825b69d49aaa470a50a0e31dab4",
        "IPY_MODEL_6ec615b3b9a741ffb316da246262b98c",
        "IPY_MODEL_b9d8b862b5bf40158a3be8316cf70284",
        "IPY_MODEL_0dcf7ef958d74927b208224454383bc7",
        "IPY_MODEL_4ffd6a9fbdd54478b9162432e57cd7f9",
        "IPY_MODEL_28ad10e363d74098a2b8c9a838c7f15d",
        "IPY_MODEL_7568174b192842a69fb4a1c139af5fdb",
        "IPY_MODEL_a64a0df810764453a66ef0d00dc842be",
        "IPY_MODEL_df3d3649b8d847f1bdb8305cae4f0f9b",
        "IPY_MODEL_e3892c8437294fb79951e5ca4ac14121",
        "IPY_MODEL_d604fc7b77a04ad0b6dbd9f894fff9d9",
        "IPY_MODEL_2c6d1bc508c04e529cfc0603a4a8d8bd",
        "IPY_MODEL_22df21fe044148d3b91679e11b4935ac",
        "IPY_MODEL_1ba80a4e3feb43558a88b59785cdb3ba",
        "IPY_MODEL_5a3c09b86c764934bebcecfa29c435dd",
        "IPY_MODEL_465d0b9085ed48958abf24fd4932227f",
        "IPY_MODEL_e318ee397e0b4c8fbcfa360c451886a2",
        "IPY_MODEL_a6c6d0dadab94dee93c91d83d9046db8",
        "IPY_MODEL_bdf7b8ce406f4852a2eada3a72071014",
        "IPY_MODEL_4adb0251619e4ea18d4b30fb1b77febf",
        "IPY_MODEL_3b78c48bfd9245ff989254995a1a56fc",
        "IPY_MODEL_60e5f29aed68490285eb4860a0c32c50",
        "IPY_MODEL_8bd44d326f374727b2b24f842a21973b",
        "IPY_MODEL_cfabe5ead481412eac34268505d28ad1",
        "IPY_MODEL_48768abe6d224f7282aeec5045672c27",
        "IPY_MODEL_b915116d576d441eaefc33d2abfd5ccc",
        "IPY_MODEL_1d05341bfa034503868057005a4fa206",
        "IPY_MODEL_521101e00dbb47deaa96937869a7f93d",
        "IPY_MODEL_c8473b71fff8493197f94bb69f84fe16",
        "IPY_MODEL_0085a907bba2437094c40dccabc3115d",
        "IPY_MODEL_f0c909f5702c4b499cc8da936f3352e7",
        "IPY_MODEL_86c3650efb5f40d5a0361a1d7ca6b2d6",
        "IPY_MODEL_695e319f9f1b4d6eb724496e77bed312",
        "IPY_MODEL_a75857e673d644ccac074e749e31e799",
        "IPY_MODEL_881d081316cd4af1ae5be8a5a2b9208f",
        "IPY_MODEL_76cac24e307c494c91112f9d83d7d15a",
        "IPY_MODEL_e27cd340b3f445b5933da93d5ff4abf1",
        "IPY_MODEL_fda8695856604167b4598085ac9dc3f9",
        "IPY_MODEL_7466d0dbc5a64220b3302cbaf0b9912b",
        "IPY_MODEL_b200c8aab3604660b93d5aeb4f580c63",
        "IPY_MODEL_9d90b3535adf47edb71461513e687851",
        "IPY_MODEL_596454c493fd4f1b8f0c021a59019a3b",
        "IPY_MODEL_2b6360b615c346c099f6ef984c7ebec6",
        "IPY_MODEL_4ff404cf5b0148b6a52f36eb7942c907",
        "IPY_MODEL_32e671fddcfc461f8e52c93ad83235ff",
        "IPY_MODEL_0eeb09a09b5c48c887e2f97ec6f09d5c",
        "IPY_MODEL_0e74fe0c884949a8b1d20523d099b569",
        "IPY_MODEL_74ba7e594f2c44f8a62c231ab9f39bed",
        "IPY_MODEL_b2f2fece5a824ec198d9bbfa8f4aab84",
        "IPY_MODEL_5cc6608da90f41c5a2ca0f1ecd780e18",
        "IPY_MODEL_a9b65aca6e674a0b9edc7e3ab8704882",
        "IPY_MODEL_8572f7b8b4a543ffaf9c6780e3d22635",
        "IPY_MODEL_43eac111b81d43d39bb7981a2c5ab246",
        "IPY_MODEL_8d344a9a68bf4cdcb46a85ffbed7bb61",
        "IPY_MODEL_220b76553fae4035a9d30b71a371e856",
        "IPY_MODEL_62968b981c6845be9113c2a66a05d9ea",
        "IPY_MODEL_a2de8b6a70c4480d97ba04c23e4cd05a",
        "IPY_MODEL_96b562a038f2479f9aaf0c042a9fe977",
        "IPY_MODEL_8ef41ccb8cdf4e9eb921969a0e7b7df6",
        "IPY_MODEL_96ce2371048741e090c015846035a1aa",
        "IPY_MODEL_d5dc880e0b434015ab57215624f58f22",
        "IPY_MODEL_9d65f159fa7f409eb2e347da5302030a",
        "IPY_MODEL_96efeb0029af488b8b760d8486c1987e",
        "IPY_MODEL_b32b7e6aaea445e28c5e9eb10bfd5d86",
        "IPY_MODEL_7320b6157e444cfb8422c2739a8fc8ce",
        "IPY_MODEL_5d7ad604d2a44fcd9493f6d092ff04cc",
        "IPY_MODEL_0c78ac13516040f78c8c4ee0e32a876e",
        "IPY_MODEL_1749d8620a6c4fb485f9ac28219d5a56",
        "IPY_MODEL_ceb30ef194ee456b98d5a4a6d91d5e87",
        "IPY_MODEL_391612d75c3347059c450d29dec0555a",
        "IPY_MODEL_d81e6764b2fa4921be3bf2d573cdcf94",
        "IPY_MODEL_7faa43f24fc7496cb23b74cfd5e22aaa",
        "IPY_MODEL_a48fb235b5e949e8b57b36a50f2ef363",
        "IPY_MODEL_8f7014f0ab8c4e39bb3bb55cb8501367",
        "IPY_MODEL_77d78ce800ce4da5bc46e897e7686cf4",
        "IPY_MODEL_21b45f81689349d4acb13629dc1fa643",
        "IPY_MODEL_482a4372f52d42c49d2b42d614ad0baf",
        "IPY_MODEL_f8c26a23bff84eb7b83c3568c5d97e84",
        "IPY_MODEL_64a311efdde94ebe8c8b3343a2d683d6",
        "IPY_MODEL_eabfa5f0561e4dedaf29827fdc4e5ad0",
        "IPY_MODEL_6ab16d7e273249d6a1909fd1b8f6fa18",
        "IPY_MODEL_a26642a89a904811b4192dbe9c77db73",
        "IPY_MODEL_d5608ac8b1f546b3b40538e6dcef6817",
        "IPY_MODEL_e3687ec5e69c449eb83fa4715b459b9a",
        "IPY_MODEL_2e17e47049ea41ff8fdc249fab0ca94b",
        "IPY_MODEL_1873be34db80416da830ca2f94b53a12",
        "IPY_MODEL_83d4640f862e4957956f75a295d03afa",
        "IPY_MODEL_ea407e3959284e09ae5c9b2f80e3bf2f",
        "IPY_MODEL_6981b038ada6466295e3db17e364b1f2",
        "IPY_MODEL_615a973b41e3441fb284e0157e9375e9",
        "IPY_MODEL_c2129a327189466599f36bd2b8fcbe80",
        "IPY_MODEL_2e63f687e5bc42a399bbba7ea0888d2b",
        "IPY_MODEL_4b16832e0ced469f813d8e22feb151cf",
        "IPY_MODEL_55904165beb34f95a97b9bad066522e9",
        "IPY_MODEL_de837940edd948d19c287215bfccbe52",
        "IPY_MODEL_edc9a9e96f364dc886626ca8f08b3e37",
        "IPY_MODEL_9de6906f3f934efaad25469164dc0b10",
        "IPY_MODEL_37bb0b5c3dfb417b9db726953832d0a6"
       ],
       "nodes": [
        "IPY_MODEL_38e161b93d7945648496adcf0e52bc7c",
        "IPY_MODEL_40a25d331b154fe3a873c8fa93599095",
        "IPY_MODEL_cef48405eea845eb897474cfef9f95fa",
        "IPY_MODEL_8c1bbdb7114c4394a8d80b46d8189999",
        "IPY_MODEL_2acc95b97fc94118915b929ac563d32e",
        "IPY_MODEL_8603e48d773a4329a8da84b321ede709",
        "IPY_MODEL_28607f62bf2945b1a84f2af963e75720",
        "IPY_MODEL_985ed5b2a29c4a1793270921591b45de",
        "IPY_MODEL_8e7ec76b750a49bf8fbd14a9b7095940",
        "IPY_MODEL_a3b51aea41d2490c97ee5b906d610566",
        "IPY_MODEL_ca35504337ef49098d130831734810b3",
        "IPY_MODEL_6e801aaffaf94f53a37f973a8269f59f",
        "IPY_MODEL_ec3f1fd65a22492d9ad50d41c701950f",
        "IPY_MODEL_69e916df8e2c42bb9238d51b9b8e6106",
        "IPY_MODEL_aa2fe35c71e641479268e0d3b370b51d",
        "IPY_MODEL_0ea65d62560f4339bddbb09976947229",
        "IPY_MODEL_b1f65421462e4e7b9d3b7438d2c00dd8",
        "IPY_MODEL_3dae15a9beba4b889053a2731de82f9c",
        "IPY_MODEL_a4925c85140a4dcf99a7f8e3ca307b9b",
        "IPY_MODEL_75551fe9e5ea474198d6404a93b1c9ec",
        "IPY_MODEL_d87cddcd1a604f9faa2e9359062264a1",
        "IPY_MODEL_42a77c8ab4e5442eb82ab205d23317e5",
        "IPY_MODEL_aadc8550a8ea47fe98dcf83d0bd13235",
        "IPY_MODEL_4e80d83be58f4054b452d2deb24388d6",
        "IPY_MODEL_467f5e6c5aeb40ee9821c3b828a3296a",
        "IPY_MODEL_93b65ea089424433bfb01381d54646d1",
        "IPY_MODEL_4755a67589fd4fc8a76f9faf8f725bc3",
        "IPY_MODEL_9e739fd0431e4fbf89384303785f3060",
        "IPY_MODEL_b64174d984294c389540bdc58461e891",
        "IPY_MODEL_7607f1c6b78e4a4bb0a94acd94bccc5b",
        "IPY_MODEL_9626efe5eae94f488b6cccaa71908037",
        "IPY_MODEL_1760dda6dc404a0da590a381d29f7a63",
        "IPY_MODEL_463eb11c36c140c0b78c1786236bd69c",
        "IPY_MODEL_4e6e59cb5d104e0e9b2fc99bfa4671ad",
        "IPY_MODEL_ea95c0cbb01542ee99e6bccea34570a5",
        "IPY_MODEL_173594cf9cc441ec9da56d0de9e1e901",
        "IPY_MODEL_94ac9dd0baa848edb4cab36c14097725",
        "IPY_MODEL_35235339329947c5bcebe6a2d5258c9e",
        "IPY_MODEL_ccfea451e4554537adc3156680ba29c4",
        "IPY_MODEL_f5b5f80faf164c65a176b78853e6d6ae",
        "IPY_MODEL_b5c86d215e57424aa743dfabbedda2e6",
        "IPY_MODEL_75807d700b314a7a805650df20687a6f",
        "IPY_MODEL_ecc2c162e3384e5996b312804609dcd0",
        "IPY_MODEL_94b670c191ac4e9b8666197c6951f094",
        "IPY_MODEL_326408eeff1340308fe651bf930bebeb",
        "IPY_MODEL_a5b475ade5194aa7913c51d8300a637c",
        "IPY_MODEL_7ac5903afa9446a78fa6508064083757",
        "IPY_MODEL_bf4209f952d0497e9c263a8190bec8ee",
        "IPY_MODEL_27ba8184cb0a427d9f79a460d75eb9ea",
        "IPY_MODEL_fef07f1138ca46f08dbce86b61078f33",
        "IPY_MODEL_3e0ff8acd128453c8d228ac905d94288",
        "IPY_MODEL_24efda8084494e9c99e037b887655992",
        "IPY_MODEL_c8721a18c3c44afd9bf757d8f3a38839",
        "IPY_MODEL_4a35f2293c424ee886a7743ef9e51e70",
        "IPY_MODEL_4ef3d5ea05a4482abfa6092de5c5eded",
        "IPY_MODEL_1dac36b7e4304c83b121b7f86a5bc33d",
        "IPY_MODEL_cb0d3dd8f75f4d24a72ef210e8c9d006",
        "IPY_MODEL_00eaf4677305462cbcc033d63d011594",
        "IPY_MODEL_8a08ffa8c35d4f4c912763194a9b0f7a",
        "IPY_MODEL_9e19f15d1e024e2b9d30517be97ed82d",
        "IPY_MODEL_1256da6f33384c39a7b3702c37796539",
        "IPY_MODEL_ce3ea1bc5ed744b3b23fa7804fa9f897",
        "IPY_MODEL_8dbdbe8a6cc64d369d053c383f3589b8",
        "IPY_MODEL_377c51455a9d42dbbb487359aa9b4f2a",
        "IPY_MODEL_31587caa04814118b4abd1524a0bb861",
        "IPY_MODEL_57c0d6e4c1e34353a109dc9bb18407cb",
        "IPY_MODEL_7318b334bbc94a7e96686381412dc1f4",
        "IPY_MODEL_12ebfbf78e334cc387d8a94e13fd2d4b",
        "IPY_MODEL_5a6ece871f1344eb987887339fd0363e",
        "IPY_MODEL_4293531136f34ab88d7733fcee7d31a4",
        "IPY_MODEL_7dcd8e38e09447e69bb68adc46d0fb56",
        "IPY_MODEL_853be648980d4041aba67c703056243b",
        "IPY_MODEL_bd4006bff6864c1382abf27db587d1e9",
        "IPY_MODEL_3088eb9b53874b8aac2f18bfa6f9ff59",
        "IPY_MODEL_3717f2ed022f400f9a972113d5ee276c",
        "IPY_MODEL_f20a568f70f34b2782c3d5c239833308",
        "IPY_MODEL_15401de00fb74cd0ba295f132f808bc6",
        "IPY_MODEL_b34b5418203944e0abe8783c003672ed",
        "IPY_MODEL_06b874be62484b0bbe40358281e93152",
        "IPY_MODEL_4381019afa684962ad1d6358242518d5",
        "IPY_MODEL_2112cd84da5c42e58a93ead71746ba7d",
        "IPY_MODEL_2fe2dc405e6f445eb94651fb065bd6d2",
        "IPY_MODEL_6ae29d4a44464973a772c703e8486ff7",
        "IPY_MODEL_c67873a7998543da940062b7300f044f",
        "IPY_MODEL_8669c7513f9f450baabd24caa21bef0d",
        "IPY_MODEL_7eeb6685e1fe499694c495d008e2b065",
        "IPY_MODEL_e93ca98ba617468196abb22b54e4dfca",
        "IPY_MODEL_0a3cabbbd06f40828f7e0cda40638946",
        "IPY_MODEL_f40c8b2458b24f8e8e126518d1082244",
        "IPY_MODEL_e98dccb95b39424eae315face520792c",
        "IPY_MODEL_e6d8a125e6b34d46ba17cd163725da51",
        "IPY_MODEL_aa37b98fd47647bfa92c9c7de2f6c88d",
        "IPY_MODEL_7b1985803a5c4a699167ae79dcb08449",
        "IPY_MODEL_82821b7b50ee47f3845119b5e9796bde",
        "IPY_MODEL_661ab78311bc4b2dbbb81ce04f31f47f",
        "IPY_MODEL_b277f0b2fdcf4fbfb69427f099f80cad",
        "IPY_MODEL_c302aef3f4a14b38b544928aa0a7e48f",
        "IPY_MODEL_d546125df0d34693b9c8790b61038b85",
        "IPY_MODEL_bdce438d3db84ff29c50c71f24c08ccc",
        "IPY_MODEL_1a52dab60d6b4df0ac1e61786e57ce97",
        "IPY_MODEL_2bf37826eeef40c7a7d03fbfbd66ac9c",
        "IPY_MODEL_9913efd571444bdca605825a9f187f3b",
        "IPY_MODEL_f8883be8fe2b4966b88750fe852f2f47",
        "IPY_MODEL_85cab8b9f232402e9fa169f83ca0052d",
        "IPY_MODEL_4eac1e32cf344afb81a6b301f293b4a7",
        "IPY_MODEL_1651737d3abc42f186959cf8b53854c5",
        "IPY_MODEL_6fa701f951fc49cfa9e52d1501277b3b",
        "IPY_MODEL_dc037c8d4f9f4aaca72ce6f59a418df1",
        "IPY_MODEL_47b3b0df335242638cbf9557da5c1642",
        "IPY_MODEL_44b39b30fb724f6f90985de0926713df",
        "IPY_MODEL_20808b5a202848b7a4f924f672ccf35f",
        "IPY_MODEL_f08ad0fcd0334478afc72a7aec1547c5",
        "IPY_MODEL_97e282ed85c4403f831887516da7cb42",
        "IPY_MODEL_96bf15a203754cc185a71abf3b550862",
        "IPY_MODEL_80281daa18264078a974f9aa24f6f2dc",
        "IPY_MODEL_65df71323af3491698ebd05cfcbaf6b0",
        "IPY_MODEL_9dac1c4e83e7413aad325cb10b2d2075",
        "IPY_MODEL_2436a94fe0624601b289bb2d90ed55a1",
        "IPY_MODEL_69b633529da84956a05e976a94abc604",
        "IPY_MODEL_84f5c3da3c0444799cbd05ded172bb7e",
        "IPY_MODEL_4970b0abef8942568b115791d18f4e6a",
        "IPY_MODEL_8da4bcf23303491a9b8ce0da8d1574ea",
        "IPY_MODEL_820501b4d6634078bc391ac4068d67da",
        "IPY_MODEL_21188f9cb5df4a64927ca09562acfe4e",
        "IPY_MODEL_8b09323b05b64d289e99a075a89b64be",
        "IPY_MODEL_1ecc2c85e72c4c31a2dd8ee648cc7dab",
        "IPY_MODEL_1575ff04c0454e30bc7c20751f90161b",
        "IPY_MODEL_35f142fc0d02441f875e18f929df8e7e",
        "IPY_MODEL_719630d5a4fb4cb1bbbd9d800b355229",
        "IPY_MODEL_68e7116df6ab467e984a49188fbbc8ea",
        "IPY_MODEL_9bdfd38c7d5e423c9eb11c75a2a71e54",
        "IPY_MODEL_bc5dc9724dc2450aa5fd2ace3a5190ac",
        "IPY_MODEL_c57b1fbda6ef4b22adcf88d78d074ccc",
        "IPY_MODEL_eb519ba40dbc4c0bb3edb74765946ff1",
        "IPY_MODEL_f33e0ef63df74eb59992d676649eda16",
        "IPY_MODEL_aa655bb85017455c887aff1082aed3b7",
        "IPY_MODEL_5be2d6b4a9f449fc977a99baab525c62",
        "IPY_MODEL_c44d22b150ec43b7a32b6ba178781e5d",
        "IPY_MODEL_853d64661935474a98db6bab24d11dd9",
        "IPY_MODEL_2713969ac2924816bfb230b85db6d512",
        "IPY_MODEL_a10a235e129e479db5e76b3e3401fac6",
        "IPY_MODEL_bbfe6c089a6f487596be7e4c017a6724",
        "IPY_MODEL_4f32d35d4c414a9a893f04b6df1a671e",
        "IPY_MODEL_c428a300c5444d29a9c43b35ad3a93ea",
        "IPY_MODEL_5d6977d644284c51be55792b4e30923a",
        "IPY_MODEL_53a8052b9cc043bca76145ef3b6efcd4",
        "IPY_MODEL_a80ed0e4057f4314b8466bc6b441c7dd",
        "IPY_MODEL_b8140e80fd6e4f98bedd2a223d7a738b",
        "IPY_MODEL_4135530a66cd4b9986b616173554c316",
        "IPY_MODEL_df1253ad6fc4483da49ffa5505b62f16",
        "IPY_MODEL_0f9046c0055c4c6cb2d7cddd51fcccaa",
        "IPY_MODEL_276c6a50d4e847d5aed14019d0ff2743",
        "IPY_MODEL_da39e8b2ae4644f09dcb205bde9d60e8",
        "IPY_MODEL_e25af3801579421291b4ab5ee6a2b09a",
        "IPY_MODEL_3be13e907f58466a8c792a86146b235a",
        "IPY_MODEL_8b339ffaa96b408eaa4cba7d1b944e9b",
        "IPY_MODEL_471c9b18ac5344d187f132f624795bbd",
        "IPY_MODEL_1f70c730bfa34d878c2099eb4cf63583",
        "IPY_MODEL_46ba46e2eee8455ea8a97f1f991b1741",
        "IPY_MODEL_d52dd6819d644a529092796ba6194efc",
        "IPY_MODEL_66802c55697d40c19b7ffb3396dc0a87",
        "IPY_MODEL_18b8323699804084b0c3be28247a8ed1",
        "IPY_MODEL_f75e66dc616440f89c151752a10a216e",
        "IPY_MODEL_3e9b0b3b0d0c48ed89509f3d81d43acf",
        "IPY_MODEL_50a7a729dab448c3b6aa12784ccefecd",
        "IPY_MODEL_51885e83d27e42ccb0b3609854ed6f47",
        "IPY_MODEL_b242f3510ecd4d79a7ad2ee72009917e",
        "IPY_MODEL_2930a00592a94928af8eeaf064911dd1",
        "IPY_MODEL_0d1a0ed788334b828e3323536702a045",
        "IPY_MODEL_c30b0528610345c091ecee9091b545c8"
       ]
      }
     },
     "da39e8b2ae4644f09dcb205bde9d60e8": {
      "model_module": "jupyter-cytoscape",
      "model_module_version": "^1.3.3",
      "model_name": "NodeModel",
      "state": {
       "_model_module_version": "^1.3.3",
       "_view_module_version": "^1.3.3",
       "data": {
        "bgcolor": "red",
        "id": "fbe4acd7-0d17-4d56-9221-95c757887a98",
        "name": "Fuel consumption of Truck transport"
       },
       "grabbable": true,
       "grabbed": false,
       "position": {
        "x": 1769.5906432748538,
        "y": 507.9365079365079
       },
       "selectable": false
      }
     },
     "db43ac83621345fda59ce4a4f15aadb2": {
      "model_module": "jupyter-cytoscape",
      "model_module_version": "^1.3.3",
      "model_name": "EdgeModel",
      "state": {
       "_model_module_version": "^1.3.3",
       "_view_module_version": "^1.3.3",
       "data": {
        "id": "b6bb0b01-9344-42d8-a47f-55a106f10aa7",
        "source": "228a60de-60f1-4a3d-90cb-6b2accd665b4",
        "target": "45662d6d-9fe2-4494-bdc8-2f3db91ebc27"
       },
       "selectable": false
      }
     },
     "db68c5dccf994210ac9fab37c272c627": {
      "model_module": "jupyter-cytoscape",
      "model_module_version": "^1.3.3",
      "model_name": "EdgeModel",
      "state": {
       "_model_module_version": "^1.3.3",
       "_view_module_version": "^1.3.3",
       "data": {
        "id": "32592e12-3dae-443e-9d4f-9a6c503448ca",
        "source": "9dde72f9-8d53-43e6-bbf8-f5d56f58e5dd",
        "target": "c2131f63-1b4a-4dff-acc6-fd7651a3cb1e"
       },
       "selectable": false
      }
     },
     "dc037c8d4f9f4aaca72ce6f59a418df1": {
      "model_module": "jupyter-cytoscape",
      "model_module_version": "^1.3.3",
      "model_name": "NodeModel",
      "state": {
       "_model_module_version": "^1.3.3",
       "_view_module_version": "^1.3.3",
       "data": {
        "bgcolor": "red",
        "id": "7fdaed29-5af2-44b0-b661-10fe7fa5fabd",
        "name": "Bananas"
       },
       "grabbable": true,
       "grabbed": false,
       "position": {
        "x": 1769.5906432748538,
        "y": 190.47619047619045
       },
       "selectable": false
      }
     },
     "de837940edd948d19c287215bfccbe52": {
      "model_module": "jupyter-cytoscape",
      "model_module_version": "^1.3.3",
      "model_name": "EdgeModel",
      "state": {
       "_model_module_version": "^1.3.3",
       "_view_module_version": "^1.3.3",
       "data": {
        "id": "6be9b48c-6848-4a1e-add6-2c4134297d9d",
        "source": "b92e82a2-46ae-406a-bdd4-58560fe94049",
        "target": "578dccf9-5238-4121-98bd-de24214cc787"
       },
       "selectable": false
      }
     },
     "df1253ad6fc4483da49ffa5505b62f16": {
      "model_module": "jupyter-cytoscape",
      "model_module_version": "^1.3.3",
      "model_name": "NodeModel",
      "state": {
       "_model_module_version": "^1.3.3",
       "_view_module_version": "^1.3.3",
       "data": {
        "bgcolor": "red",
        "id": "356732fe-917e-448a-a8da-41c690313dfd",
        "name": "Sea transport"
       },
       "grabbable": true,
       "grabbed": false,
       "position": {
        "x": 1351.4619883040934,
        "y": 365.07936507936506
       },
       "selectable": false
      }
     },
     "df3d3649b8d847f1bdb8305cae4f0f9b": {
      "model_module": "jupyter-cytoscape",
      "model_module_version": "^1.3.3",
      "model_name": "EdgeModel",
      "state": {
       "_model_module_version": "^1.3.3",
       "_view_module_version": "^1.3.3",
       "data": {
        "id": "8c618359-d55a-4196-bc8f-b487acddc9b2",
        "source": "d3f4e7f7-fe8f-4e0b-8864-60e6a9726fb8",
        "target": "38436942-4600-46a5-838f-391cd0c695e1"
       },
       "selectable": false
      }
     },
     "dff24612d8c647e9af93b87847e09b12": {
      "model_module": "jupyter-cytoscape",
      "model_module_version": "^1.3.3",
      "model_name": "EdgeModel",
      "state": {
       "_model_module_version": "^1.3.3",
       "_view_module_version": "^1.3.3",
       "data": {
        "id": "4382d3e5-60a3-4704-b3d7-c028e7a7707e",
        "source": "18ae7db0-8d10-4b64-ad08-a11a2914c35e",
        "target": "36b6898c-1aa5-4562-8d1e-f91b52dec416"
       },
       "selectable": false
      }
     },
     "e096fb41941a4bc2aab6d0e0ab9141b6": {
      "model_module": "jupyter-cytoscape",
      "model_module_version": "^1.3.3",
      "model_name": "EdgeModel",
      "state": {
       "_model_module_version": "^1.3.3",
       "_view_module_version": "^1.3.3",
       "data": {
        "id": "771ae359-be6a-4872-9eac-aacd97edec93",
        "source": "87d4c5b6-d481-4207-8581-dcb461bc2d93",
        "target": "5f4986fd-88ed-4676-8bae-e4b5b1bd88f4"
       },
       "selectable": false
      }
     },
     "e25af3801579421291b4ab5ee6a2b09a": {
      "model_module": "jupyter-cytoscape",
      "model_module_version": "^1.3.3",
      "model_name": "NodeModel",
      "state": {
       "_model_module_version": "^1.3.3",
       "_view_module_version": "^1.3.3",
       "data": {
        "bgcolor": "red",
        "id": "182803ad-37ea-4225-b7b9-0e2961f75ace",
        "name": "Truck transport"
       },
       "grabbable": true,
       "grabbed": false,
       "position": {
        "x": 1769.5906432748538,
        "y": 1238.095238095238
       },
       "selectable": false
      }
     },
     "e27cd340b3f445b5933da93d5ff4abf1": {
      "model_module": "jupyter-cytoscape",
      "model_module_version": "^1.3.3",
      "model_name": "EdgeModel",
      "state": {
       "_model_module_version": "^1.3.3",
       "_view_module_version": "^1.3.3",
       "data": {
        "id": "50cb8133-bc1e-4188-8ec1-646c0517a355",
        "source": "1922f28f-803f-439d-95e4-985e9a06b2ba",
        "target": "035fc364-d89e-4c5f-bb43-cbb8bc7398cb"
       },
       "selectable": false
      }
     },
     "e318ee397e0b4c8fbcfa360c451886a2": {
      "model_module": "jupyter-cytoscape",
      "model_module_version": "^1.3.3",
      "model_name": "EdgeModel",
      "state": {
       "_model_module_version": "^1.3.3",
       "_view_module_version": "^1.3.3",
       "data": {
        "id": "5dbc622d-27d9-4184-9bba-bbec0ef10afc",
        "source": "c17e0ea8-8efd-49da-80b9-2e9b18644e47",
        "target": "578dccf9-5238-4121-98bd-de24214cc787"
       },
       "selectable": false
      }
     },
     "e3687ec5e69c449eb83fa4715b459b9a": {
      "model_module": "jupyter-cytoscape",
      "model_module_version": "^1.3.3",
      "model_name": "EdgeModel",
      "state": {
       "_model_module_version": "^1.3.3",
       "_view_module_version": "^1.3.3",
       "data": {
        "id": "fbce89e0-b25b-4a6e-b9cf-3a5c5ab6ef53",
        "source": "182803ad-37ea-4225-b7b9-0e2961f75ace",
        "target": "98af4f07-f54a-44ba-afe8-3414c6a6eb66"
       },
       "selectable": false
      }
     },
     "e3892c8437294fb79951e5ca4ac14121": {
      "model_module": "jupyter-cytoscape",
      "model_module_version": "^1.3.3",
      "model_name": "EdgeModel",
      "state": {
       "_model_module_version": "^1.3.3",
       "_view_module_version": "^1.3.3",
       "data": {
        "id": "b8fbb8cc-6466-4410-9115-323fd06bae15",
        "source": "ec427e19-1769-4e51-a975-0b1db70f369e",
        "target": "10b9484e-9271-484a-acdc-fca31859f57f"
       },
       "selectable": false
      }
     },
     "e3c5b6da0b1d4f59834788f8b7a63a3c": {
      "model_module": "jupyter-cytoscape",
      "model_module_version": "^1.3.3",
      "model_name": "EdgeModel",
      "state": {
       "_model_module_version": "^1.3.3",
       "_view_module_version": "^1.3.3",
       "data": {
        "id": "6234fc10-8a18-42d2-826e-5381ec49aa31",
        "source": "2aec359d-9c45-47bd-a989-3175bbab03b0",
        "target": "38436942-4600-46a5-838f-391cd0c695e1"
       },
       "selectable": false
      }
     },
     "e47a944b3ad147c8a10ed15892e97571": {
      "model_module": "jupyter-cytoscape",
      "model_module_version": "^1.3.3",
      "model_name": "EdgeModel",
      "state": {
       "_model_module_version": "^1.3.3",
       "_view_module_version": "^1.3.3",
       "data": {
        "id": "e387620b-fe3f-4e99-ab1b-26438096b43a",
        "source": "2a6c46bf-cce5-4a5a-bd88-e9127cabd906",
        "target": "98af4f07-f54a-44ba-afe8-3414c6a6eb66"
       },
       "selectable": false
      }
     },
     "e5dd81512e6d4e99b30fa28dcecced6c": {
      "model_module": "jupyter-cytoscape",
      "model_module_version": "^1.3.3",
      "model_name": "EdgeModel",
      "state": {
       "_model_module_version": "^1.3.3",
       "_view_module_version": "^1.3.3",
       "data": {
        "id": "5826f755-21f8-407a-8196-412e4a819358",
        "source": "81343dba-d23c-4c4e-a499-45765ddd7f35",
        "target": "10b9484e-9271-484a-acdc-fca31859f57f"
       },
       "selectable": false
      }
     },
     "e65f70fff7c14f36b2815613bf857bc8": {
      "model_module": "jupyter-cytoscape",
      "model_module_version": "^1.3.3",
      "model_name": "EdgeModel",
      "state": {
       "_model_module_version": "^1.3.3",
       "_view_module_version": "^1.3.3",
       "data": {
        "id": "fe1f8f36-6ffa-4619-8b5c-f89e2c2fe4b6",
        "source": "4c282a02-0e21-48a5-b44a-6ef99ff59a94",
        "target": "38436942-4600-46a5-838f-391cd0c695e1"
       },
       "selectable": false
      }
     },
     "e6d8a125e6b34d46ba17cd163725da51": {
      "model_module": "jupyter-cytoscape",
      "model_module_version": "^1.3.3",
      "model_name": "NodeModel",
      "state": {
       "_model_module_version": "^1.3.3",
       "_view_module_version": "^1.3.3",
       "data": {
        "bgcolor": "red",
        "id": "228a60de-60f1-4a3d-90cb-6b2accd665b4",
        "name": "Bananas"
       },
       "grabbable": true,
       "grabbed": false,
       "position": {
        "x": 976.0233918128655,
        "y": 206.34920634920633
       },
       "selectable": false
      }
     },
     "e8f046b50f434ce5a5bec9d570fc16ae": {
      "model_module": "jupyter-cytoscape",
      "model_module_version": "^1.3.3",
      "model_name": "EdgeModel",
      "state": {
       "_model_module_version": "^1.3.3",
       "_view_module_version": "^1.3.3",
       "data": {
        "id": "8b978f41-6e64-4c57-bea3-72074d748ac0",
        "source": "50a64e95-77b0-4f26-a205-bbacdd3e11ce",
        "target": "61eaf3d9-6357-49f3-939e-e4535eb4c6ad"
       },
       "selectable": false
      }
     },
     "e93ca98ba617468196abb22b54e4dfca": {
      "model_module": "jupyter-cytoscape",
      "model_module_version": "^1.3.3",
      "model_name": "NodeModel",
      "state": {
       "_model_module_version": "^1.3.3",
       "_view_module_version": "^1.3.3",
       "data": {
        "bgcolor": "red",
        "id": "075a33e1-a1c4-45a6-8f7f-908675f911e6",
        "name": "Bananas"
       },
       "grabbable": true,
       "grabbed": false,
       "position": {
        "x": 600.5847953216374,
        "y": 777.7777777777778
       },
       "selectable": false
      }
     },
     "e98dccb95b39424eae315face520792c": {
      "model_module": "jupyter-cytoscape",
      "model_module_version": "^1.3.3",
      "model_name": "NodeModel",
      "state": {
       "_model_module_version": "^1.3.3",
       "_view_module_version": "^1.3.3",
       "data": {
        "bgcolor": "green",
        "id": "d4cfebc2-3e4e-485b-bdec-442240107965",
        "name": ""
       },
       "grabbable": true,
       "grabbed": false,
       "position": {
        "x": 788.3040935672515,
        "y": 873.015873015873
       },
       "selectable": false
      }
     },
     "e9e0f2c7f4b7442d9a4a76f159e009a1": {
      "model_module": "jupyter-cytoscape",
      "model_module_version": "^1.3.3",
      "model_name": "EdgeModel",
      "state": {
       "_model_module_version": "^1.3.3",
       "_view_module_version": "^1.3.3",
       "data": {
        "id": "9d4dda8d-e6f7-48d4-ae5c-7c26ed79ee57",
        "source": "e759148e-2510-4666-b9c4-2f566236eb64",
        "target": "98af4f07-f54a-44ba-afe8-3414c6a6eb66"
       },
       "selectable": false
      }
     },
     "ea03c7ff4c504769a67afed363c8a277": {
      "model_module": "jupyter-cytoscape",
      "model_module_version": "^1.3.3",
      "model_name": "EdgeModel",
      "state": {
       "_model_module_version": "^1.3.3",
       "_view_module_version": "^1.3.3",
       "data": {
        "id": "7d89e180-fb53-46e7-abfc-7856c48491d6",
        "source": "96381f01-a421-4397-b496-eecf7e9257c6",
        "target": "38436942-4600-46a5-838f-391cd0c695e1"
       },
       "selectable": false
      }
     },
     "ea407e3959284e09ae5c9b2f80e3bf2f": {
      "model_module": "jupyter-cytoscape",
      "model_module_version": "^1.3.3",
      "model_name": "EdgeModel",
      "state": {
       "_model_module_version": "^1.3.3",
       "_view_module_version": "^1.3.3",
       "data": {
        "id": "2d8d17ee-f81e-4df5-a1e5-cbfe5292bf5e",
        "source": "5d2759e2-27ae-4aad-93d3-942ceaf985ea",
        "target": "10b9484e-9271-484a-acdc-fca31859f57f"
       },
       "selectable": false
      }
     },
     "ea95c0cbb01542ee99e6bccea34570a5": {
      "model_module": "jupyter-cytoscape",
      "model_module_version": "^1.3.3",
      "model_name": "NodeModel",
      "state": {
       "_model_module_version": "^1.3.3",
       "_view_module_version": "^1.3.3",
       "data": {
        "bgcolor": "red",
        "id": "892eec69-d943-4c11-8ce5-36aea298804f",
        "name": "Truck transport"
       },
       "grabbable": true,
       "grabbed": false,
       "position": {
        "x": 1769.5906432748538,
        "y": 1650.7936507936506
       },
       "selectable": false
      }
     },
     "eabfa5f0561e4dedaf29827fdc4e5ad0": {
      "model_module": "jupyter-cytoscape",
      "model_module_version": "^1.3.3",
      "model_name": "EdgeModel",
      "state": {
       "_model_module_version": "^1.3.3",
       "_view_module_version": "^1.3.3",
       "data": {
        "id": "9a4442ce-be92-4feb-a733-f07e8f52d207",
        "source": "8d33594c-6635-41fe-84c6-d89a9d2309f6",
        "target": "e66dc6c4-12e9-4d62-913e-580c58a120cb"
       },
       "selectable": false
      }
     },
     "eb519ba40dbc4c0bb3edb74765946ff1": {
      "model_module": "jupyter-cytoscape",
      "model_module_version": "^1.3.3",
      "model_name": "NodeModel",
      "state": {
       "_model_module_version": "^1.3.3",
       "_view_module_version": "^1.3.3",
       "data": {
        "bgcolor": "red",
        "id": "e9a20b42-297f-424f-b313-63ead0b4f796",
        "name": "Fuel consumption of Truck transport"
       },
       "grabbable": true,
       "grabbed": false,
       "position": {
        "x": 1769.5906432748538,
        "y": 603.1746031746031
       },
       "selectable": false
      }
     },
     "eb9c3b990f294cef97657a24849ced0f": {
      "model_module": "jupyter-cytoscape",
      "model_module_version": "^1.3.3",
      "model_name": "EdgeModel",
      "state": {
       "_model_module_version": "^1.3.3",
       "_view_module_version": "^1.3.3",
       "data": {
        "id": "fa341c32-8fd1-423e-bae1-f3b28a58db7f",
        "source": "d66086f4-787a-4434-9ae0-5a0a3c37d65a",
        "target": "ad45bd50-79ac-4ba1-8736-d87838cbd0a9"
       },
       "selectable": false
      }
     },
     "ec3f1fd65a22492d9ad50d41c701950f": {
      "model_module": "jupyter-cytoscape",
      "model_module_version": "^1.3.3",
      "model_name": "NodeModel",
      "state": {
       "_model_module_version": "^1.3.3",
       "_view_module_version": "^1.3.3",
       "data": {
        "bgcolor": "red",
        "id": "7913eeac-b459-4dc5-85ab-6dbeac8c673a",
        "name": "Truck transport"
       },
       "grabbable": true,
       "grabbed": false,
       "position": {
        "x": 1351.4619883040934,
        "y": 1460.3174603174602
       },
       "selectable": false
      }
     },
     "ecc2c162e3384e5996b312804609dcd0": {
      "model_module": "jupyter-cytoscape",
      "model_module_version": "^1.3.3",
      "model_name": "NodeModel",
      "state": {
       "_model_module_version": "^1.3.3",
       "_view_module_version": "^1.3.3",
       "data": {
        "bgcolor": "red",
        "id": "d820c402-0064-4edb-af1b-dd0ad3e46812",
        "name": "Lemon Juice Concentrate"
       },
       "grabbable": true,
       "grabbed": false,
       "position": {
        "x": 1769.5906432748538,
        "y": 1936.5079365079366
       },
       "selectable": false
      }
     },
     "edc9a9e96f364dc886626ca8f08b3e37": {
      "model_module": "jupyter-cytoscape",
      "model_module_version": "^1.3.3",
      "model_name": "EdgeModel",
      "state": {
       "_model_module_version": "^1.3.3",
       "_view_module_version": "^1.3.3",
       "data": {
        "id": "fdd8e03b-4def-4507-8721-88572b1668ea",
        "source": "0210e4a1-4728-4d9b-a58b-4f3d2d07de7c",
        "target": "58f98d63-effb-4b23-ac24-5f41a96dd06a"
       },
       "selectable": false
      }
     },
     "eeae0375a8b94d75bd63516368ffb8fa": {
      "model_module": "jupyter-cytoscape",
      "model_module_version": "^1.3.3",
      "model_name": "EdgeModel",
      "state": {
       "_model_module_version": "^1.3.3",
       "_view_module_version": "^1.3.3",
       "data": {
        "id": "a05563b5-a28b-4436-88f7-00c5badb0a7e",
        "source": "123aaa7d-5706-425d-bf28-fea05c29e62e",
        "target": "98af4f07-f54a-44ba-afe8-3414c6a6eb66"
       },
       "selectable": false
      }
     },
     "eff242ad7b3a412c852530eab92ee9cf": {
      "model_module": "jupyter-cytoscape",
      "model_module_version": "^1.3.3",
      "model_name": "EdgeModel",
      "state": {
       "_model_module_version": "^1.3.3",
       "_view_module_version": "^1.3.3",
       "data": {
        "id": "b2276d86-8426-4532-9ebf-4ad7a6e327bb",
        "source": "a934f04e-46ae-463f-9e7a-ed56e3413334",
        "target": "3a2ff2eb-a5b5-4ff7-94f1-72e18f19145c"
       },
       "selectable": false
      }
     },
     "f08ad0fcd0334478afc72a7aec1547c5": {
      "model_module": "jupyter-cytoscape",
      "model_module_version": "^1.3.3",
      "model_name": "NodeModel",
      "state": {
       "_model_module_version": "^1.3.3",
       "_view_module_version": "^1.3.3",
       "data": {
        "bgcolor": "red",
        "id": "09ae7342-5230-4c4a-96c6-0387fdefa295",
        "name": "Sea transport"
       },
       "grabbable": true,
       "grabbed": false,
       "position": {
        "x": 1351.4619883040934,
        "y": 492.06349206349205
       },
       "selectable": false
      }
     },
     "f0c909f5702c4b499cc8da936f3352e7": {
      "model_module": "jupyter-cytoscape",
      "model_module_version": "^1.3.3",
      "model_name": "EdgeModel",
      "state": {
       "_model_module_version": "^1.3.3",
       "_view_module_version": "^1.3.3",
       "data": {
        "id": "6ea38c68-012d-4c2e-9fd3-3c00ede1b6e7",
        "source": "9e8ab4a2-4670-4598-a814-858202a76af1",
        "target": "38436942-4600-46a5-838f-391cd0c695e1"
       },
       "selectable": false
      }
     },
     "f0e6cbb5458345f58cccda55b2b89cf9": {
      "model_module": "jupyter-cytoscape",
      "model_module_version": "^1.3.3",
      "model_name": "EdgeModel",
      "state": {
       "_model_module_version": "^1.3.3",
       "_view_module_version": "^1.3.3",
       "data": {
        "id": "2429773f-fb4d-4816-8442-b836ea5c9099",
        "source": "1d6c31ee-736f-4e95-8207-fb68d598a534",
        "target": "65c98718-3d13-4152-bb03-2d000c1e8f1d"
       },
       "selectable": false
      }
     },
     "f20a568f70f34b2782c3d5c239833308": {
      "model_module": "jupyter-cytoscape",
      "model_module_version": "^1.3.3",
      "model_name": "NodeModel",
      "state": {
       "_model_module_version": "^1.3.3",
       "_view_module_version": "^1.3.3",
       "data": {
        "bgcolor": "red",
        "id": "7b6f503a-368f-41f0-bb08-5d8cfcfc9b9b",
        "name": "Sea transport"
       },
       "grabbable": true,
       "grabbed": false,
       "position": {
        "x": 1769.5906432748538,
        "y": 380.9523809523809
       },
       "selectable": false
      }
     },
     "f2e035fed2274ba39b1cd30a2c2355d1": {
      "model_module": "jupyter-cytoscape",
      "model_module_version": "^1.3.3",
      "model_name": "EdgeModel",
      "state": {
       "_model_module_version": "^1.3.3",
       "_view_module_version": "^1.3.3",
       "data": {
        "id": "b74e6102-87c2-4164-99bf-15d1fb9ec230",
        "source": "a3dc0af4-1bab-468e-a595-d6a4c19b500d",
        "target": "98af4f07-f54a-44ba-afe8-3414c6a6eb66"
       },
       "selectable": false
      }
     },
     "f33e0ef63df74eb59992d676649eda16": {
      "model_module": "jupyter-cytoscape",
      "model_module_version": "^1.3.3",
      "model_name": "NodeModel",
      "state": {
       "_model_module_version": "^1.3.3",
       "_view_module_version": "^1.3.3",
       "data": {
        "bgcolor": "red",
        "id": "e1f12dc9-1aae-4da9-a788-f35757ae2098",
        "name": "Truck transport"
       },
       "grabbable": true,
       "grabbed": false,
       "position": {
        "x": 1769.5906432748538,
        "y": 1301.5873015873017
       },
       "selectable": false
      }
     },
     "f40c8b2458b24f8e8e126518d1082244": {
      "model_module": "jupyter-cytoscape",
      "model_module_version": "^1.3.3",
      "model_name": "NodeModel",
      "state": {
       "_model_module_version": "^1.3.3",
       "_view_module_version": "^1.3.3",
       "data": {
        "bgcolor": "red",
        "id": "5696168d-4a81-4a26-be7e-ac44a10f827f",
        "name": "Bananas"
       },
       "grabbable": true,
       "grabbed": false,
       "position": {
        "x": 600.5847953216374,
        "y": 873.015873015873
       },
       "selectable": false
      }
     },
     "f5b5f80faf164c65a176b78853e6d6ae": {
      "model_module": "jupyter-cytoscape",
      "model_module_version": "^1.3.3",
      "model_name": "NodeModel",
      "state": {
       "_model_module_version": "^1.3.3",
       "_view_module_version": "^1.3.3",
       "data": {
        "bgcolor": "red",
        "id": "31ac49b0-9323-4888-aa77-55040bddd91b",
        "name": "Fuel consumption of Truck transport"
       },
       "grabbable": true,
       "grabbed": false,
       "position": {
        "x": 1769.5906432748538,
        "y": 1015.8730158730158
       },
       "selectable": false
      }
     },
     "f5f5f5d13a104c9994fafaf8b3ab3c4b": {
      "model_module": "jupyter-cytoscape",
      "model_module_version": "^1.3.3",
      "model_name": "EdgeModel",
      "state": {
       "_model_module_version": "^1.3.3",
       "_view_module_version": "^1.3.3",
       "data": {
        "id": "146f5655-00e4-4835-9a3c-5c292553418d",
        "source": "6bdae3f4-ea9f-4b46-98ef-f6043672b880",
        "target": "2aec359d-9c45-47bd-a989-3175bbab03b0"
       },
       "selectable": false
      }
     },
     "f75e66dc616440f89c151752a10a216e": {
      "model_module": "jupyter-cytoscape",
      "model_module_version": "^1.3.3",
      "model_name": "NodeModel",
      "state": {
       "_model_module_version": "^1.3.3",
       "_view_module_version": "^1.3.3",
       "data": {
        "bgcolor": "red",
        "id": "0210e4a1-4728-4d9b-a58b-4f3d2d07de7c",
        "name": "Bananas"
       },
       "grabbable": true,
       "grabbed": false,
       "position": {
        "x": 1351.4619883040934,
        "y": 0
       },
       "selectable": false
      }
     },
     "f8883be8fe2b4966b88750fe852f2f47": {
      "model_module": "jupyter-cytoscape",
      "model_module_version": "^1.3.3",
      "model_name": "NodeModel",
      "state": {
       "_model_module_version": "^1.3.3",
       "_view_module_version": "^1.3.3",
       "data": {
        "bgcolor": "red",
        "id": "af68d978-9677-4a26-812a-2327bcde7205",
        "name": "Truck transport"
       },
       "grabbable": true,
       "grabbed": false,
       "position": {
        "x": 1769.5906432748538,
        "y": 1396.8253968253966
       },
       "selectable": false
      }
     },
     "f8b09b1c41094df086e32e2f0155d8c8": {
      "model_module": "jupyter-cytoscape",
      "model_module_version": "^1.3.3",
      "model_name": "EdgeModel",
      "state": {
       "_model_module_version": "^1.3.3",
       "_view_module_version": "^1.3.3",
       "data": {
        "id": "718eb086-155e-4139-a3c3-f75f398c731d",
        "source": "520154bd-bb42-464c-8da1-090f59e34de2",
        "target": "c09257e2-747e-417c-86eb-c3fd691d0326"
       },
       "selectable": false
      }
     },
     "f8c26a23bff84eb7b83c3568c5d97e84": {
      "model_module": "jupyter-cytoscape",
      "model_module_version": "^1.3.3",
      "model_name": "EdgeModel",
      "state": {
       "_model_module_version": "^1.3.3",
       "_view_module_version": "^1.3.3",
       "data": {
        "id": "d3304191-9016-49a2-a0c6-3f66501e0ea4",
        "source": "68e3f5d9-3750-41d2-8e58-ec5b1aeca988",
        "target": "3314a30e-3f98-448f-b7d4-2a3da0301732"
       },
       "selectable": false
      }
     },
     "f8d8886cc4664569aaa910c17ab5d39b": {
      "model_module": "jupyter-cytoscape",
      "model_module_version": "^1.3.3",
      "model_name": "EdgeModel",
      "state": {
       "_model_module_version": "^1.3.3",
       "_view_module_version": "^1.3.3",
       "data": {
        "id": "63810519-44d6-4235-87bd-5d691798191e",
        "source": "ed5f6791-d732-415f-9c37-0f59fb43cc18",
        "target": "31cf6f20-1095-4f21-b99c-d611c6f1a87d"
       },
       "selectable": false
      }
     },
     "fc885ca7015a4984928682aac8bb1d7e": {
      "model_module": "jupyter-cytoscape",
      "model_module_version": "^1.3.3",
      "model_name": "EdgeModel",
      "state": {
       "_model_module_version": "^1.3.3",
       "_view_module_version": "^1.3.3",
       "data": {
        "id": "8808cbe6-0808-4d5c-8f64-7a17525887b3",
        "source": "c09257e2-747e-417c-86eb-c3fd691d0326",
        "target": "63539165-d850-4577-8c0a-ae6edfb8b910"
       },
       "selectable": false
      }
     },
     "fda8695856604167b4598085ac9dc3f9": {
      "model_module": "jupyter-cytoscape",
      "model_module_version": "^1.3.3",
      "model_name": "EdgeModel",
      "state": {
       "_model_module_version": "^1.3.3",
       "_view_module_version": "^1.3.3",
       "data": {
        "id": "2e0a6a11-b4d9-4162-b4ac-d377bbed3753",
        "source": "1922f28f-803f-439d-95e4-985e9a06b2ba",
        "target": "861ca61d-de22-44e3-aeac-b398e6593cb3"
       },
       "selectable": false
      }
     },
     "fef07f1138ca46f08dbce86b61078f33": {
      "model_module": "jupyter-cytoscape",
      "model_module_version": "^1.3.3",
      "model_name": "NodeModel",
      "state": {
       "_model_module_version": "^1.3.3",
       "_view_module_version": "^1.3.3",
       "data": {
        "bgcolor": "red",
        "id": "051f74f0-4b35-4460-8de3-662530e4f60d",
        "name": "Sea transport"
       },
       "grabbable": true,
       "grabbed": false,
       "position": {
        "x": 1351.4619883040934,
        "y": 682.5396825396825
       },
       "selectable": false
      }
     },
     "ff2c79a413a440d39c465712b3887267": {
      "model_module": "jupyter-cytoscape",
      "model_module_version": "^1.3.3",
      "model_name": "CytoscapeModel",
      "state": {
       "_interaction_handlers": {
        "node": [
         "click"
        ]
       },
       "_model_module_version": "^1.3.3",
       "_view_module_version": "^1.3.3",
       "auto_ungrabify": false,
       "autolock": false,
       "cytoscape_layout": {
        "boundingBox": {
         "h": 2000,
         "w": 2000,
         "x1": 0,
         "x2": 2000,
         "y1": 0,
         "y2": 2000
        },
        "name": "dagre",
        "nodeDimensionsIncludeLabels": true,
        "rankDir": "LR",
        "ranker": "longest-path",
        "spacingFactor": 1
       },
       "cytoscape_style": [
        {
         "css": {
          "background-color": "data(bgcolor)",
          "content": "data(name)",
          "text-valign": "center"
         },
         "selector": "node"
        }
       ],
       "desktop_tap_threshold": 4,
       "graph": "IPY_MODEL_da1a67380d1e4c51aa54a3c3a7a94c1e",
       "headless": false,
       "hide_edges_on_viewport": false,
       "layout": "IPY_MODEL_1f451a08526b40a0b3f84e1af1747d1f",
       "max_zoom": 1e+50,
       "min_zoom": 1e-50,
       "motion_blur": false,
       "motion_blur_opacity": 0.2,
       "panning_enabled": true,
       "pixel_ratio": "auto",
       "rendered_position": {
        "renderedPosition": {
         "x": 100,
         "y": 100
        }
       },
       "selection_type": "single",
       "style_enabled": true,
       "texture_on_viewport": false,
       "tooltip_source": "tooltip",
       "touch_tap_threshold": 8,
       "user_panning_enabled": true,
       "user_zooming_enabled": true,
       "wheel_sensitivity": 1,
       "zoom": 2,
       "zooming_enabled": true
      }
     },
     "ff5e329c567e467c9c0c6efce5a2fc62": {
      "model_module": "jupyter-cytoscape",
      "model_module_version": "^1.3.3",
      "model_name": "EdgeModel",
      "state": {
       "_model_module_version": "^1.3.3",
       "_view_module_version": "^1.3.3",
       "data": {
        "id": "ed3161af-3cc2-4d06-a350-ba46b43b4afd",
        "source": "aefdb020-6f94-47cc-8272-17892b9bddc0",
        "target": "7462a4b0-06dc-45c5-91fb-798ae2ec2c4e"
       },
       "selectable": false
      }
     },
     "ffa5cbf899d14b919c54204de8dd9d89": {
      "model_module": "jupyter-cytoscape",
      "model_module_version": "^1.3.3",
      "model_name": "EdgeModel",
      "state": {
       "_model_module_version": "^1.3.3",
       "_view_module_version": "^1.3.3",
       "data": {
        "id": "50e03c1e-f9f1-438f-9658-080bc776ebc4",
        "source": "e09580d6-b7bd-4870-8686-b869b5e4b9e2",
        "target": "98af4f07-f54a-44ba-afe8-3414c6a6eb66"
       },
       "selectable": false
      }
     }
    },
    "version_major": 2,
    "version_minor": 0
   }
  }
 },
 "nbformat": 4,
 "nbformat_minor": 5
}
