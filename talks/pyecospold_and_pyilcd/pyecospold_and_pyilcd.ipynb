{
 "cells": [
  {
   "cell_type": "markdown",
   "metadata": {},
   "source": [
    "# `pyecospold` and `pyilcd`\n",
    "\n",
    "* Author: Mina Sami\n",
    "* Kernel: `pyecospold`\n",
    "* License: `LICENSE`\n",
    "\n",
    "Configurable developer-friendly libraries to validate, read and write EcoSpold and ILCD xml files.\n",
    "\n",
    "The `pyecospold` and `pyilcd` libraries are available on pypi and conda (channel `cmutel`)."
   ]
  },
  {
   "cell_type": "markdown",
   "metadata": {},
   "source": [
    "#### Imports and configuring defaults"
   ]
  },
  {
   "cell_type": "code",
   "execution_count": null,
   "metadata": {},
   "outputs": [],
   "source": [
    "from pyecospold import parse_file_v1, save_ecopsold_file, validate_file_v1, Defaults\n",
    "\n",
    "# Override defaults if needed, else skip. Defaults are already set.\n",
    "Defaults.config_defaults(\"config/pyecospold_config.ini\")  # Replace with your own config file\n",
    "Defaults.STATIC_DEFAULTS"
   ]
  },
  {
   "cell_type": "markdown",
   "metadata": {},
   "source": [
    "#### Validating files"
   ]
  },
  {
   "cell_type": "code",
   "execution_count": null,
   "metadata": {},
   "outputs": [],
   "source": [
    "# Validate the EcoSpold class against the EcoSpold v1 schema.\n",
    "validate_file_v1(\"data/pyecospold_v1_invalid.xml\")"
   ]
  },
  {
   "cell_type": "markdown",
   "metadata": {},
   "source": [
    "#### Reading files"
   ]
  },
  {
   "cell_type": "code",
   "execution_count": null,
   "metadata": {},
   "outputs": [],
   "source": [
    "# Parse the required XML file to EcoSpold class.\n",
    "ecoSpold = parse_file_v1(\"data/pyecospold_v1.xml\")  # Replace with your own XML file\n",
    "ecoSpold"
   ]
  },
  {
   "cell_type": "markdown",
   "metadata": {},
   "source": [
    "#### Reading attributes"
   ]
  },
  {
   "cell_type": "code",
   "execution_count": null,
   "metadata": {},
   "outputs": [],
   "source": [
    "referenceFunction = ecoSpold.datasets[0].metaInformation.processInformation.referenceFunction\n",
    "referenceFunction.amount"
   ]
  },
  {
   "cell_type": "markdown",
   "metadata": {},
   "source": [
    "#### Setting attributes"
   ]
  },
  {
   "cell_type": "code",
   "execution_count": null,
   "metadata": {},
   "outputs": [],
   "source": [
    "referenceFunction.amount = 2.0\n",
    "referenceFunction.amount"
   ]
  },
  {
   "cell_type": "markdown",
   "metadata": {},
   "source": [
    "#### Writing files"
   ]
  },
  {
   "cell_type": "code",
   "execution_count": null,
   "metadata": {},
   "outputs": [],
   "source": [
    "# Save final EcoSpold class as an XML file, make sure root directory exists.\n",
    "save_ecopsold_file(ecoSpold, \"out/pyecospold_v1_new.xml\")  # Replace with your own path"
   ]
  },
  {
   "cell_type": "markdown",
   "metadata": {},
   "source": [
    "# pyilcd"
   ]
  },
  {
   "cell_type": "markdown",
   "metadata": {},
   "source": [
    "#### Imports and configuring defaults"
   ]
  },
  {
   "cell_type": "code",
   "execution_count": null,
   "metadata": {},
   "outputs": [],
   "source": [
    "from pyilcd import parse_file_contact_dataset, validate_file_contact_dataset, save_ilcd_file, Defaults\n",
    "\n",
    "# Override defaults if needed, else skip. Defaults are already set.\n",
    "Defaults.config_defaults(\"config/pyilcd_config.ini\")  # Replace with your own config file\n",
    "Defaults.STATIC_DEFAULTS"
   ]
  },
  {
   "cell_type": "markdown",
   "metadata": {},
   "source": [
    "#### Validating files"
   ]
  },
  {
   "cell_type": "code",
   "execution_count": null,
   "metadata": {},
   "outputs": [],
   "source": [
    "# Validate the ContactDataset class against the ContactDataset schema.\n",
    "validate_file_contact_dataset(\"data/pyilcd_contact_invalid.xml\")  # Replace with your own XML file"
   ]
  },
  {
   "cell_type": "markdown",
   "metadata": {},
   "source": [
    "#### Reading files"
   ]
  },
  {
   "cell_type": "code",
   "execution_count": null,
   "metadata": {},
   "outputs": [],
   "source": [
    "# Parse the required XML file to ContactDataset class.\n",
    "contactDataset = parse_file_contact_dataset(\"data/pyilcd_contact.xml\")  # Replace with your own XML file\n",
    "contactDataset"
   ]
  },
  {
   "cell_type": "markdown",
   "metadata": {},
   "source": [
    "#### Reading attributes"
   ]
  },
  {
   "cell_type": "code",
   "execution_count": null,
   "metadata": {},
   "outputs": [],
   "source": [
    "## Change whatever attributes you need changing.\n",
    "dataSetInformation = contactDataset.contactInformation.dataSetInformation\n",
    "dataSetInformation.UUID"
   ]
  },
  {
   "cell_type": "markdown",
   "metadata": {},
   "source": [
    "#### Setting attributes"
   ]
  },
  {
   "cell_type": "code",
   "execution_count": null,
   "metadata": {},
   "outputs": [],
   "source": [
    "dataSetInformation.UUID = \"10000000-0000-0000-0000-000000000000\"\n",
    "dataSetInformation.UUID"
   ]
  },
  {
   "cell_type": "markdown",
   "metadata": {},
   "source": [
    "#### Writing files"
   ]
  },
  {
   "cell_type": "code",
   "execution_count": null,
   "metadata": {},
   "outputs": [],
   "source": [
    "## Save final ContactDataset class as an XML file, make sure root directory exists.\n",
    "save_ilcd_file(contactDataset, \"out/sample_contact_new.xml\")  # Replace with your own path"
   ]
  },
  {
   "cell_type": "markdown",
   "metadata": {},
   "source": [
    "# Conclusions\n",
    "\n",
    "## lxmlh\n",
    "\n",
    "lxml helper Python package that accelerates custom parser libraries for new schemas.\n",
    "\n",
    "<img src='images/pypi_lxmlh.png' width='75%' height='100%'></img>\n",
    "\n",
    "## Difference between Schemas\n",
    "\n",
    "<table>\n",
    "  <tr>\n",
    "    <th></th>\n",
    "    <th align='center'>pyecospold</th>\n",
    "    <th align='center'>pyilcd</th>\n",
    "  </tr>\n",
    "  <tr>\n",
    "    <td><b>Variations</b></td>\n",
    "    <td align='center'>2 datasets versions</td>\n",
    "    <td align='center'>6 datasets types</td>\n",
    "  </tr>\n",
    "  <tr>\n",
    "    <td><b>Common Schema</b></td>\n",
    "    <td align='center'>Not Existing</td>\n",
    "    <td align='center'>Existing</td>\n",
    "  </tr>\n",
    "</table>"
   ]
  }
 ],
 "metadata": {
  "kernelspec": {
   "display_name": "Python [conda env:pyecospold]",
   "language": "python",
   "name": "conda-env-pyecospold-py"
  },
  "language_info": {
   "codemirror_mode": {
    "name": "ipython",
    "version": 3
   },
   "file_extension": ".py",
   "mimetype": "text/x-python",
   "name": "python",
   "nbconvert_exporter": "python",
   "pygments_lexer": "ipython3",
   "version": "3.11.5"
  }
 },
 "nbformat": 4,
 "nbformat_minor": 4
}
