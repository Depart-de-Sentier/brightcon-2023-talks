{
 "cells": [
  {
   "cell_type": "markdown",
   "id": "393540b1-6c39-476c-a6e8-c67ccc9a7ad4",
   "metadata": {},
   "source": [
    "# ILCD Importer\n",
    "\n",
    "* Author: Miguel Astudillo\n",
    "* Kernel: `ilcdimporter`\n",
    "* License: [CC-BY-SA-4.0](https://creativecommons.org/licenses/by-sa/4.0/)"
   ]
  },
  {
   "cell_type": "code",
   "execution_count": null,
   "id": "0c341026-8b96-4aa1-866c-0086658fd018",
   "metadata": {},
   "outputs": [],
   "source": [
    "import bw2calc as bc\n",
    "import bw2data as bd\n",
    "import bw2io\n",
    "from pathlib import Path\n",
    "from bw2io.importers.ilcd import ILCDImporter\n",
    "import pandas as pd\n",
    "from IPython.display import display,Image\n",
    "import textwrap\n",
    "import numpy as np"
   ]
  },
  {
   "cell_type": "markdown",
   "id": "e1b17044",
   "metadata": {},
   "source": [
    "# Config"
   ]
  },
  {
   "cell_type": "code",
   "execution_count": null,
   "id": "c979fc33-46b2-4cde-953c-f26f47585840",
   "metadata": {},
   "outputs": [],
   "source": [
    "bw2io.remote.install_project('ecoinvent-3.9.1-biosphere', 'brightcon2023_ilcd', overwrite_existing=True)\n",
    "bd.projects.set_current('brightcon2023_ilcd')"
   ]
  },
  {
   "cell_type": "code",
   "execution_count": null,
   "id": "1caa8418-eccd-4cad-a9df-a49dfe7cfff9",
   "metadata": {},
   "outputs": [],
   "source": [
    "# delete database if present\n",
    "if 'sdk' in bd.databases:\n",
    "    sdk_db = bd.Database('sdk')\n",
    "    sdk_db.deregister()\n",
    "    del sdk_db\n",
    "    "
   ]
  },
  {
   "cell_type": "code",
   "execution_count": null,
   "id": "939fea99-35bc-4efa-aafe-be297c2c6da2",
   "metadata": {},
   "outputs": [],
   "source": [
    "bd.__version__ # tested with version dev18, "
   ]
  },
  {
   "cell_type": "code",
   "execution_count": null,
   "id": "93b13c56",
   "metadata": {},
   "outputs": [],
   "source": [
    "bc.__version__ # the notebook assumes versions > 2.0"
   ]
  },
  {
   "cell_type": "code",
   "execution_count": null,
   "id": "f143fc79",
   "metadata": {},
   "outputs": [],
   "source": [
    "assert bd.__version__[0] >= 4\n",
    "assert bc.__version__[0] >= 2"
   ]
  },
  {
   "cell_type": "code",
   "execution_count": null,
   "id": "81efd088-5be1-4dcd-bbad-b763252bfd78",
   "metadata": {},
   "outputs": [],
   "source": [
    "sorted"
   ]
  },
  {
   "cell_type": "code",
   "execution_count": null,
   "id": "2dd2d897-3a6e-426a-ac06-afdab4b9e35c",
   "metadata": {},
   "outputs": [],
   "source": [
    "gwp100 = ('IPCC 2021', 'climate change', 'global warming potential (GWP100)')\n",
    "assert gwp100 in bd.methods"
   ]
  },
  {
   "cell_type": "markdown",
   "id": "c99781a2-42cc-4c7a-b8e2-e169ebf54d5d",
   "metadata": {},
   "source": [
    "# A Brightway importer for the ILCD data exchange format"
   ]
  },
  {
   "cell_type": "markdown",
   "id": "88782e06",
   "metadata": {},
   "source": [
    "This notebook gives a couple of examples of importing files in the ILCD format into Brightway."
   ]
  },
  {
   "cell_type": "markdown",
   "id": "817591ec",
   "metadata": {},
   "source": [
    "Here are some sources of free ILCD files:\n",
    "- [LCA Commons](https://www.lcacommons.gov/lca-collaboration/)\n",
    "- [GLAD](https://www.globallcadataaccess.org/)"
   ]
  },
  {
   "cell_type": "markdown",
   "id": "58487a64-66c5-4a47-b14b-90c5a5578f82",
   "metadata": {},
   "source": [
    "## 1) JRC test file "
   ]
  },
  {
   "cell_type": "markdown",
   "id": "eb92687c-a41a-4042-ab1c-6b35f4d92841",
   "metadata": {},
   "source": [
    "for testing purposes the JRC provides a test file of the ilcd exchange data format that we'll use in first place [here](https://eplca.jrc.ec.europa.eu/LCDN/developerILCDDataFormat.xhtml). This test file includes some features that are not often available, like a definition of the product system model"
   ]
  },
  {
   "cell_type": "code",
   "execution_count": null,
   "id": "806c2061-8102-492b-b075-22665adfd448",
   "metadata": {},
   "outputs": [],
   "source": [
    "path_to_example = Path('ILCD_sdk_211_simp.zip')\n",
    "sdk = ILCDImporter(dirpath= path_to_example,dbname='sdk')\n",
    "sdk.apply_strategies()\n",
    "sdk.statistics()"
   ]
  },
  {
   "cell_type": "code",
   "execution_count": null,
   "id": "5ca1d753-0767-4b88-b770-8aa5cd19b87e",
   "metadata": {},
   "outputs": [],
   "source": [
    "# try to match to biopshere3 database\n",
    "sdk.match_database('biosphere3',fields=['database','code','unit'],\n",
    "                   kind='biosphere')\n",
    "sdk.statistics()"
   ]
  },
  {
   "cell_type": "code",
   "execution_count": null,
   "id": "66208079-0685-4e05-a8ae-fbee8830bf6e",
   "metadata": {},
   "outputs": [],
   "source": [
    "unlinked_df = pd.DataFrame(sdk.unlinked)"
   ]
  },
  {
   "cell_type": "code",
   "execution_count": null,
   "id": "cb7d122d-6703-450a-82a5-e32e0671414b",
   "metadata": {
    "scrolled": true
   },
   "outputs": [],
   "source": [
    "unlinked_df[['exchanges_name','exchanges_uuid','amount','type']]"
   ]
  },
  {
   "cell_type": "markdown",
   "id": "ae45b3c8-62a4-47d5-b6b6-721800c81711",
   "metadata": {},
   "source": [
    "from the file we can get an idea of what it was meant to be imported"
   ]
  },
  {
   "cell_type": "code",
   "execution_count": null,
   "id": "3ed2640f-ed01-45ed-8c90-544b59a29c06",
   "metadata": {},
   "outputs": [],
   "source": [
    "Image(filename='sdk_product_system_model.png',width=800)"
   ]
  },
  {
   "cell_type": "code",
   "execution_count": null,
   "id": "20389d77-fd64-4afb-bf12-3ebb5b1f9892",
   "metadata": {
    "scrolled": true
   },
   "outputs": [],
   "source": [
    "sdk.drop_unlinked(True)"
   ]
  },
  {
   "cell_type": "code",
   "execution_count": null,
   "id": "0a9a5516-a4fb-4556-8f2b-cc0eb0759512",
   "metadata": {
    "scrolled": true
   },
   "outputs": [],
   "source": [
    "sdk.statistics()"
   ]
  },
  {
   "cell_type": "code",
   "execution_count": null,
   "id": "bd0fac49-308d-405a-b3c8-72b27683798e",
   "metadata": {
    "scrolled": true
   },
   "outputs": [],
   "source": [
    "sdk.write_database()"
   ]
  },
  {
   "cell_type": "code",
   "execution_count": null,
   "id": "d53f46dd-c2ff-42a5-822c-766f4cd3f73f",
   "metadata": {},
   "outputs": [],
   "source": [
    "sdk_db = bd.Database('sdk')"
   ]
  },
  {
   "cell_type": "code",
   "execution_count": null,
   "id": "54356810-4379-4fe1-82a3-c387cce4e7c9",
   "metadata": {},
   "outputs": [],
   "source": [
    "plastic_injection = bd.get_node(name='Plastic injection moulding part (unspecific) - sample')"
   ]
  },
  {
   "cell_type": "code",
   "execution_count": null,
   "id": "b836bb82",
   "metadata": {},
   "outputs": [],
   "source": [
    "plastic_injection"
   ]
  },
  {
   "cell_type": "code",
   "execution_count": null,
   "id": "f804c195-6090-4f81-8d8a-1ee7e424b232",
   "metadata": {},
   "outputs": [],
   "source": [
    "lca = bc.LCA({plastic_injection:1},gwp100)\n",
    "lca.lci()\n",
    "lca.lcia()"
   ]
  },
  {
   "cell_type": "code",
   "execution_count": null,
   "id": "111354ea-5b35-4612-8cf1-c61434bc80c0",
   "metadata": {},
   "outputs": [],
   "source": [
    "A = pd.DataFrame(lca.technosphere_matrix.todense())\n",
    "\n",
    "# format A\n",
    "cols = pd.MultiIndex.from_tuples([(bd.get_activity(key)['name'],\n",
    "bd.get_activity(key)['location'] )for key in lca.activity_dict])\n",
    "\n",
    "rows = pd.MultiIndex.from_tuples([(bd.get_activity(key)['name'],\n",
    "bd.get_activity(key)['location'] )for key in lca.product_dict])\n",
    "A.columns = cols\n",
    "A.index = rows"
   ]
  },
  {
   "cell_type": "code",
   "execution_count": null,
   "id": "35245f98",
   "metadata": {},
   "outputs": [],
   "source": [
    "B = pd.DataFrame(lca.biosphere_matrix.todense())\n",
    "B_rows = pd.MultiIndex.from_tuples([(bd.get_activity(key)['name'],\n",
    "bd.get_activity(key)['categories'] )for key in lca.biosphere_dict])\n",
    "B.index =  B_rows\n",
    "B.columns = cols"
   ]
  },
  {
   "cell_type": "code",
   "execution_count": null,
   "id": "4fdb8dfc-dc3a-499b-9864-f5fcb5958681",
   "metadata": {},
   "outputs": [],
   "source": [
    "def style_negative(v, props=''):\n",
    "    return props if v < 0 else None"
   ]
  },
  {
   "cell_type": "code",
   "execution_count": null,
   "id": "553227ea-9e17-4964-9d98-34cc8bbacab0",
   "metadata": {},
   "outputs": [],
   "source": [
    "A.style.highlight_max(axis=0).map(style_negative, props='color:red;')"
   ]
  },
  {
   "cell_type": "code",
   "execution_count": null,
   "id": "727ec5e1",
   "metadata": {},
   "outputs": [],
   "source": [
    "AB = pd.concat([A,B])"
   ]
  },
  {
   "cell_type": "code",
   "execution_count": null,
   "id": "21272163",
   "metadata": {},
   "outputs": [],
   "source": [
    "# AB.loc[:,[('Plastic injection moulding part (unspecific) - sample',\n",
    "#            'DE')]].replace(0,np.nan).dropna()"
   ]
  },
  {
   "cell_type": "markdown",
   "id": "81d5a31b",
   "metadata": {},
   "source": [
    "Parameters (parsed but exchanges are have not been parameterized)"
   ]
  },
  {
   "cell_type": "code",
   "execution_count": null,
   "id": "daee746b-3c0b-467c-8791-3c5d9964dfad",
   "metadata": {},
   "outputs": [],
   "source": [
    "pd.DataFrame(plastic_injection['parameters']).sample(axis=0).T"
   ]
  },
  {
   "cell_type": "code",
   "execution_count": null,
   "id": "bd44ec38-f56b-412d-b057-f8e2a1ea48c2",
   "metadata": {},
   "outputs": [],
   "source": [
    "pd.DataFrame(plastic_injection.exchanges()).dropna(how='all',axis=1).T"
   ]
  },
  {
   "cell_type": "markdown",
   "id": "ce373829-dd24-47cd-9efb-1fccba04045a",
   "metadata": {},
   "source": [
    "## 2) a random process from GLAD"
   ]
  },
  {
   "cell_type": "markdown",
   "id": "6800636a-08ca-4958-91a8-8f8b1a3bd58f",
   "metadata": {},
   "source": [
    "For ilustrative purposes we've downloaded a file from GLAD. Feel free to pick a different one (https://www.globallcadataaccess.org/)"
   ]
  },
  {
   "cell_type": "code",
   "execution_count": null,
   "id": "b217d398",
   "metadata": {},
   "outputs": [],
   "source": [
    "path_to_example = Path('plastics_europe_example.zip')\n",
    "plastic_eu = ILCDImporter(dirpath= path_to_example,dbname='plastics_europe')\n",
    "plastic_eu.apply_strategies()\n",
    "plastic_eu.statistics()"
   ]
  },
  {
   "cell_type": "markdown",
   "id": "3c351a1f-475a-4ab6-9d9c-e35302063221",
   "metadata": {},
   "source": [
    "One of the complications of importing ILCD files is that the elementary flows almost always follow a different nomenclature that ecoinvent, the default list used in Brightway (and the default impact assessment methods). So often we need to map the nomenclature to the one used by Brightway. Luckly there are stablished mappings to help us:\n",
    "\n",
    "- EF 3.0 -> ecoinvent 3.7 [GLAD](https://github.com/UNEP-Economy-Division/GLAD-ElementaryFlowResources/tree/master/Mapping/Output/Mapped_files)\n",
    "- FEDEFLv1.0.3 -> ecoinvent 3.7 [GLAD](https://github.com/UNEP-Economy-Division/GLAD-ElementaryFlowResources/tree/master/Mapping/Output/Mapped_files)\n",
    "- EF 2.0 -> EF 3.0 [JRC](https://eplca.jrc.ec.europa.eu/permalink/EF_3.0_Complete.zip)\n",
    "- EF 1.1 -> EF 2.0 [JRC](https://eplca.jrc.ec.europa.eu/permalink/EF_2.0_Complete.zip)\n",
    "- ecoinvent 3.7 -> ecoinvent 3.8 [Happy family](https://github.com/Depart-de-Sentier/happy_family/tree/main/Elementary%20flow%20mapping/outputs) \n",
    "- ecoinvent 3.8 -> ecoinvent 3.9 [Happy family](https://github.com/Depart-de-Sentier/happy_family/tree/main/Elementary%20flow%20mapping/outputs)\n"
   ]
  },
  {
   "cell_type": "markdown",
   "id": "e56fbb73-fff6-4393-b7ce-792f7d3c8e5d",
   "metadata": {},
   "source": [
    "if your dataset is defined using EF1.1 (a very common case in the datasets reported in GLAD) then these would need to be converted to whatever version of ecoinvent is being used to define the biosphere3 database"
   ]
  },
  {
   "cell_type": "markdown",
   "id": "41924555-d29e-405d-9f8b-82fd55074f1a",
   "metadata": {},
   "source": [
    "in the [documentation](https://plasticseurope.lca-data.com/datasetdetail/process.xhtml?uuid=b60b30bf-991d-41b8-a295-5d0b2e5f2bb5&version=09.00.000) we can see that it is in ilcd 1.1. "
   ]
  },
  {
   "cell_type": "markdown",
   "id": "bea5d744",
   "metadata": {},
   "source": [
    "To help with this exercise we have created a mapping between ilcd 1.1 and ecoinvent 3.7 using the resources cited above"
   ]
  },
  {
   "cell_type": "code",
   "execution_count": null,
   "id": "32103c6e-1ae5-4510-a264-7872517ae210",
   "metadata": {},
   "outputs": [],
   "source": [
    "mapping_df = pd.read_csv('ilcd11_ecoinvent37.csv').dropna()\n",
    "mapping_dict = mapping_df.dropna().set_index('UUID OLD (ILCD 2016)').uuid_ecoinvent37.to_dict()"
   ]
  },
  {
   "cell_type": "markdown",
   "id": "1673dc23",
   "metadata": {},
   "source": [
    "There is an ilcd strategy that can help, provided that we have a dictionary between the uuids of the biosphere flows in our database and the equivalent uuid in the biosphere3."
   ]
  },
  {
   "cell_type": "code",
   "execution_count": null,
   "id": "3f556c38-6314-44c7-8fe7-c9a419f8e227",
   "metadata": {},
   "outputs": [],
   "source": [
    "plastic_eu.data = bw2io.strategies.ilcd.alternative_map_to_biosphere3(plastic_eu.data,\n",
    "mapping_dict)\n",
    "# do the matching as always\n",
    "plastic_eu.match_database('biosphere3',fields=['database','code','unit'])"
   ]
  },
  {
   "cell_type": "code",
   "execution_count": null,
   "id": "443a1682-6822-48cb-898f-4802ac3f3187",
   "metadata": {},
   "outputs": [],
   "source": [
    "# substantially lower number of unlinked exchanges\n",
    "plastic_eu.statistics()"
   ]
  },
  {
   "cell_type": "markdown",
   "id": "febee4e9",
   "metadata": {},
   "source": [
    "some examples of unlinked exchanges:"
   ]
  },
  {
   "cell_type": "code",
   "execution_count": null,
   "id": "b23d1d36",
   "metadata": {},
   "outputs": [],
   "source": [
    "pd.DataFrame(plastic_eu.unlinked)[['name','category_2','category_1','category_0',]].sample(20)"
   ]
  },
  {
   "cell_type": "markdown",
   "id": "c0fe49af",
   "metadata": {},
   "source": [
    "The \"categories\" / \"context\" definitions are different in ilcd and ecoinvent. To fix the unlinked exchanges the mapping of categories requires assumptions. Some examples: \n",
    "\n",
    "- `Emissions to fresh water` could correspond to a exchange of type `emission` and category `('water', 'surface water')`.\n",
    "- `Emissions to air, unspecified` could corresopnd to exchange of type `emission` and category `('air',)`.\n",
    "- `Emissions to non-agricultural soil` could correspond to exchange of type `emission` and category `('soil', 'industrial')` or `('soil', 'forestry')`.\n",
    "\n",
    "Some are not trivial"
   ]
  },
  {
   "cell_type": "markdown",
   "id": "38998b58",
   "metadata": {},
   "source": [
    "Furthermore, some substances do not have a straightforward equivalent in the biosphere3 database (e.g. `cresol`, `acid (as H+)`, `hexamethylene diamine`, `hard coal; 26.3 MJ/kg`). For others the mapping is easier "
   ]
  },
  {
   "cell_type": "code",
   "execution_count": null,
   "id": "8fe06bc3",
   "metadata": {},
   "outputs": [],
   "source": [
    "category_ilcd11_ecoinvent_dict = {\n",
    "'Emissions to air, unspecified':('air',),\n",
    "'Emissions to sea water':('water', 'ocean'),\n",
    "'Non-renewable material resources from ground':('natural resource', 'in ground'),\n",
    "'Non-renewable energy resources from ground':('natural resource', 'in ground'),\n",
    "'Renewable material resources from water':('natural resource', 'in water'),\n",
    "'Renewable energy resources from water':('natural resource', 'in water'),\n",
    "'Renewable energy resources from biosphere':('natural resource', 'biotic'),\n",
    "}"
   ]
  },
  {
   "cell_type": "code",
   "execution_count": null,
   "id": "c9e4c1e5",
   "metadata": {},
   "outputs": [],
   "source": [
    "for ds in plastic_eu.data:\n",
    "    for exchange in ds['exchanges']:\n",
    "\n",
    "        if 'input' in exchange:\n",
    "            # don't mess the already linked\n",
    "            continue\n",
    "\n",
    "        # in biosphere3 names are capitalised\n",
    "        try:\n",
    "            exchange['name'] = exchange['name'].capitalize()\n",
    "        except AttributeError:\n",
    "            exchange['name'] = exchange['name'][0].capitalize()\n",
    "\n",
    "        for key in category_ilcd11_ecoinvent_dict:\n",
    "\n",
    "            if exchange['category_2'] == key:\n",
    "                exchange['categories'] = category_ilcd11_ecoinvent_dict[key]"
   ]
  },
  {
   "cell_type": "code",
   "execution_count": null,
   "id": "17e6e805",
   "metadata": {},
   "outputs": [],
   "source": [
    "plastic_eu.match_database('biosphere3',fields=['categories','name','unit'])"
   ]
  },
  {
   "cell_type": "code",
   "execution_count": null,
   "id": "0c461268",
   "metadata": {},
   "outputs": [],
   "source": [
    "plastic_eu.statistics()"
   ]
  },
  {
   "cell_type": "markdown",
   "id": "3efe6fa0",
   "metadata": {},
   "source": [
    "slight improvement..  "
   ]
  },
  {
   "cell_type": "code",
   "execution_count": null,
   "id": "a43c8ce1-b099-4886-9342-30e093941a6d",
   "metadata": {},
   "outputs": [],
   "source": [
    "# to test the activity we \n",
    "plastic_eu.drop_unlinked(True)"
   ]
  },
  {
   "cell_type": "code",
   "execution_count": null,
   "id": "9bf7a18d-ffd6-4fd5-ab64-e144bac17490",
   "metadata": {},
   "outputs": [],
   "source": [
    "plastic_eu.write_database()"
   ]
  },
  {
   "cell_type": "code",
   "execution_count": null,
   "id": "9564f432-254c-46d8-b72e-27172a755b28",
   "metadata": {},
   "outputs": [],
   "source": [
    "plastics_eu_act = bd.Database('plastics_europe').random()"
   ]
  },
  {
   "cell_type": "markdown",
   "id": "15eae87b-b054-4ae4-800e-4a6e1ef526e9",
   "metadata": {},
   "source": [
    "a quick tour of the information available"
   ]
  },
  {
   "cell_type": "code",
   "execution_count": null,
   "id": "17e203a9-c73e-4341-94ca-2d24deeea750",
   "metadata": {},
   "outputs": [],
   "source": [
    "print(textwrap.fill(plastics_eu_act['general_comment'],120))"
   ]
  },
  {
   "cell_type": "code",
   "execution_count": null,
   "id": "dbe4f3a7-d975-4d8d-b1ea-d5fb08db6d7d",
   "metadata": {},
   "outputs": [],
   "source": [
    "print(textwrap.fill(plastics_eu_act['intended_application'],120))"
   ]
  },
  {
   "cell_type": "code",
   "execution_count": null,
   "id": "380f88f6-5b81-4218-a71b-9c1923b92015",
   "metadata": {},
   "outputs": [],
   "source": [
    "pd.DataFrame(plastics_eu_act['contacts'])"
   ]
  },
  {
   "cell_type": "code",
   "execution_count": null,
   "id": "7ac855e7-5ef6-444b-bf7b-6e97980849b8",
   "metadata": {
    "scrolled": true
   },
   "outputs": [],
   "source": [
    "pd.DataFrame(plastics_eu_act.exchanges()).sample(3).T"
   ]
  },
  {
   "cell_type": "code",
   "execution_count": null,
   "id": "e502c67a-2d80-4700-b1fc-40a600cb146a",
   "metadata": {},
   "outputs": [],
   "source": [
    "plastics_eu_act.as_dict().keys()"
   ]
  },
  {
   "cell_type": "code",
   "execution_count": null,
   "id": "3740dcbd-15c5-41d3-bacd-63d56482667f",
   "metadata": {},
   "outputs": [],
   "source": [
    "plastics_lca = plastics_eu_act.lca(gwp100)"
   ]
  },
  {
   "cell_type": "code",
   "execution_count": null,
   "id": "062d494e-e772-4b55-a250-5c6aadd29882",
   "metadata": {},
   "outputs": [],
   "source": [
    "plastics_lca.to_dataframe()"
   ]
  },
  {
   "cell_type": "code",
   "execution_count": null,
   "id": "0f9829bb",
   "metadata": {},
   "outputs": [],
   "source": []
  }
 ],
 "metadata": {
  "kernelspec": {
   "display_name": "Python [conda env:ilcdimporter]",
   "language": "python",
   "name": "conda-env-ilcdimporter-py"
  },
  "language_info": {
   "codemirror_mode": {
    "name": "ipython",
    "version": 3
   },
   "file_extension": ".py",
   "mimetype": "text/x-python",
   "name": "python",
   "nbconvert_exporter": "python",
   "pygments_lexer": "ipython3",
   "version": "3.11.5"
  }
 },
 "nbformat": 4,
 "nbformat_minor": 5
}
