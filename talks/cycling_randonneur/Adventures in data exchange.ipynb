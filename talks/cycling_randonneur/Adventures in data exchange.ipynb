{
 "cells": [
  {
   "cell_type": "markdown",
   "id": "725ea692-0b30-4d45-b1b6-5821df5c4380",
   "metadata": {},
   "source": [
    "# Adventures in nomenclature harmonization and data exchange\n",
    "\n",
    "## [happy family](https://github.com/Depart-de-Sentier/happy_family)\n",
    "\n",
    "An attempt to make the awesome [GLAD Elementary Flow Resources](https://github.com/UNEP-Economy-Division/GLAD-ElementaryFlowResources) and [LCIAformatter](https://github.com/USEPA/LCIAformatter/tree/master/lciafmt) more usable in everyday life.\n",
    "\n",
    "* Include necessary metadata\n",
    "* Expand beyond elementary flows to generic inventory data and impact assessment\n",
    "\n",
    "Conclusion: Some useful harmonizations don't fit into CSV, no matter how wide (but talk to the [Hestia folk](https://www.hestia.earth/) to see how wide you can push CSV)!\n",
    "\n",
    "## [simapro_ecoinvent_elementary_flows](https://github.com/brightway-lca/simapro_ecoinvent_elementary_flows)\n",
    "\n",
    "* Use CI to maintain and quality check elementary flow mappings\n",
    "* Teething problems when expanded from 1-to-1 to N-to-M\n",
    "\n",
    "## [randonneur](https://github.com/cmutel/randonneur)\n",
    "\n",
    "Generic format for mapping based on attributes.\n",
    "\n",
    "More proof of concept than working software! Please get in touch to discuss, iterate, and develop."
   ]
  }
 ],
 "metadata": {
  "kernelspec": {
   "display_name": "Python [conda env:conference]",
   "language": "python",
   "name": "conda-env-conference-py"
  },
  "language_info": {
   "codemirror_mode": {
    "name": "ipython",
    "version": 3
   },
   "file_extension": ".py",
   "mimetype": "text/x-python",
   "name": "python",
   "nbconvert_exporter": "python",
   "pygments_lexer": "ipython3",
   "version": "3.11.5"
  }
 },
 "nbformat": 4,
 "nbformat_minor": 5
}
