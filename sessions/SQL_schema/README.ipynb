{
 "cells": [
  {
   "cell_type": "markdown",
   "metadata": {},
   "source": [
    "# Workshop: A more strict SQL schema for Brightway\n",
    "\n",
    "## Backgorund\n",
    "This workshop is about the development of a new Brightway tool, which allows the integration of external SQL databases to Brightway. The tool is wrapped as a python package for easier distribution and consists of three components:\n",
    "\n",
    "1. A sub package which holds the importing and exporting routines.\n",
    "2. A database model (giving the structure of the SQL database)\n",
    "3. A web-app which allows a simple execution of the exporting and importing of data.\n",
    "\n",
    "This new tool is available on github: https://github.com/Blowgren/bw2extdb/tree/main. Follow the link for a description how to install the package (tool)."
   ]
  },
  {
   "cell_type": "markdown",
   "metadata": {},
   "source": [
    "## Structure:\n",
    "1. The workshop starts with a short presentation on the problem setting, objectives, implementation.\n",
    "2. Then the tool is domenstrated using the App\n",
    "3. Group work."
   ]
  },
  {
   "cell_type": "markdown",
   "metadata": {},
   "source": [
    "## Group work tasks:"
   ]
  },
  {
   "cell_type": "markdown",
   "metadata": {},
   "source": [
    "### Group 1: Schema\n",
    "Discuss the nomenclature of the database uising the Miro board: \n",
    "What information should be captured? What variables are needed, and which are optional? What information is missing? \n",
    "**Please use the Miro board and the instructions there**\n",
    "\n",
    "#### In person group\n",
    "Miro board link: https://miro.com/app/board/uXjVMkL72Iw=/?share_link_id=73845247786\n",
    "<br>\n",
    "password: Brightcon2023\n",
    "\n",
    "#### Online group\n",
    "Miro board link https://miro.com/app/board/uXjVMkM13RI=/?share_link_id=292519189831\n",
    "<br>\n",
    "password: Brightcon2023"
   ]
  },
  {
   "cell_type": "markdown",
   "metadata": {},
   "source": [
    "### Group 2: Ontology\n",
    "What would the next steps be towards a standardized explicit ontology and vocabulary? Sketch a knowledge graph of the information which is important to you.\n",
    "**Please use the Miro board and the instructions there**\n",
    "\n",
    "#### In person group\n",
    "Miro board link: https://miro.com/app/board/uXjVMkM13bU=/?share_link_id=927420793507\n",
    "<br>\n",
    "password: Brightcon2023_ontology\n",
    "\n",
    "#### Online group\n",
    "Miro board link: https://miro.com/app/board/uXjVMkM10l4=/?share_link_id=142883491636\n",
    "<br>\n",
    "password: Brightcon2023_ontology"
   ]
  },
  {
   "cell_type": "markdown",
   "metadata": {},
   "source": [
    "### Group 3: Use cases\n",
    "E.g., For those who see a direct use. Discussing practical use cases, what challenges do you see? what variations do you need? how can the program remain generalizable?\n",
    "\n",
    "**Please use the Miro board and the instructions there**\n",
    "\n",
    "#### In person group\n",
    "Miro board link: https://miro.com/app/board/uXjVMkM10nc=/?share_link_id=240594009249\n",
    "<br>\n",
    "password: Brightcon2023_usecase\n",
    "\n",
    "#### Online group\n",
    "Miro board link: https://miro.com/app/board/uXjVMkM10vo=/?share_link_id=848119195138\n",
    "<br>\n",
    "password: Brightcon2023_usecase"
   ]
  },
  {
   "cell_type": "markdown",
   "metadata": {},
   "source": [
    "### Group 4: Individual testing\n",
    "For those of you who do not want to join a group and want to explore the tool themselves. Especially for the online attendees.\n",
    "\n",
    "Two options:\n",
    "1. Go through the two notebooks in this repo\n",
    "2. Install `bw2extdb` (see instructions on https://github.com/Blowgren/bw2extdb/tree/main) and play around with the app.\n",
    "\n",
    "Open the forms: https://forms.gle/xm9BPv3SmUjfkTiC9 which gives you some guiding feedback questions."
   ]
  }
 ],
 "metadata": {
  "language_info": {
   "name": "python"
  },
  "orig_nbformat": 4
 },
 "nbformat": 4,
 "nbformat_minor": 2
}
