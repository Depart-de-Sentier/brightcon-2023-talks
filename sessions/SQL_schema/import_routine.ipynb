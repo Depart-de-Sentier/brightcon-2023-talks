{
 "cells": [
  {
   "cell_type": "markdown",
   "metadata": {},
   "source": [
    "# SQL normalization FTW\n",
    "\n",
    "* Author: Bartolomeus Haeussling Loewgren\n",
    "* Kernel: `bw2extdb`\n",
    "* License: [CC-BY-SA-4.0](https://creativecommons.org/licenses/by-sa/4.0/)\n",
    "\n",
    "## Import routine for `bw2extdb`\n",
    "\n",
    "This import routine example is using the mobility example dataset which has been exported into a SQLite database in the \"Export routine for `bw2extdb`\" (`export_routine.ipynb`). This notebook can only be run if the `export_routine.ipynb` has been run."
   ]
  },
  {
   "cell_type": "code",
   "execution_count": null,
   "metadata": {},
   "outputs": [],
   "source": [
    "import bw2extdb.exportImport.importer as importer\n",
    "import bw2extdb.exportImport.database as database\n",
    "import bw2data\n",
    "from bw2io import bw2setup\n",
    "import pathlib"
   ]
  },
  {
   "cell_type": "markdown",
   "metadata": {},
   "source": [
    "## Create SQL connection\n",
    "The SQL connection is managed by the `engine`. It is a `sqlalchemy` object which is the \"home base\" for the actual database and should only exist once for every connection https://docs.sqlalchemy.org/en/20/core/engines.html"
   ]
  },
  {
   "cell_type": "markdown",
   "metadata": {},
   "source": [
    "We are using SQLite to demonstrate the import routine. Alternative the engine can be created for any other type of SQL database supported by `sqlalchemy` (https://docs.sqlalchemy.org/en/20/core/engines.html#supported-databases), e.g., PostgreSQL, MySQL, MicrosoftSQL. Some of the SQL database engine creation are wrapped as methods in the `bw2extdb.exportImport.database` module, e.g. `create_sqlite_engine` or `create_MSsql_engine`."
   ]
  },
  {
   "cell_type": "markdown",
   "metadata": {},
   "source": [
    "Set the absolute file path of where the SQLite database is located created in the exporting routine in `sqlite_file_path_abs`."
   ]
  },
  {
   "cell_type": "code",
   "execution_count": null,
   "metadata": {},
   "outputs": [],
   "source": [
    "sqlite_file_path_abs: str = 'database.db'"
   ]
  },
  {
   "cell_type": "markdown",
   "metadata": {},
   "source": [
    "We can just ise the `create_sqlite_engine` method in the `database` module of `bw2extdb`. When the egnine is created we must also create the database and the tables in the SQL database, using `create_db_and_tables`. When the database already exist this method only checks if the database model we have matches the database model in the SQL database."
   ]
  },
  {
   "cell_type": "code",
   "execution_count": null,
   "metadata": {
    "scrolled": true
   },
   "outputs": [],
   "source": [
    "engine = database.create_sqlite_engine(sqlite_file_path_abs)\n",
    "database.create_db_and_tables(engine)"
   ]
  },
  {
   "cell_type": "markdown",
   "metadata": {},
   "source": [
    "## Set information for import\n",
    "The smallest instance to be imported is a dataset. The dataset can be found by its name or its ID. Two things must be specified:\n",
    "- `project_name`: the name of the Brightway project where the dataset will be imported to as a new database\n",
    "- `dataset_name`: the name of the dataset in the SQL database specified in the dataset metadata in datasetmetadata table"
   ]
  },
  {
   "cell_type": "code",
   "execution_count": null,
   "metadata": {},
   "outputs": [],
   "source": [
    "project_name = 'import_test'\n",
    "dataset_name = 'Mobility example (for testing)'"
   ]
  },
  {
   "cell_type": "markdown",
   "metadata": {},
   "source": [
    "## Initialize the import \n",
    "\n",
    "The import is an instance of the `LCIImporterSQL` class and is a child of the `LCIImporter` in `bw2io.importers.base_lci`. This class is a structural copy of the `ExcelImporter` in `bw2io.importers.excel`. The complete structure and workflow is identical to how we normally import data with `bw2io`.\n",
    "1. Initialize the importer class with the raw data or the link to the data\n",
    "2. Link all exchanges of the imported dataset to itself and to the existing databases in the projects (e.g., biosphere3 or EcoInvent)\n",
    "3. write the database to the project"
   ]
  },
  {
   "cell_type": "code",
   "execution_count": null,
   "metadata": {},
   "outputs": [],
   "source": [
    "LCIImporter = importer.LCIImporterSql(project_name, dataset_name, engine)"
   ]
  },
  {
   "cell_type": "markdown",
   "metadata": {},
   "source": [
    "## Link the imported database (dataset)\n",
    "\n",
    "This part is unique for every dataset and depends on what other databases the dataset is dependent on, often this is EcoInvent and Biosphere3. The names of the database which the dataset was depent on when exported are available. Normally three types of exchanges must be linked: `biosphere`, `production`, `technosphere`. Normally the `production` exchanges are linked internally. The `technosphere` exchanges are mostly linked internally and to other process-activity-databases. The `biosphere` exchanges are mostly linked to `biosphere3` database which is set up when the brightway project is set-up."
   ]
  },
  {
   "cell_type": "markdown",
   "metadata": {},
   "source": [
    "First activate the project where the dataset has been loaded into:"
   ]
  },
  {
   "cell_type": "code",
   "execution_count": null,
   "metadata": {},
   "outputs": [],
   "source": [
    "bw2data.projects.set_current(project_name)\n",
    "bw2setup()"
   ]
  },
  {
   "cell_type": "markdown",
   "metadata": {},
   "source": [
    "Let's have a look at the dependencies:"
   ]
  },
  {
   "cell_type": "code",
   "execution_count": null,
   "metadata": {},
   "outputs": [],
   "source": [
    "LCIImporter.database_dependencies"
   ]
  },
  {
   "cell_type": "markdown",
   "metadata": {},
   "source": [
    "This toy example has no dependencies, but any other example most probably has!"
   ]
  },
  {
   "cell_type": "markdown",
   "metadata": {},
   "source": [
    "Let's have a look how many exchanges need to be linked"
   ]
  },
  {
   "cell_type": "code",
   "execution_count": null,
   "metadata": {},
   "outputs": [],
   "source": [
    "LCIImporter.statistics()"
   ]
  },
  {
   "cell_type": "markdown",
   "metadata": {},
   "source": [
    "Let's link the biosphere exchanges to the biosphere3 database using the `code` field."
   ]
  },
  {
   "cell_type": "code",
   "execution_count": null,
   "metadata": {},
   "outputs": [],
   "source": [
    "LCIImporter.match_database(\"biosphere3\", fields=[\"code\"], kind=\"biosphere\")\n",
    "LCIImporter.statistics()"
   ]
  },
  {
   "cell_type": "markdown",
   "metadata": {},
   "source": [
    "Hm... Not every biosphere flow is matched, this can either be because the biosphere versions do not match. But this time its actually because there are emission activities in the imported dataset. So lets match the biosphere exchanges internally."
   ]
  },
  {
   "cell_type": "code",
   "execution_count": null,
   "metadata": {},
   "outputs": [],
   "source": [
    "LCIImporter.match_database(fields=['reference product', 'unit', 'location', 'name'], kind='biosphere')\n",
    "LCIImporter.statistics()"
   ]
  },
  {
   "cell_type": "markdown",
   "metadata": {},
   "source": [
    "The production exchanges are linked internally, using the `code` field. This should be the first thing to be done, because the `code` field is the unique identifier from the original database in Brightway and will therefore link correctly "
   ]
  },
  {
   "cell_type": "code",
   "execution_count": null,
   "metadata": {},
   "outputs": [],
   "source": [
    "LCIImporter.match_database(kind=\"production\", fields=[\"code\"])\n",
    "LCIImporter.statistics()"
   ]
  },
  {
   "cell_type": "markdown",
   "metadata": {},
   "source": [
    "The technosphere exchanges are also linked internally first using the `code` field"
   ]
  },
  {
   "cell_type": "code",
   "execution_count": null,
   "metadata": {},
   "outputs": [],
   "source": [
    "LCIImporter.match_database(kind=\"technosphere\", fields=[\"code\"])\n",
    "LCIImporter.statistics()\n",
    "\n",
    "# This could be a match_database statement when there are more databases to be linked to:\n",
    "# LCIImporter.match_database('EcoInvent3.9', kind=\"technosphere\", fields=['reference product', 'unit', 'location', 'name'])"
   ]
  },
  {
   "cell_type": "markdown",
   "metadata": {},
   "source": [
    "**No unlinked exchanges** All exchanges have been matched and the database can be written."
   ]
  },
  {
   "cell_type": "code",
   "execution_count": null,
   "metadata": {},
   "outputs": [],
   "source": [
    "LCIImporter.write_database()"
   ]
  },
  {
   "cell_type": "markdown",
   "metadata": {},
   "source": [
    "Now lets see if the database has been written and if there is something in it:"
   ]
  },
  {
   "cell_type": "code",
   "execution_count": null,
   "metadata": {},
   "outputs": [],
   "source": [
    "bw2data.databases"
   ]
  },
  {
   "cell_type": "markdown",
   "metadata": {},
   "source": [
    "Yes! Seems to be there and an activity:"
   ]
  },
  {
   "cell_type": "code",
   "execution_count": null,
   "metadata": {},
   "outputs": [],
   "source": [
    "bw2data.Database(dataset_name).random().as_dict()"
   ]
  },
  {
   "cell_type": "markdown",
   "metadata": {},
   "source": [
    "Amazing!! It's that easy!"
   ]
  }
 ],
 "metadata": {
  "kernelspec": {
   "display_name": "Python [conda env:bw2extdb]",
   "language": "python",
   "name": "conda-env-bw2extdb-py"
  },
  "language_info": {
   "codemirror_mode": {
    "name": "ipython",
    "version": 3
   },
   "file_extension": ".py",
   "mimetype": "text/x-python",
   "name": "python",
   "nbconvert_exporter": "python",
   "pygments_lexer": "ipython3",
   "version": "3.10.12"
  }
 },
 "nbformat": 4,
 "nbformat_minor": 4
}
