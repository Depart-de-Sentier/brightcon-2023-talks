{
 "cells": [
  {
   "cell_type": "markdown",
   "metadata": {},
   "source": [
    "# SQL normalization FTW\n",
    "\n",
    "* Author: Bartolomeus Haeussling Loewgren\n",
    "* Kernel: `bw2extdb`\n",
    "* License: [CC-BY-SA-4.0](https://creativecommons.org/licenses/by-sa/4.0/)\n",
    "\n",
    "## Export routine for `bw2extdb`\n",
    "\n",
    "This notebook explains how the exporting routine works for a toy data example and a local SQLite database."
   ]
  },
  {
   "cell_type": "code",
   "execution_count": null,
   "metadata": {},
   "outputs": [],
   "source": [
    "import bw2extdb.exportImport.exporter as exporter\n",
    "import bw2extdb.exportImport.database as database\n",
    "\n",
    "import datetime\n",
    "import sqlite3\n",
    "\n",
    "import bw2io\n",
    "import bw2data"
   ]
  },
  {
   "cell_type": "markdown",
   "metadata": {},
   "source": [
    "## Download the toy example and set up Brightway project\n",
    "Here the brightway project from which the dataset is exported from."
   ]
  },
  {
   "cell_type": "code",
   "execution_count": null,
   "metadata": {},
   "outputs": [],
   "source": [
    "project_name = 'bw2extdb_test_export'\n",
    "bw2io.remote.install_project('ecoinvent-3.9.1-biosphere', project_name, overwrite_existing=True)\n",
    "bw2data.projects.set_current(project_name)\n",
    "bw2io.data.add_example_database(overwrite=False)"
   ]
  },
  {
   "cell_type": "markdown",
   "metadata": {},
   "source": [
    "## Define database for export\n",
    "The exporter can export one or many databases from the project at once. When multiple are selected they will be saved as one dataset in the SQL database, which means when that dataset is imported it will be imported as one database into the Brightway project. The reason is that in the project to be exported from the data might be split up into multiple Brightway databases for readability or structure, though they all belong together, e.g., imagine an LCA on a battery, there might be the BW databases \"Anode\", \"Cathode\", \"Assembly\", and \"End-of-life\" though they all describe the \"battery\" database, in this case you would specify `databases` as `[\"Anode\", \"Cathode\", \"Assembly\", \"End-of-life\"]`. They would all be merged into one \"battery\" dataset on the SQL server."
   ]
  },
  {
   "cell_type": "markdown",
   "metadata": {},
   "source": [
    "Let's have a look what databases there are:"
   ]
  },
  {
   "cell_type": "code",
   "execution_count": null,
   "metadata": {},
   "outputs": [],
   "source": [
    "bw2data.databases"
   ]
  },
  {
   "cell_type": "markdown",
   "metadata": {},
   "source": [
    "This toy example only has one database we want to export, so:"
   ]
  },
  {
   "cell_type": "code",
   "execution_count": null,
   "metadata": {},
   "outputs": [],
   "source": [
    "databases = ['Mobility example']"
   ]
  },
  {
   "cell_type": "markdown",
   "metadata": {},
   "source": [
    "### Bisphere version\n",
    "\n",
    "Whenever you are working with the EcoInvent biosphere databases, which is the standard one when seting up a brightway project, you need to know with which biosphere database version you are working with. Since if you try to import the dataset later and are using another `biosphere3` database in that Brightway project, some Biosphere flows might not be able to match. There are two relevant versions `3.8` and `3.9`. The biosphere version of your `biosphere3` database is set when you run `bw2setup()` and is dependent on the `bw2io` version of the virtual environment you are in. Read all about it here: https://github.com/brightway-lca/brightway2-io "
   ]
  },
  {
   "cell_type": "markdown",
   "metadata": {},
   "source": [
    "This toy example has no ecoinvent biosphere database, so we do not need to specify a `bioshere_verion`. Or just say it is `None`:"
   ]
  },
  {
   "cell_type": "code",
   "execution_count": null,
   "metadata": {},
   "outputs": [],
   "source": [
    "biosphere_version = None"
   ]
  },
  {
   "cell_type": "markdown",
   "metadata": {},
   "source": [
    "## Create SQL connection\n",
    "The SQL connection is managed by the `engine`. It is a `sqlalchemy` object which is the \"home base\" for the actual database and should only exist once for every connection https://docs.sqlalchemy.org/en/20/core/engines.html"
   ]
  },
  {
   "cell_type": "markdown",
   "metadata": {},
   "source": [
    "We are using SQLite to demonstrate the import routine. Alternative the engine can be created for any other type of SQL database supported by `sqlalchemy` (https://docs.sqlalchemy.org/en/20/core/engines.html#supported-databases), e.g., PostgreSQL, MySQL, MicrosoftSQL. Some of the SQL database engine creation are wrapped as methods in the `bw2extdb.exportImport.database` module, e.g. `create_sqlite_engine` or `create_MSsql_engine`."
   ]
  },
  {
   "cell_type": "markdown",
   "metadata": {},
   "source": [
    "Set the absolute file path of where you want the sqlite database file to be stored on your disk in `sqlite_file_path_abs`."
   ]
  },
  {
   "cell_type": "code",
   "execution_count": null,
   "metadata": {},
   "outputs": [],
   "source": [
    "sqlite_file_path_abs: str = 'database.db'"
   ]
  },
  {
   "cell_type": "markdown",
   "metadata": {},
   "source": [
    "We can just ise the `create_sqlite_engine` method in the `database` module of `bw2extdb`. When the egnine is created we must also create the database and the tables in the SQL database, using `create_db_and_tables`. When the database already exist this method only checks if the database model we have matches the database model in the SQL database."
   ]
  },
  {
   "cell_type": "code",
   "execution_count": null,
   "metadata": {},
   "outputs": [],
   "source": [
    "import logging\n",
    "\n",
    "logging.basicConfig()\n",
    "logging.getLogger('sqlalchemy').setLevel(logging.ERROR)"
   ]
  },
  {
   "cell_type": "code",
   "execution_count": null,
   "metadata": {},
   "outputs": [],
   "source": [
    "engine = database.create_sqlite_engine(sqlite_file_path_abs)\n",
    "database.create_db_and_tables(engine)"
   ]
  },
  {
   "cell_type": "markdown",
   "metadata": {},
   "source": [
    "## Initialize the LCIExporter \n",
    "\n",
    "The `LCIExporter` is based on the CSV export in `bw2io.export.csv` (https://github.com/brightway-lca/brightway2-io/blob/main/bw2io/export/csv.py) and the exporting routine follows the standard Brightway exporting routine. In general this class extracts the data into object relational mappers (ORM) and are the objects mapping the extracted data to the SQL database. \n",
    "\n",
    "### For the SQL enthusiasts\n",
    "This implementation is using `sqlmodel` package which is a wrapping of `pydantic` and `sqlalchemy` and allows us to check the data if it upholds a specified format given by the classes in `exportImport.models` module. And then directly send it to any SQL database with this structure. Read more about it here https://sqlmodel.tiangolo.com/, "
   ]
  },
  {
   "cell_type": "code",
   "execution_count": null,
   "metadata": {},
   "outputs": [],
   "source": [
    "LCIExporter = exporter.LCIExporter(\n",
    "    project_name=project_name, \n",
    "    databases=databases, \n",
    "    engine=engine, \n",
    "    biosphere_version=biosphere_version\n",
    "    )"
   ]
  },
  {
   "cell_type": "markdown",
   "metadata": {},
   "source": [
    "### Extract the LCI data\n",
    "\n",
    "The activities from the specified databases in extracted. We extract the emission activities and the process activities into two different sets, since they have different data structure.\n",
    "\n",
    "Since we are exporting to a specific data structure all variables in the acitvities and exchanges which are not in the SQL datastructure will not be exorted, every variable which is not exported is returned as a warning below."
   ]
  },
  {
   "cell_type": "code",
   "execution_count": null,
   "metadata": {},
   "outputs": [],
   "source": [
    "import warnings\n",
    "\n",
    "\n",
    "with warnings.catch_warnings():\n",
    "    warnings.simplefilter(\"ignore\")\n",
    "    processactivities, emissionactivities = LCIExporter.extract_lci_data()"
   ]
  },
  {
   "cell_type": "markdown",
   "metadata": {},
   "source": [
    "### Define the metadata\n",
    "\n",
    "The dataset we are exporting to the SQL database must have a descriptive metadata, so that we at a later point can understand what this dataset entails and when it was created and so on.\n",
    "\n",
    "The current metdata to be specified is:\n",
    "\n",
    "`dataset_name`: The name of the dataset, e.g., 'Battery'\n",
    "\n",
    "`dataset_final_date`: The date when the dataset was finialized or the project was finalized\n",
    "\n",
    "`description`: A detailed description of the dataset including all assumption and literature\n",
    "\n",
    "`user_email_addres`: The email address of the user which exports the data\n",
    "\n",
    "`keywords_input`: A list of keywords describing the dataset"
   ]
  },
  {
   "cell_type": "code",
   "execution_count": null,
   "metadata": {},
   "outputs": [],
   "source": [
    "dataset_name = 'Mobility example'\n",
    "dataset_final_date = datetime.date(2022,5,11)\n",
    "description = 'This is a Mobility database with an electic and fuel car and is used as an exmple to demonstrate the export routine for bw2extdb'\n",
    "user_email_addres = 'test.user@protonmail.com'\n",
    "keywords_input = ['test', 'Mobility', 'example']"
   ]
  },
  {
   "cell_type": "code",
   "execution_count": null,
   "metadata": {},
   "outputs": [],
   "source": [
    "datasetmetadata = LCIExporter.create_metadata(\n",
    "    dataset_name=dataset_name, \n",
    "    dataset_final_date=dataset_final_date, \n",
    "    description=description,\n",
    "    user_email_addres=user_email_addres,\n",
    "    keywords_input=keywords_input\n",
    "    )"
   ]
  },
  {
   "cell_type": "markdown",
   "metadata": {},
   "source": [
    "### Check completeness of exported LCI data\n",
    "\n",
    "This method will run through the complete export and import routine using an in memory SQLite database and a temporary Brightway project to see if the exported data can be fully recreated to original data. This method does not need to be run."
   ]
  },
  {
   "cell_type": "code",
   "execution_count": null,
   "metadata": {},
   "outputs": [],
   "source": [
    "LCIExporter.check_activities_completeness(\n",
    "    processactivities, datasetmetadata, emissionactivities=emissionactivities\n",
    "    )\n"
   ]
  },
  {
   "cell_type": "markdown",
   "metadata": {},
   "source": [
    "## Export the data to the SQL database\n",
    "\n",
    "This is the final step and the specified metadata and the extracted LCI data is exported to the SQL database"
   ]
  },
  {
   "cell_type": "code",
   "execution_count": null,
   "metadata": {},
   "outputs": [],
   "source": [
    "LCIExporter.export_to_sql(processactivities, datasetmetadata, emissionactivities=emissionactivities)"
   ]
  },
  {
   "cell_type": "markdown",
   "metadata": {},
   "source": [
    "Let us check if the data has been exported using the sqlite package. This ofcourse only works if we have exported it to a sql file."
   ]
  },
  {
   "cell_type": "code",
   "execution_count": null,
   "metadata": {},
   "outputs": [],
   "source": [
    "conn = sqlite3.connect(sqlite_file_path_abs)\n",
    "c = conn.cursor()\n",
    "c.execute(\n",
    "    \"SELECT * FROM datasetmetadata WHERE dataset_name = ?\", (dataset_name,)\n",
    ")\n",
    "result = c.fetchall()\n",
    "conn.close()\n",
    "result"
   ]
  },
  {
   "cell_type": "code",
   "execution_count": null,
   "metadata": {},
   "outputs": [],
   "source": []
  }
 ],
 "metadata": {
  "kernelspec": {
   "display_name": "Python [conda env:bw2extdb]",
   "language": "python",
   "name": "conda-env-bw2extdb-py"
  },
  "language_info": {
   "codemirror_mode": {
    "name": "ipython",
    "version": 3
   },
   "file_extension": ".py",
   "mimetype": "text/x-python",
   "name": "python",
   "nbconvert_exporter": "python",
   "pygments_lexer": "ipython3",
   "version": "3.10.12"
  }
 },
 "nbformat": 4,
 "nbformat_minor": 4
}
