{
 "cells": [
  {
   "cell_type": "markdown",
   "metadata": {},
   "source": [
    "# Brightway in the Browser\n",
    "\n",
    "* Author: Michael Weinold ([Paul Scherrer Institute](https://www.psi.ch/en/ta) and [ETH Zurich](https://esa.ethz.ch))\n",
    "* Kernel: *any*\n",
    "* License: [CC-BY-SA-4.0](https://creativecommons.org/licenses/by-sa/4.0/)"
   ]
  },
  {
   "cell_type": "markdown",
   "metadata": {},
   "source": [
    "# 1. Brightway Documentation\n",
    "\n",
    "The Brightway documentation has been updated significantly since the last Brightcon conference. It now offers a number of new features:\n",
    "\n",
    "1. It's super easy to contribute! The content is now based on [MyST markdown files](https://myst-parser.readthedocs.io/en/latest/).\n",
    "2. There are now two versions of the documentation: The _latest_ version, which is adapted for `brightway25` and the `legacy` version, which is adapted for `brightway2` (for use with the Activity Browser).\n",
    "3. An example gallery has been added, which contains a number of example notebooks that demonstrate how to use Brightway for specific tasks.\n",
    "4. etc.\n",
    "\n",
    "Go check it out here:\n",
    "\n",
    "🌐 https://docs.brightway.dev\n",
    "\n",
    "# 2. \"Learning Brightway\"\n",
    "\n",
    "\"Learning Brightway\" is a website in the form of a book that contains a growing number of chapters that teach the use of Brightway. \\\n",
    "The content is based on Jupyter Notebooks. It currently offers two extensive chapters (adapted for `brightway2` and `brightway25`) for beginners. \\\n",
    "The website it built using [the Jupyter Book package](https://jupyterbook.org).\n",
    "\n",
    "Go check it out here:\n",
    "\n",
    "🌐 https://learn.brightway.dev\n",
    "\n",
    "# 3. \"Brightway Live\"\n",
    "\n",
    "\"Brightway Live\" is a website where you can run Brightcon directly in the browser - no installation of conda or any other Python packages required. \\\n",
    "It offers a JupyterLab interface in the browser, including the ability to run notebooks and a Python terminal. \\\n",
    "The website is built using a number of tools all built around the [JupyterLite](https://github.com/jupyterlite/jupyterlite) and [Pyodide projects](https://pyodide.org/en/stable/). \n",
    "\n",
    "Go check it out here:\n",
    "\n",
    "🌐 https://live.brightway.dev\n",
    "\n",
    "Go, go, go! Test it out! Try to break it (which won't be too hard, as Michael and Chris have found out during the past weeks)! \\\n",
    "If you find a bug or a new limitation (with respect to the use of Brightway), [please report it](https://github.com/brightway-lca/brightway-live/discussions/new?category=report-limitation). \\\n",
    "There are some known limitations, [which are documented here](https://docs.brightway.dev/projects/live/content/limitations.html). \n",
    "\n",
    "# 4. Documentation Feedback\n",
    "\n",
    "We would love your feedback - please fill out [this short feedback form](https://forms.gle/x5ocfv8wxC5uUyFW6)!"
   ]
  }
 ],
 "metadata": {
  "kernelspec": {
   "display_name": "Python 3 (ipykernel)",
   "language": "python",
   "name": "python3"
  },
  "language_info": {
   "codemirror_mode": {
    "name": "ipython",
    "version": 3
   },
   "file_extension": ".py",
   "mimetype": "text/x-python",
   "name": "python",
   "nbconvert_exporter": "python",
   "pygments_lexer": "ipython3",
   "version": "3.10.10"
  }
 },
 "nbformat": 4,
 "nbformat_minor": 4
}
