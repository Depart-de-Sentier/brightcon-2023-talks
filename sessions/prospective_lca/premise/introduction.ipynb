{
 "cells": [
  {
   "cell_type": "markdown",
   "id": "0224d80c-1553-4b25-9097-238bf678a635",
   "metadata": {},
   "source": [
    "# Premise workshop\n",
    "\n",
    "* Author: Romain Sacchi\n",
    "* Kernel: `premise`\n",
    "* License: [CC-BY-SA-4.0](https://creativecommons.org/licenses/by-sa/4.0/)\n",
    "\n",
    "# I. Introduction to `premise`"
   ]
  },
  {
   "cell_type": "markdown",
   "id": "fa78058f-9c62-410c-8ba2-ac5e96352dcc",
   "metadata": {},
   "source": [
    "`premise` requires an ecoinvent database to build on.\n",
    "This database can either be from a `brihgtway` project, or as *ecoSpold2* files from the [ecoinvent](htpps://ecoinvent.org) website."
   ]
  },
  {
   "cell_type": "markdown",
   "id": "c14603b2-fc07-491c-99d4-96d0521b7902",
   "metadata": {
    "tags": []
   },
   "source": [
    "## I.1 Fetching ecoinvent"
   ]
  },
  {
   "cell_type": "markdown",
   "id": "a7a9d6da-d0bf-4a34-8b0b-14369cde114d",
   "metadata": {},
   "source": [
    "If you do not have a `brightway` project with ecoinvent, here is how to get it."
   ]
  },
  {
   "cell_type": "code",
   "execution_count": null,
   "id": "7baf2cac-d1f4-46f3-ae07-a32e541644e7",
   "metadata": {},
   "outputs": [],
   "source": [
    "import bw2data, bw2io"
   ]
  },
  {
   "cell_type": "code",
   "execution_count": null,
   "id": "ecbefbea-5720-4f98-931b-4c044b646371",
   "metadata": {
    "tags": []
   },
   "outputs": [],
   "source": [
    "bw2io.restore_project_directory(\"/srv/data/projects/ecoinvent38.tar.gz\")\n",
    "bw2data.projects.set_current('brightcon23')"
   ]
  },
  {
   "cell_type": "code",
   "execution_count": null,
   "id": "31b15a24-0378-4f16-b3f1-29d2c0cd083a",
   "metadata": {},
   "outputs": [],
   "source": [
    "bw2data.databases"
   ]
  },
  {
   "cell_type": "markdown",
   "id": "9567204a-6312-464b-b669-a68be8b24082",
   "metadata": {},
   "source": [
    "## I.2 The premise bit"
   ]
  },
  {
   "cell_type": "code",
   "execution_count": null,
   "id": "daf742db-4fd0-4e9c-968d-a8962b250caa",
   "metadata": {
    "tags": []
   },
   "outputs": [],
   "source": [
    "from premise import *"
   ]
  },
  {
   "cell_type": "markdown",
   "id": "a1baa659-60e7-4a50-a3ab-3cdb8a00dda4",
   "metadata": {},
   "source": [
    "### I.2.1 With ecoinvent in a brightway project"
   ]
  },
  {
   "cell_type": "code",
   "execution_count": null,
   "id": "51fa73e6-c34c-433a-8a3a-f239619d6326",
   "metadata": {
    "tags": []
   },
   "outputs": [],
   "source": [
    "ndb = NewDatabase(\n",
    "    scenarios=[\n",
    "        {\"model\":\"image\", \"pathway\":\"SSP2-RCP19\", \"year\":2050},\n",
    "        {\"model\":\"remind\", \"pathway\":\"SSP2-PkBudg500\", \"year\":2050},\n",
    "    ],\n",
    "    source_db=\"ecoinvent 3.8 cutoff\", # <-- name of the database in the BW2 project. Must be a string.\n",
    "    source_version=\"3.8\", # <-- version of ecoinvent. Can be \"3.5\", \"3.6\", \"3.7\" or \"3.8\". Must be a string.\n",
    "    key='tUePmX_S5B8ieZkkM7WUU2CnO8SmShwmAeWK9x2rTFo=' # <-- decryption key\n",
    "    # to be requested from the library maintainers if you want ot use default scenarios included in `premise`\n",
    ")"
   ]
  },
  {
   "cell_type": "markdown",
   "id": "1211e3ba-a807-4b70-832e-68f323a3fed9",
   "metadata": {},
   "source": [
    "### I.2.2 Or from ecoSpold2 files"
   ]
  },
  {
   "cell_type": "code",
   "execution_count": null,
   "id": "1afde6b8-3dde-42ce-a330-17d98d2e9165",
   "metadata": {
    "tags": []
   },
   "outputs": [],
   "source": [
    "ndb = NewDatabase(\n",
    "        scenarios=[\n",
    "            {\"model\":\"image\", \"pathway\":\"SSP2-RCP19\", \"year\":2050},\n",
    "            {\"model\":\"remind\", \"pathway\":\"SSP2-PkBudg500\", \"year\":2050},\n",
    "        ],      \n",
    "        source_type=\"ecospold\", # <--- this is NEW\n",
    "        source_file_path=\"/Users/romain/Downloads/ecoinvent 3.8_cutoff_ecoSpold02/datasets\", # <-- this is NEW\n",
    "        source_version=\"3.8\",\n",
    ")\n"
   ]
  },
  {
   "cell_type": "markdown",
   "id": "acd14aeb-ca46-4482-a305-55fffcf06b9e",
   "metadata": {},
   "source": [
    "### I.3 Printing out scenario data"
   ]
  },
  {
   "cell_type": "code",
   "execution_count": null,
   "id": "b77377df-a725-4593-b4c5-4d4d882404f8",
   "metadata": {},
   "outputs": [],
   "source": [
    "ndb.generate_scenario_report()"
   ]
  },
  {
   "cell_type": "markdown",
   "id": "5b1060de-0a11-455b-a1e1-2857d82b48dc",
   "metadata": {},
   "source": [
    "### I.4 Exploring the database"
   ]
  },
  {
   "cell_type": "code",
   "execution_count": null,
   "id": "c2b9b007-70f5-463d-800f-75de99942156",
   "metadata": {
    "tags": []
   },
   "outputs": [],
   "source": [
    "# print the first activity\n",
    "ndb.scenarios[0][\"database\"][0]"
   ]
  },
  {
   "cell_type": "code",
   "execution_count": null,
   "id": "1f2965cc-be06-47ca-8701-c0eeb1943337",
   "metadata": {
    "tags": []
   },
   "outputs": [],
   "source": [
    "# printing all non-ecoinvent datasets\n",
    "ds = (d for d in ndb.scenarios[0][\"database\"] if d.get(\"database\") != \"ecoinvent 3.8 cutoff\")\n",
    "for d in ds:\n",
    "    print(d[\"name\"])"
   ]
  },
  {
   "cell_type": "markdown",
   "id": "33f403fa-b2ea-4069-a55a-59dd5966dc5c",
   "metadata": {},
   "source": [
    "### I.5 updating the electricity sector"
   ]
  },
  {
   "cell_type": "markdown",
   "id": "267090d1-fa67-4229-9475-178d6bad9beb",
   "metadata": {
    "tags": []
   },
   "source": [
    "ndb.update_electricity()"
   ]
  },
  {
   "cell_type": "markdown",
   "id": "276f4224-0f88-46df-a189-67991f6e3fb9",
   "metadata": {},
   "source": [
    "### I.6 Or everything!"
   ]
  },
  {
   "cell_type": "code",
   "execution_count": null,
   "id": "6d7cf19d-83f7-4919-b386-50b50d423754",
   "metadata": {},
   "outputs": [],
   "source": [
    "ndb.update_all()"
   ]
  },
  {
   "cell_type": "markdown",
   "id": "997920dc-8569-4cb2-9cd8-b3b0e1a8abe3",
   "metadata": {},
   "source": [
    "# II. Export"
   ]
  },
  {
   "cell_type": "markdown",
   "id": "169270da-bb71-46e3-969b-856927b43aec",
   "metadata": {},
   "source": [
    "## II.1 Export back to a `brightway` project"
   ]
  },
  {
   "cell_type": "code",
   "execution_count": null,
   "id": "186a3076-e0c6-47df-8452-b13ea43a075e",
   "metadata": {},
   "outputs": [],
   "source": [
    "ndb.write_db_to_brightway(\"my prospective db\")"
   ]
  },
  {
   "cell_type": "markdown",
   "id": "a5c2d572-6eef-464b-8c23-bbd79954db85",
   "metadata": {},
   "source": [
    "## II.2 Export to Simapro"
   ]
  },
  {
   "cell_type": "markdown",
   "id": "a0a8dc94-2152-484e-94fb-86ca3a6d9ec9",
   "metadata": {},
   "source": [
    "ndb.write_db_to_simapro()"
   ]
  },
  {
   "cell_type": "markdown",
   "id": "c833a862-0e7e-4eb9-bf91-b85cf73e16d3",
   "metadata": {},
   "source": [
    "## II.3 Superstructure databases and `activity-browser`"
   ]
  },
  {
   "cell_type": "code",
   "execution_count": null,
   "id": "0f372584-be35-4e73-a54e-19803b0cf72b",
   "metadata": {},
   "outputs": [],
   "source": [
    "ndb = NewDatabase(\n",
    "        scenarios=[\n",
    "            {\"model\":\"remind\", \"pathway\":\"SSP2-PkBudg500\", \"year\":2020},\n",
    "            {\"model\":\"remind\", \"pathway\":\"SSP2-PkBudg500\", \"year\":2050},\n",
    "            {\"model\":\"remind\", \"pathway\":\"SSP2-PkBudg500\", \"year\":2080},\n",
    "        ],      \n",
    "        source_type=\"ecospold\", # <--- this is NEW\n",
    "        source_file_path=\"/Users/romain/Downloads/ecoinvent 3.8_cutoff_ecoSpold02/datasets\", # <-- this is NEW\n",
    "        source_version=\"3.8\",\n",
    ")\n",
    "ndb.update_electricity()\n",
    "ndb.write_superstructure_db_to_brightway()"
   ]
  },
  {
   "cell_type": "markdown",
   "id": "969d53f3-70f9-4585-9483-3f2b7838766c",
   "metadata": {},
   "source": [
    "## II.4 Or share the databases as datapackage"
   ]
  },
  {
   "cell_type": "code",
   "execution_count": null,
   "id": "3adade46-97e7-460f-90fd-27e48eedfb77",
   "metadata": {},
   "outputs": [],
   "source": [
    "ndb.write_datapackage()"
   ]
  },
  {
   "cell_type": "markdown",
   "id": "fc861fcc-6e00-4d4f-aa3e-a1623016a131",
   "metadata": {},
   "source": [
    "# III. Unfold datapackages"
   ]
  },
  {
   "cell_type": "markdown",
   "id": "4c89685b-34de-42bc-b00e-4a63a9e5f582",
   "metadata": {},
   "source": [
    "## III.1 Unfold from an online or local repository"
   ]
  },
  {
   "cell_type": "code",
   "execution_count": null,
   "id": "1dcacdcd-cee2-474f-a5e5-df3978efbb2e",
   "metadata": {},
   "outputs": [],
   "source": [
    "from unfold import Unfold\n",
    "fp = \"/Users/romain/Downloads/premise_remind_ssp2_base.zip\"\n",
    "u = Unfold(fp)"
   ]
  },
  {
   "cell_type": "code",
   "execution_count": null,
   "id": "344bbe71-e3ac-4bdc-9c16-2b7300ef8349",
   "metadata": {},
   "outputs": [],
   "source": []
  }
 ],
 "metadata": {
  "kernelspec": {
   "display_name": "Python [conda env:premise]",
   "language": "python",
   "name": "conda-env-premise-py"
  },
  "language_info": {
   "codemirror_mode": {
    "name": "ipython",
    "version": 3
   },
   "file_extension": ".py",
   "mimetype": "text/x-python",
   "name": "python",
   "nbconvert_exporter": "python",
   "pygments_lexer": "ipython3",
   "version": "3.11.5"
  }
 },
 "nbformat": 4,
 "nbformat_minor": 5
}
